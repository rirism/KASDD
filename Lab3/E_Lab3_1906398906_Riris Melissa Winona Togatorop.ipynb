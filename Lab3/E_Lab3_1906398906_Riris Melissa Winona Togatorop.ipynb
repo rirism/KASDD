{
  "cells": [
    {
      "cell_type": "markdown",
      "metadata": {
        "id": "TKTOBclz75se"
      },
      "source": [
        "<center>\n",
        "<img src=\"https://drive.google.com/uc?id=1f1gGVI-rxcHjA90WEGNvvtSXF1pAxQwg\" alt=\"Fasilkom UI\" width=\"300\"/>\n",
        "\n",
        "CSGE603130 • Kecerdasan Artifisial dan Sains Data Dasar\n",
        "\n",
        "Semester Gasal 2022/2023\n",
        "\n",
        "Fakultas Ilmu Komputer, Universitas Indonesia\n",
        "\n",
        "##**Lab 3: *Data Preprocessing & Dimensionality Reduction***\n",
        "\n",
        "###**Tenggat Waktu: 24 September  2022, 23.55 WIB**\n",
        "</center>\n",
        "\n",
        "####**Ketentuan:**\n",
        "\n",
        "1. Dokumen *template* lab dengan format .ipynb dan dataset (jika dibutuhkan) telah disediakan di SCeLe\n",
        "2. Jalankan kode pada dokumen .ipynb dan perhatikan dengan saksama apa yang potongan kode tersebut lakukan beserta dengan keluarannya. Jawablah **pertanyaan yang disisipkan** pada potongan program yang diberikan.\n",
        "3. Dokumen Jupyter Notebook yang telah dilengkapi dengan jawaban dikumpulkan dengan format penamaan **Kelas_Lab3_NPM_Nama.ipynb**. Contoh: A_Lab3_2006123456_Budi.ipynb\n",
        "4. Kumpulkan dokumen tersebut pada submisi yang telah disediakan di SCeLe sesuai dengan kelas masing-masing sebelum **24 September 2022, 23.55 WIB**. Keterlambatan pengumpulan akan dikenakan pinalti.\n",
        "5. Lab ini dirancang sebagai **tugas mandiri**. Plagiarisme tidak diperkenankan dalam bentuk apapun. Adapun kolaborasi berupa diskusi (tanpa menyalin maupun mengambil jawaban orang lain) dan literasi masih diperbolehkan dengan mencantumkan kolaborator dan sumber.\n"
      ]
    },
    {
      "cell_type": "markdown",
      "metadata": {
        "id": "HloCaoZB8Hdr"
      },
      "source": [
        "## **Pernyataan Integritas**\n",
        "\n",
        "Wajib diisi. Tanpa pernyataan integritas submisi akan dikenakan pinalti."
      ]
    },
    {
      "cell_type": "code",
      "execution_count": 1,
      "metadata": {
        "id": "hFvDp8qSz-RU"
      },
      "outputs": [],
      "source": [
        "# Isi dengan data diri Anda\n",
        "NAMA = \"Riris Melissa Winona Togatorop\"\n",
        "KELAS = \"E\"\n",
        "NPM = \"1906398906\"\n",
        "\n",
        "# Isi dengan NPM teman yang berdiskusi dengan Anda\n",
        "KOLABORATOR = []\n",
        "\n",
        "# Isi dengan sumber referensi yang Anda gunakan dalam mengerjakan\n",
        "REFERENSI = ['https://algorit.ma/blog/principal-component-analysis-2022/', 'https://www.oreilly.com/library/view/hands-on-machine-learning/9781788393485', 'https://scikit-learn.org/stable/modules/generated/sklearn.decomposition.PCA.html']"
      ]
    },
    {
      "cell_type": "code",
      "execution_count": 2,
      "metadata": {
        "colab": {
          "base_uri": "https://localhost:8080/"
        },
        "id": "y-k0CCamOkcZ",
        "outputId": "7725a1d8-42fd-4fc8-b6c6-78f1bbd34020"
      },
      "outputs": [
        {
          "name": "stdout",
          "output_type": "stream",
          "text": [
            "Saya, Riris Melissa Winona Togatorop dari kelas E dengan NPM 1906398906, menyatakan bahwa seluruh jawaban pada pekerjaan ini murni saya kerjakan sendiri.\n",
            "Saya tidak mencontek jawaban, memberikan jawaban, maupun menyalin dari sumber manapun.\n",
            " \n",
            "Jika saya melanggar pernyataan tersebut, saya siap menerima konsekuensi apapun yang diberikan.\n",
            "   (Riris Melissa Winona Togatorop)\n"
          ]
        }
      ],
      "source": [
        "PERNYATAAN_INTEGRITAS = \"Saya, %s dari kelas %s dengan NPM %s, menyatakan bahwa seluruh jawaban pada pekerjaan ini murni saya kerjakan sendiri.\\n\\\n",
        "Saya tidak mencontek jawaban, memberikan jawaban, maupun menyalin dari sumber manapun.\\n \\\n",
        "\\n\\\n",
        "Jika saya melanggar pernyataan tersebut, saya siap menerima konsekuensi apapun yang diberikan.\\n   \\\n",
        "(%s)\" % (NAMA, KELAS, NPM, NAMA)\n",
        "\n",
        "print(PERNYATAAN_INTEGRITAS)"
      ]
    },
    {
      "cell_type": "markdown",
      "metadata": {
        "id": "b-rPY0F5Vevh"
      },
      "source": [
        "## **Preprocessing pada Car Price Dataset**\n",
        "\n",
        "Sumber: https://www.kaggle.com/datasets/hellbuoy/car-price-prediction, dengan beberapa perubahan\n"
      ]
    },
    {
      "cell_type": "markdown",
      "metadata": {
        "id": "j9pb-VsmOVFs"
      },
      "source": [
        "### **Variable Descriptions:**\n",
        "\n",
        "- `CarName`: nama jenis mobil\n",
        "- `fueltype`: jenis bahan bakar \n",
        "- `aspiration`: tipe mesin mobil (naturally aspirated atau turbo)\n",
        "- `doornumber`: jumlah pintu mobil\n",
        "- `driverwheel`: sistem kemudi roda mobil\n",
        "- `carbody`: style mobil\n",
        "- `enginelocation`: letak mesin mobil\n",
        "- `wheelbase`: jarak antar roda depan dan roda belakang mobil dalam inch\n",
        "- `carlenght`: panjang mobil\n",
        "- `carwidth`: lebar mobil\n",
        "- `enginetype`: tipe mesin mobil\n",
        "- `cylindernumber`: jumlah cylinder\n",
        "- `enginesize`: ukuran mesin\n",
        "- `fuelsystem`: sistem bahan bakar\n",
        "- `compressionratio`: rasio kompresi mobil\n",
        "- `horsepower`: horsepower mobil\n",
        "- `peakrpm`: batas rpm\n",
        "- `citympg`: mpg di kota\n",
        "- `highwaympg`: mpg di highway\n",
        "\n",
        "\n",
        "Target variable — `price`: harga mobil"
      ]
    },
    {
      "cell_type": "markdown",
      "metadata": {
        "id": "ThEcWldxOVFe"
      },
      "source": [
        "### Import Library dan Data"
      ]
    },
    {
      "cell_type": "code",
      "execution_count": 3,
      "metadata": {
        "id": "o0LtLOPfOVFl"
      },
      "outputs": [],
      "source": [
        "import pandas as pd\n",
        "import numpy as np\n",
        "\n",
        "import matplotlib.pyplot as plt\n",
        "import seaborn as sns\n",
        "import scipy.stats as scp\n",
        "\n",
        "from sklearn.preprocessing import LabelEncoder, Normalizer, StandardScaler"
      ]
    },
    {
      "cell_type": "code",
      "execution_count": 4,
      "metadata": {
        "colab": {
          "base_uri": "https://localhost:8080/",
          "height": 672
        },
        "id": "jJsIcJGWOVFo",
        "outputId": "41e86d66-c5f5-4e2e-daef-4435b9c65e00"
      },
      "outputs": [
        {
          "data": {
            "text/html": [
              "<div>\n",
              "<style scoped>\n",
              "    .dataframe tbody tr th:only-of-type {\n",
              "        vertical-align: middle;\n",
              "    }\n",
              "\n",
              "    .dataframe tbody tr th {\n",
              "        vertical-align: top;\n",
              "    }\n",
              "\n",
              "    .dataframe thead th {\n",
              "        text-align: right;\n",
              "    }\n",
              "</style>\n",
              "<table border=\"1\" class=\"dataframe\">\n",
              "  <thead>\n",
              "    <tr style=\"text-align: right;\">\n",
              "      <th></th>\n",
              "      <th>CarName</th>\n",
              "      <th>fueltype</th>\n",
              "      <th>aspiration</th>\n",
              "      <th>doornumber</th>\n",
              "      <th>carbody</th>\n",
              "      <th>drivewheel</th>\n",
              "      <th>enginelocation</th>\n",
              "      <th>wheelbase</th>\n",
              "      <th>carlength</th>\n",
              "      <th>carwidth</th>\n",
              "      <th>...</th>\n",
              "      <th>enginetype</th>\n",
              "      <th>cylindernumber</th>\n",
              "      <th>enginesize</th>\n",
              "      <th>fuelsystem</th>\n",
              "      <th>compressionratio</th>\n",
              "      <th>horsepower</th>\n",
              "      <th>peakrpm</th>\n",
              "      <th>citympg</th>\n",
              "      <th>highwaympg</th>\n",
              "      <th>price</th>\n",
              "    </tr>\n",
              "  </thead>\n",
              "  <tbody>\n",
              "    <tr>\n",
              "      <th>0</th>\n",
              "      <td>alfa-romero</td>\n",
              "      <td>gas</td>\n",
              "      <td>std</td>\n",
              "      <td>2.0</td>\n",
              "      <td>convertible</td>\n",
              "      <td>rwd</td>\n",
              "      <td>front</td>\n",
              "      <td>88.6</td>\n",
              "      <td>168.8</td>\n",
              "      <td>64.1</td>\n",
              "      <td>...</td>\n",
              "      <td>dohc</td>\n",
              "      <td>4.0</td>\n",
              "      <td>130</td>\n",
              "      <td>mpfi</td>\n",
              "      <td>9.0</td>\n",
              "      <td>111</td>\n",
              "      <td>5000</td>\n",
              "      <td>21</td>\n",
              "      <td>27</td>\n",
              "      <td>13495.0</td>\n",
              "    </tr>\n",
              "    <tr>\n",
              "      <th>1</th>\n",
              "      <td>alfa-romero</td>\n",
              "      <td>gas</td>\n",
              "      <td>std</td>\n",
              "      <td>2.0</td>\n",
              "      <td>convertible</td>\n",
              "      <td>rwd</td>\n",
              "      <td>front</td>\n",
              "      <td>88.6</td>\n",
              "      <td>168.8</td>\n",
              "      <td>64.1</td>\n",
              "      <td>...</td>\n",
              "      <td>dohc</td>\n",
              "      <td>4.0</td>\n",
              "      <td>130</td>\n",
              "      <td>mpfi</td>\n",
              "      <td>9.0</td>\n",
              "      <td>111</td>\n",
              "      <td>5000</td>\n",
              "      <td>21</td>\n",
              "      <td>27</td>\n",
              "      <td>16500.0</td>\n",
              "    </tr>\n",
              "    <tr>\n",
              "      <th>2</th>\n",
              "      <td>alfa-romero</td>\n",
              "      <td>gas</td>\n",
              "      <td>std</td>\n",
              "      <td>2.0</td>\n",
              "      <td>hatchback</td>\n",
              "      <td>rwd</td>\n",
              "      <td>front</td>\n",
              "      <td>94.5</td>\n",
              "      <td>171.2</td>\n",
              "      <td>65.5</td>\n",
              "      <td>...</td>\n",
              "      <td>ohcv</td>\n",
              "      <td>6.0</td>\n",
              "      <td>152</td>\n",
              "      <td>mpfi</td>\n",
              "      <td>9.0</td>\n",
              "      <td>154</td>\n",
              "      <td>5000</td>\n",
              "      <td>19</td>\n",
              "      <td>26</td>\n",
              "      <td>16500.0</td>\n",
              "    </tr>\n",
              "    <tr>\n",
              "      <th>3</th>\n",
              "      <td>audi</td>\n",
              "      <td>gas</td>\n",
              "      <td>std</td>\n",
              "      <td>4.0</td>\n",
              "      <td>sedan</td>\n",
              "      <td>fwd</td>\n",
              "      <td>front</td>\n",
              "      <td>99.8</td>\n",
              "      <td>176.6</td>\n",
              "      <td>66.2</td>\n",
              "      <td>...</td>\n",
              "      <td>ohc</td>\n",
              "      <td>4.0</td>\n",
              "      <td>109</td>\n",
              "      <td>mpfi</td>\n",
              "      <td>10.0</td>\n",
              "      <td>102</td>\n",
              "      <td>5500</td>\n",
              "      <td>24</td>\n",
              "      <td>30</td>\n",
              "      <td>13950.0</td>\n",
              "    </tr>\n",
              "    <tr>\n",
              "      <th>4</th>\n",
              "      <td>audi</td>\n",
              "      <td>gas</td>\n",
              "      <td>std</td>\n",
              "      <td>4.0</td>\n",
              "      <td>sedan</td>\n",
              "      <td>4wd</td>\n",
              "      <td>front</td>\n",
              "      <td>99.4</td>\n",
              "      <td>176.6</td>\n",
              "      <td>66.4</td>\n",
              "      <td>...</td>\n",
              "      <td>ohc</td>\n",
              "      <td>5.0</td>\n",
              "      <td>136</td>\n",
              "      <td>mpfi</td>\n",
              "      <td>8.0</td>\n",
              "      <td>115</td>\n",
              "      <td>5500</td>\n",
              "      <td>18</td>\n",
              "      <td>22</td>\n",
              "      <td>17450.0</td>\n",
              "    </tr>\n",
              "    <tr>\n",
              "      <th>...</th>\n",
              "      <td>...</td>\n",
              "      <td>...</td>\n",
              "      <td>...</td>\n",
              "      <td>...</td>\n",
              "      <td>...</td>\n",
              "      <td>...</td>\n",
              "      <td>...</td>\n",
              "      <td>...</td>\n",
              "      <td>...</td>\n",
              "      <td>...</td>\n",
              "      <td>...</td>\n",
              "      <td>...</td>\n",
              "      <td>...</td>\n",
              "      <td>...</td>\n",
              "      <td>...</td>\n",
              "      <td>...</td>\n",
              "      <td>...</td>\n",
              "      <td>...</td>\n",
              "      <td>...</td>\n",
              "      <td>...</td>\n",
              "      <td>...</td>\n",
              "    </tr>\n",
              "    <tr>\n",
              "      <th>155</th>\n",
              "      <td>plymouth</td>\n",
              "      <td>gas</td>\n",
              "      <td>std</td>\n",
              "      <td>4.0</td>\n",
              "      <td>hatchback</td>\n",
              "      <td>fwd</td>\n",
              "      <td>front</td>\n",
              "      <td>93.7</td>\n",
              "      <td>157.3</td>\n",
              "      <td>63.8</td>\n",
              "      <td>...</td>\n",
              "      <td>ohc</td>\n",
              "      <td>4.0</td>\n",
              "      <td>90</td>\n",
              "      <td>2bbl</td>\n",
              "      <td>9.4</td>\n",
              "      <td>68</td>\n",
              "      <td>5500</td>\n",
              "      <td>31</td>\n",
              "      <td>38</td>\n",
              "      <td>6229.0</td>\n",
              "    </tr>\n",
              "    <tr>\n",
              "      <th>156</th>\n",
              "      <td>plymouth</td>\n",
              "      <td>gas</td>\n",
              "      <td>std</td>\n",
              "      <td>4.0</td>\n",
              "      <td>sedan</td>\n",
              "      <td>fwd</td>\n",
              "      <td>front</td>\n",
              "      <td>93.7</td>\n",
              "      <td>167.3</td>\n",
              "      <td>63.8</td>\n",
              "      <td>...</td>\n",
              "      <td>ohc</td>\n",
              "      <td>4.0</td>\n",
              "      <td>90</td>\n",
              "      <td>2bbl</td>\n",
              "      <td>9.4</td>\n",
              "      <td>68</td>\n",
              "      <td>5500</td>\n",
              "      <td>31</td>\n",
              "      <td>38</td>\n",
              "      <td>6692.0</td>\n",
              "    </tr>\n",
              "    <tr>\n",
              "      <th>157</th>\n",
              "      <td>subaru</td>\n",
              "      <td>gas</td>\n",
              "      <td>std</td>\n",
              "      <td>4.0</td>\n",
              "      <td>sedan</td>\n",
              "      <td>NaN</td>\n",
              "      <td>NaN</td>\n",
              "      <td>97.2</td>\n",
              "      <td>172.0</td>\n",
              "      <td>65.4</td>\n",
              "      <td>...</td>\n",
              "      <td>ohcf</td>\n",
              "      <td>4.0</td>\n",
              "      <td>108</td>\n",
              "      <td>2bbl</td>\n",
              "      <td>9.5</td>\n",
              "      <td>82</td>\n",
              "      <td>4400</td>\n",
              "      <td>28</td>\n",
              "      <td>33</td>\n",
              "      <td>7775.0</td>\n",
              "    </tr>\n",
              "    <tr>\n",
              "      <th>158</th>\n",
              "      <td>subaru</td>\n",
              "      <td>gas</td>\n",
              "      <td>std</td>\n",
              "      <td>4.0</td>\n",
              "      <td>sedan</td>\n",
              "      <td>NaN</td>\n",
              "      <td>NaN</td>\n",
              "      <td>97.2</td>\n",
              "      <td>172.0</td>\n",
              "      <td>65.4</td>\n",
              "      <td>...</td>\n",
              "      <td>ohcf</td>\n",
              "      <td>4.0</td>\n",
              "      <td>108</td>\n",
              "      <td>mpfi</td>\n",
              "      <td>9.0</td>\n",
              "      <td>94</td>\n",
              "      <td>5200</td>\n",
              "      <td>26</td>\n",
              "      <td>32</td>\n",
              "      <td>9960.0</td>\n",
              "    </tr>\n",
              "    <tr>\n",
              "      <th>159</th>\n",
              "      <td>subaru</td>\n",
              "      <td>gas</td>\n",
              "      <td>std</td>\n",
              "      <td>4.0</td>\n",
              "      <td>sedan</td>\n",
              "      <td>NaN</td>\n",
              "      <td>NaN</td>\n",
              "      <td>97.0</td>\n",
              "      <td>172.0</td>\n",
              "      <td>65.4</td>\n",
              "      <td>...</td>\n",
              "      <td>ohcf</td>\n",
              "      <td>4.0</td>\n",
              "      <td>108</td>\n",
              "      <td>2bbl</td>\n",
              "      <td>9.0</td>\n",
              "      <td>82</td>\n",
              "      <td>4800</td>\n",
              "      <td>24</td>\n",
              "      <td>25</td>\n",
              "      <td>9233.0</td>\n",
              "    </tr>\n",
              "  </tbody>\n",
              "</table>\n",
              "<p>160 rows × 22 columns</p>\n",
              "</div>"
            ],
            "text/plain": [
              "         CarName fueltype aspiration  doornumber      carbody drivewheel  \\\n",
              "0    alfa-romero      gas        std         2.0  convertible        rwd   \n",
              "1    alfa-romero      gas        std         2.0  convertible        rwd   \n",
              "2    alfa-romero      gas        std         2.0    hatchback        rwd   \n",
              "3           audi      gas        std         4.0        sedan        fwd   \n",
              "4           audi      gas        std         4.0        sedan        4wd   \n",
              "..           ...      ...        ...         ...          ...        ...   \n",
              "155     plymouth      gas        std         4.0    hatchback        fwd   \n",
              "156     plymouth      gas        std         4.0        sedan        fwd   \n",
              "157       subaru      gas        std         4.0        sedan        NaN   \n",
              "158       subaru      gas        std         4.0        sedan        NaN   \n",
              "159       subaru      gas        std         4.0        sedan        NaN   \n",
              "\n",
              "    enginelocation  wheelbase  carlength  carwidth  ...  enginetype  \\\n",
              "0            front       88.6      168.8      64.1  ...        dohc   \n",
              "1            front       88.6      168.8      64.1  ...        dohc   \n",
              "2            front       94.5      171.2      65.5  ...        ohcv   \n",
              "3            front       99.8      176.6      66.2  ...         ohc   \n",
              "4            front       99.4      176.6      66.4  ...         ohc   \n",
              "..             ...        ...        ...       ...  ...         ...   \n",
              "155          front       93.7      157.3      63.8  ...         ohc   \n",
              "156          front       93.7      167.3      63.8  ...         ohc   \n",
              "157            NaN       97.2      172.0      65.4  ...        ohcf   \n",
              "158            NaN       97.2      172.0      65.4  ...        ohcf   \n",
              "159            NaN       97.0      172.0      65.4  ...        ohcf   \n",
              "\n",
              "     cylindernumber enginesize  fuelsystem  compressionratio horsepower  \\\n",
              "0               4.0        130        mpfi               9.0        111   \n",
              "1               4.0        130        mpfi               9.0        111   \n",
              "2               6.0        152        mpfi               9.0        154   \n",
              "3               4.0        109        mpfi              10.0        102   \n",
              "4               5.0        136        mpfi               8.0        115   \n",
              "..              ...        ...         ...               ...        ...   \n",
              "155             4.0         90        2bbl               9.4         68   \n",
              "156             4.0         90        2bbl               9.4         68   \n",
              "157             4.0        108        2bbl               9.5         82   \n",
              "158             4.0        108        mpfi               9.0         94   \n",
              "159             4.0        108        2bbl               9.0         82   \n",
              "\n",
              "     peakrpm  citympg  highwaympg    price  \n",
              "0       5000       21          27  13495.0  \n",
              "1       5000       21          27  16500.0  \n",
              "2       5000       19          26  16500.0  \n",
              "3       5500       24          30  13950.0  \n",
              "4       5500       18          22  17450.0  \n",
              "..       ...      ...         ...      ...  \n",
              "155     5500       31          38   6229.0  \n",
              "156     5500       31          38   6692.0  \n",
              "157     4400       28          33   7775.0  \n",
              "158     5200       26          32   9960.0  \n",
              "159     4800       24          25   9233.0  \n",
              "\n",
              "[160 rows x 22 columns]"
            ]
          },
          "execution_count": 4,
          "metadata": {},
          "output_type": "execute_result"
        }
      ],
      "source": [
        "car_df = pd.read_csv('car1.csv')\n",
        "car_df\n"
      ]
    },
    {
      "cell_type": "code",
      "execution_count": 5,
      "metadata": {
        "colab": {
          "base_uri": "https://localhost:8080/"
        },
        "id": "fHeTQl_1OVFp",
        "outputId": "85a0ceb1-c7d3-44a9-f1b2-02609540836d"
      },
      "outputs": [
        {
          "name": "stdout",
          "output_type": "stream",
          "text": [
            "data:  (160, 22)\n"
          ]
        }
      ],
      "source": [
        "# Mencetak dimensi data\n",
        "print(\"data: \", car_df.shape)"
      ]
    },
    {
      "cell_type": "code",
      "execution_count": 6,
      "metadata": {
        "colab": {
          "base_uri": "https://localhost:8080/"
        },
        "id": "TLc6noNLOVFr",
        "outputId": "b16afcf3-97fa-45a1-9947-5f524ea7740f"
      },
      "outputs": [
        {
          "name": "stdout",
          "output_type": "stream",
          "text": [
            "<class 'pandas.core.frame.DataFrame'>\n",
            "RangeIndex: 160 entries, 0 to 159\n",
            "Data columns (total 22 columns):\n",
            " #   Column            Non-Null Count  Dtype  \n",
            "---  ------            --------------  -----  \n",
            " 0   CarName           160 non-null    object \n",
            " 1   fueltype          160 non-null    object \n",
            " 2   aspiration        155 non-null    object \n",
            " 3   doornumber        155 non-null    float64\n",
            " 4   carbody           155 non-null    object \n",
            " 5   drivewheel        152 non-null    object \n",
            " 6   enginelocation    151 non-null    object \n",
            " 7   wheelbase         159 non-null    float64\n",
            " 8   carlength         159 non-null    float64\n",
            " 9   carwidth          159 non-null    float64\n",
            " 10  carheight         145 non-null    float64\n",
            " 11  curbweight        17 non-null     float64\n",
            " 12  enginetype        146 non-null    object \n",
            " 13  cylindernumber    146 non-null    float64\n",
            " 14  enginesize        160 non-null    int64  \n",
            " 15  fuelsystem        154 non-null    object \n",
            " 16  compressionratio  150 non-null    float64\n",
            " 17  horsepower        160 non-null    int64  \n",
            " 18  peakrpm           160 non-null    int64  \n",
            " 19  citympg           160 non-null    int64  \n",
            " 20  highwaympg        160 non-null    int64  \n",
            " 21  price             160 non-null    float64\n",
            "dtypes: float64(9), int64(5), object(8)\n",
            "memory usage: 27.6+ KB\n"
          ]
        }
      ],
      "source": [
        "# Membaca kolom-kolom pada DataFrame\n",
        "car_df.info()"
      ]
    },
    {
      "cell_type": "markdown",
      "metadata": {
        "id": "svLumBnvOVFv"
      },
      "source": [
        "### Deskripsi Statistik"
      ]
    },
    {
      "cell_type": "code",
      "execution_count": 7,
      "metadata": {
        "colab": {
          "base_uri": "https://localhost:8080/",
          "height": 300
        },
        "id": "RdUnkeRvOVFv",
        "outputId": "7ac6caa8-97af-40d9-d82a-d31d9b28f470"
      },
      "outputs": [
        {
          "data": {
            "text/html": [
              "<div>\n",
              "<style scoped>\n",
              "    .dataframe tbody tr th:only-of-type {\n",
              "        vertical-align: middle;\n",
              "    }\n",
              "\n",
              "    .dataframe tbody tr th {\n",
              "        vertical-align: top;\n",
              "    }\n",
              "\n",
              "    .dataframe thead th {\n",
              "        text-align: right;\n",
              "    }\n",
              "</style>\n",
              "<table border=\"1\" class=\"dataframe\">\n",
              "  <thead>\n",
              "    <tr style=\"text-align: right;\">\n",
              "      <th></th>\n",
              "      <th>doornumber</th>\n",
              "      <th>wheelbase</th>\n",
              "      <th>carlength</th>\n",
              "      <th>carwidth</th>\n",
              "      <th>carheight</th>\n",
              "      <th>curbweight</th>\n",
              "      <th>cylindernumber</th>\n",
              "      <th>enginesize</th>\n",
              "      <th>compressionratio</th>\n",
              "      <th>horsepower</th>\n",
              "      <th>peakrpm</th>\n",
              "      <th>citympg</th>\n",
              "      <th>highwaympg</th>\n",
              "      <th>price</th>\n",
              "    </tr>\n",
              "  </thead>\n",
              "  <tbody>\n",
              "    <tr>\n",
              "      <th>count</th>\n",
              "      <td>5.000000</td>\n",
              "      <td>5.000000</td>\n",
              "      <td>5.000000</td>\n",
              "      <td>5.000000</td>\n",
              "      <td>5.000000</td>\n",
              "      <td>1.0</td>\n",
              "      <td>5.000000</td>\n",
              "      <td>5.000000</td>\n",
              "      <td>5.000000</td>\n",
              "      <td>5.000000</td>\n",
              "      <td>5.000000</td>\n",
              "      <td>5.000000</td>\n",
              "      <td>5.000000</td>\n",
              "      <td>5.000000</td>\n",
              "    </tr>\n",
              "    <tr>\n",
              "      <th>mean</th>\n",
              "      <td>2.800000</td>\n",
              "      <td>94.180000</td>\n",
              "      <td>172.400000</td>\n",
              "      <td>65.260000</td>\n",
              "      <td>51.720000</td>\n",
              "      <td>2548.0</td>\n",
              "      <td>4.600000</td>\n",
              "      <td>131.400000</td>\n",
              "      <td>9.000000</td>\n",
              "      <td>118.600000</td>\n",
              "      <td>5200.000000</td>\n",
              "      <td>20.600000</td>\n",
              "      <td>26.400000</td>\n",
              "      <td>15579.000000</td>\n",
              "    </tr>\n",
              "    <tr>\n",
              "      <th>std</th>\n",
              "      <td>1.095445</td>\n",
              "      <td>5.504725</td>\n",
              "      <td>3.957272</td>\n",
              "      <td>1.110405</td>\n",
              "      <td>2.776148</td>\n",
              "      <td>NaN</td>\n",
              "      <td>0.894427</td>\n",
              "      <td>15.420765</td>\n",
              "      <td>0.707107</td>\n",
              "      <td>20.354361</td>\n",
              "      <td>273.861279</td>\n",
              "      <td>2.302173</td>\n",
              "      <td>2.880972</td>\n",
              "      <td>1745.982531</td>\n",
              "    </tr>\n",
              "    <tr>\n",
              "      <th>min</th>\n",
              "      <td>2.000000</td>\n",
              "      <td>88.600000</td>\n",
              "      <td>168.800000</td>\n",
              "      <td>64.100000</td>\n",
              "      <td>48.800000</td>\n",
              "      <td>2548.0</td>\n",
              "      <td>4.000000</td>\n",
              "      <td>109.000000</td>\n",
              "      <td>8.000000</td>\n",
              "      <td>102.000000</td>\n",
              "      <td>5000.000000</td>\n",
              "      <td>18.000000</td>\n",
              "      <td>22.000000</td>\n",
              "      <td>13495.000000</td>\n",
              "    </tr>\n",
              "    <tr>\n",
              "      <th>25%</th>\n",
              "      <td>2.000000</td>\n",
              "      <td>88.600000</td>\n",
              "      <td>168.800000</td>\n",
              "      <td>64.100000</td>\n",
              "      <td>48.800000</td>\n",
              "      <td>2548.0</td>\n",
              "      <td>4.000000</td>\n",
              "      <td>130.000000</td>\n",
              "      <td>9.000000</td>\n",
              "      <td>111.000000</td>\n",
              "      <td>5000.000000</td>\n",
              "      <td>19.000000</td>\n",
              "      <td>26.000000</td>\n",
              "      <td>13950.000000</td>\n",
              "    </tr>\n",
              "    <tr>\n",
              "      <th>50%</th>\n",
              "      <td>2.000000</td>\n",
              "      <td>94.500000</td>\n",
              "      <td>171.200000</td>\n",
              "      <td>65.500000</td>\n",
              "      <td>52.400000</td>\n",
              "      <td>2548.0</td>\n",
              "      <td>4.000000</td>\n",
              "      <td>130.000000</td>\n",
              "      <td>9.000000</td>\n",
              "      <td>111.000000</td>\n",
              "      <td>5000.000000</td>\n",
              "      <td>21.000000</td>\n",
              "      <td>27.000000</td>\n",
              "      <td>16500.000000</td>\n",
              "    </tr>\n",
              "    <tr>\n",
              "      <th>75%</th>\n",
              "      <td>4.000000</td>\n",
              "      <td>99.400000</td>\n",
              "      <td>176.600000</td>\n",
              "      <td>66.200000</td>\n",
              "      <td>54.300000</td>\n",
              "      <td>2548.0</td>\n",
              "      <td>5.000000</td>\n",
              "      <td>136.000000</td>\n",
              "      <td>9.000000</td>\n",
              "      <td>115.000000</td>\n",
              "      <td>5500.000000</td>\n",
              "      <td>21.000000</td>\n",
              "      <td>27.000000</td>\n",
              "      <td>16500.000000</td>\n",
              "    </tr>\n",
              "    <tr>\n",
              "      <th>max</th>\n",
              "      <td>4.000000</td>\n",
              "      <td>99.800000</td>\n",
              "      <td>176.600000</td>\n",
              "      <td>66.400000</td>\n",
              "      <td>54.300000</td>\n",
              "      <td>2548.0</td>\n",
              "      <td>6.000000</td>\n",
              "      <td>152.000000</td>\n",
              "      <td>10.000000</td>\n",
              "      <td>154.000000</td>\n",
              "      <td>5500.000000</td>\n",
              "      <td>24.000000</td>\n",
              "      <td>30.000000</td>\n",
              "      <td>17450.000000</td>\n",
              "    </tr>\n",
              "  </tbody>\n",
              "</table>\n",
              "</div>"
            ],
            "text/plain": [
              "       doornumber  wheelbase   carlength   carwidth  carheight  curbweight  \\\n",
              "count    5.000000   5.000000    5.000000   5.000000   5.000000         1.0   \n",
              "mean     2.800000  94.180000  172.400000  65.260000  51.720000      2548.0   \n",
              "std      1.095445   5.504725    3.957272   1.110405   2.776148         NaN   \n",
              "min      2.000000  88.600000  168.800000  64.100000  48.800000      2548.0   \n",
              "25%      2.000000  88.600000  168.800000  64.100000  48.800000      2548.0   \n",
              "50%      2.000000  94.500000  171.200000  65.500000  52.400000      2548.0   \n",
              "75%      4.000000  99.400000  176.600000  66.200000  54.300000      2548.0   \n",
              "max      4.000000  99.800000  176.600000  66.400000  54.300000      2548.0   \n",
              "\n",
              "       cylindernumber  enginesize  compressionratio  horsepower      peakrpm  \\\n",
              "count        5.000000    5.000000          5.000000    5.000000     5.000000   \n",
              "mean         4.600000  131.400000          9.000000  118.600000  5200.000000   \n",
              "std          0.894427   15.420765          0.707107   20.354361   273.861279   \n",
              "min          4.000000  109.000000          8.000000  102.000000  5000.000000   \n",
              "25%          4.000000  130.000000          9.000000  111.000000  5000.000000   \n",
              "50%          4.000000  130.000000          9.000000  111.000000  5000.000000   \n",
              "75%          5.000000  136.000000          9.000000  115.000000  5500.000000   \n",
              "max          6.000000  152.000000         10.000000  154.000000  5500.000000   \n",
              "\n",
              "         citympg  highwaympg         price  \n",
              "count   5.000000    5.000000      5.000000  \n",
              "mean   20.600000   26.400000  15579.000000  \n",
              "std     2.302173    2.880972   1745.982531  \n",
              "min    18.000000   22.000000  13495.000000  \n",
              "25%    19.000000   26.000000  13950.000000  \n",
              "50%    21.000000   27.000000  16500.000000  \n",
              "75%    21.000000   27.000000  16500.000000  \n",
              "max    24.000000   30.000000  17450.000000  "
            ]
          },
          "execution_count": 7,
          "metadata": {},
          "output_type": "execute_result"
        }
      ],
      "source": [
        "car_df.head().describe()"
      ]
    },
    {
      "cell_type": "markdown",
      "metadata": {
        "id": "zOVsKq4-XXR2"
      },
      "source": [
        "Dengan method \"describe\" kita mendapatkan basic statistics untuk atribut numerik. \n",
        "\n",
        "Apa yang bisa diamati?\n",
        "Pada atribut \"carlength\", standard deviasi tampak rendah, jauh di bawah mean, perlu dilihat lebih jauh distribusi datanya."
      ]
    },
    {
      "cell_type": "code",
      "execution_count": 8,
      "metadata": {
        "colab": {
          "base_uri": "https://localhost:8080/",
          "height": 249
        },
        "id": "rn2CQNiqgK4A",
        "outputId": "417b0ac3-9515-4fab-b2f4-64df29a85e9d"
      },
      "outputs": [
        {
          "name": "stderr",
          "output_type": "stream",
          "text": [
            "/var/folders/5w/17bfb9717w7_y1j1p18z6qzm0000gn/T/ipykernel_69629/229838726.py:2: DeprecationWarning: `np.object` is a deprecated alias for the builtin `object`. To silence this warning, use `object` by itself. Doing this will not modify any behavior and is safe. \n",
            "Deprecated in NumPy 1.20; for more details and guidance: https://numpy.org/devdocs/release/1.20.0-notes.html#deprecations\n",
            "  display(car_df.head().describe(include=np.object))\n"
          ]
        },
        {
          "data": {
            "text/html": [
              "<div>\n",
              "<style scoped>\n",
              "    .dataframe tbody tr th:only-of-type {\n",
              "        vertical-align: middle;\n",
              "    }\n",
              "\n",
              "    .dataframe tbody tr th {\n",
              "        vertical-align: top;\n",
              "    }\n",
              "\n",
              "    .dataframe thead th {\n",
              "        text-align: right;\n",
              "    }\n",
              "</style>\n",
              "<table border=\"1\" class=\"dataframe\">\n",
              "  <thead>\n",
              "    <tr style=\"text-align: right;\">\n",
              "      <th></th>\n",
              "      <th>CarName</th>\n",
              "      <th>fueltype</th>\n",
              "      <th>aspiration</th>\n",
              "      <th>carbody</th>\n",
              "      <th>drivewheel</th>\n",
              "      <th>enginelocation</th>\n",
              "      <th>enginetype</th>\n",
              "      <th>fuelsystem</th>\n",
              "    </tr>\n",
              "  </thead>\n",
              "  <tbody>\n",
              "    <tr>\n",
              "      <th>count</th>\n",
              "      <td>5</td>\n",
              "      <td>5</td>\n",
              "      <td>5</td>\n",
              "      <td>5</td>\n",
              "      <td>5</td>\n",
              "      <td>5</td>\n",
              "      <td>5</td>\n",
              "      <td>5</td>\n",
              "    </tr>\n",
              "    <tr>\n",
              "      <th>unique</th>\n",
              "      <td>2</td>\n",
              "      <td>1</td>\n",
              "      <td>1</td>\n",
              "      <td>3</td>\n",
              "      <td>3</td>\n",
              "      <td>1</td>\n",
              "      <td>3</td>\n",
              "      <td>1</td>\n",
              "    </tr>\n",
              "    <tr>\n",
              "      <th>top</th>\n",
              "      <td>alfa-romero</td>\n",
              "      <td>gas</td>\n",
              "      <td>std</td>\n",
              "      <td>convertible</td>\n",
              "      <td>rwd</td>\n",
              "      <td>front</td>\n",
              "      <td>dohc</td>\n",
              "      <td>mpfi</td>\n",
              "    </tr>\n",
              "    <tr>\n",
              "      <th>freq</th>\n",
              "      <td>3</td>\n",
              "      <td>5</td>\n",
              "      <td>5</td>\n",
              "      <td>2</td>\n",
              "      <td>3</td>\n",
              "      <td>5</td>\n",
              "      <td>2</td>\n",
              "      <td>5</td>\n",
              "    </tr>\n",
              "  </tbody>\n",
              "</table>\n",
              "</div>"
            ],
            "text/plain": [
              "            CarName fueltype aspiration      carbody drivewheel  \\\n",
              "count             5        5          5            5          5   \n",
              "unique            2        1          1            3          3   \n",
              "top     alfa-romero      gas        std  convertible        rwd   \n",
              "freq              3        5          5            2          3   \n",
              "\n",
              "       enginelocation enginetype fuelsystem  \n",
              "count               5          5          5  \n",
              "unique              1          3          1  \n",
              "top             front       dohc       mpfi  \n",
              "freq                5          2          5  "
            ]
          },
          "metadata": {},
          "output_type": "display_data"
        }
      ],
      "source": [
        "# Menampilkan summary dari nonnumeric atribute\n",
        "display(car_df.head().describe(include=np.object))"
      ]
    },
    {
      "cell_type": "markdown",
      "metadata": {
        "id": "M0qUBTe_z-Rd"
      },
      "source": [
        "Pada tabel di atas, \"unique\" menunjukkan ada berapa variasi nilai dalam suatu atribut. \n",
        "Jika \"unique\" bernilai 1, atribut tersebut dapat dihapus, karena nilainya sama untuk semua baris."
      ]
    },
    {
      "cell_type": "code",
      "execution_count": 9,
      "metadata": {
        "id": "kKVHi9L-OVFw"
      },
      "outputs": [],
      "source": [
        "# Plot beberapa kolom untuk melihat distribusi frekuensinya\n",
        "def countplot(column):\n",
        "    return sns.countplot(x= column, data=car_df)"
      ]
    },
    {
      "cell_type": "code",
      "execution_count": 10,
      "metadata": {
        "colab": {
          "base_uri": "https://localhost:8080/",
          "height": 297
        },
        "id": "FgsVsOaOOVFx",
        "outputId": "c174d67e-fc07-4964-9004-94a1e81c9587"
      },
      "outputs": [
        {
          "data": {
            "text/plain": [
              "<AxesSubplot:xlabel='fueltype', ylabel='count'>"
            ]
          },
          "execution_count": 10,
          "metadata": {},
          "output_type": "execute_result"
        },
        {
          "data": {
            "image/png": "[encoded data removed]",
            "text/plain": [
              "<Figure size 432x288 with 1 Axes>"
            ]
          },
          "metadata": {
            "needs_background": "light"
          },
          "output_type": "display_data"
        }
      ],
      "source": [
        "countplot('fueltype')"
      ]
    },
    {
      "cell_type": "markdown",
      "metadata": {
        "id": "MkhbKU6-z-Re"
      },
      "source": [
        "Berdasarkan plot di atas, terlihat bahwa yang tinggi frekuensinya adalah mobil dengan fuel type gas."
      ]
    },
    {
      "cell_type": "code",
      "execution_count": 11,
      "metadata": {
        "colab": {
          "base_uri": "https://localhost:8080/",
          "height": 297
        },
        "id": "eSx2cSccOVFy",
        "outputId": "c3446c64-e22e-4e03-d118-3c4cdde8b764"
      },
      "outputs": [
        {
          "data": {
            "text/plain": [
              "<AxesSubplot:xlabel='drivewheel', ylabel='count'>"
            ]
          },
          "execution_count": 11,
          "metadata": {},
          "output_type": "execute_result"
        },
        {
          "data": {
            "image/png": "[encoded data removed]",
            "text/plain": [
              "<Figure size 432x288 with 1 Axes>"
            ]
          },
          "metadata": {
            "needs_background": "light"
          },
          "output_type": "display_data"
        }
      ],
      "source": [
        "countplot('drivewheel')"
      ]
    },
    {
      "cell_type": "markdown",
      "metadata": {
        "id": "J2oE58L9z-Rf"
      },
      "source": [
        "Berdasarkan plot di atas, terlihat bahwa tipe drive wheel 4wd (Four Wheel Drive) paling sedikit."
      ]
    },
    {
      "cell_type": "code",
      "execution_count": 12,
      "metadata": {
        "colab": {
          "base_uri": "https://localhost:8080/",
          "height": 297
        },
        "id": "W4f-aGxWOVFy",
        "outputId": "acc6abd1-efec-4538-e797-9a9bc81da4ba"
      },
      "outputs": [
        {
          "data": {
            "text/plain": [
              "<AxesSubplot:xlabel='carbody', ylabel='count'>"
            ]
          },
          "execution_count": 12,
          "metadata": {},
          "output_type": "execute_result"
        },
        {
          "data": {
            "image/png": "[encoded data removed]",
            "text/plain": [
              "<Figure size 432x288 with 1 Axes>"
            ]
          },
          "metadata": {
            "needs_background": "light"
          },
          "output_type": "display_data"
        }
      ],
      "source": [
        "countplot('carbody')"
      ]
    },
    {
      "cell_type": "markdown",
      "metadata": {
        "id": "NxdAv3jHz-Rg"
      },
      "source": [
        "Berdasarkan plot di atas, terlihat bahwa sedan merupakan tipe badan mobil terbanyak."
      ]
    },
    {
      "cell_type": "code",
      "execution_count": 13,
      "metadata": {
        "colab": {
          "base_uri": "https://localhost:8080/",
          "height": 345
        },
        "id": "55Gf3Nl7OVFz",
        "outputId": "4fe3f81f-4f66-4beb-b59d-6f124b4bd691"
      },
      "outputs": [
        {
          "data": {
            "text/plain": [
              "[]"
            ]
          },
          "execution_count": 13,
          "metadata": {},
          "output_type": "execute_result"
        },
        {
          "data": {
            "image/png": "[encoded data removed]",
            "text/plain": [
              "<Figure size 432x288 with 1 Axes>"
            ]
          },
          "metadata": {
            "needs_background": "light"
          },
          "output_type": "display_data"
        }
      ],
      "source": [
        "carnames = countplot('CarName')\n",
        "\n",
        "carnames.set_xticklabels(carnames.get_xticklabels(), rotation=90)\n",
        "carnames.plot()"
      ]
    },
    {
      "cell_type": "markdown",
      "metadata": {
        "id": "8HkabFIhz-Rg"
      },
      "source": [
        "Berdasarkan plot di atas, terlihat bahwa mobil Nissan berjumlah paling banyak dibanding mobil mercury yang berjumlah paling sedikit."
      ]
    },
    {
      "cell_type": "code",
      "execution_count": 14,
      "metadata": {
        "id": "3I1MSu5hX8W-"
      },
      "outputs": [],
      "source": [
        "# Mendapatkan nilai korelasi (koefisien Person) atribut numerik, dengan method \"corr\"\n",
        "car_corr = car_df.corr(method='pearson')"
      ]
    },
    {
      "cell_type": "code",
      "execution_count": 15,
      "metadata": {
        "colab": {
          "base_uri": "https://localhost:8080/",
          "height": 1000
        },
        "id": "AbLf39xuny6s",
        "outputId": "91a8f7c5-448e-4ce0-a785-c2f6b5450098"
      },
      "outputs": [
        {
          "data": {
            "text/plain": [
              "<AxesSubplot:>"
            ]
          },
          "execution_count": 15,
          "metadata": {},
          "output_type": "execute_result"
        },
        {
          "data": {
            "image/png": "[encoded data removed]",
            "text/plain": [
              "<Figure size 1296x1296 with 2 Axes>"
            ]
          },
          "metadata": {
            "needs_background": "light"
          },
          "output_type": "display_data"
        }
      ],
      "source": [
        "# heatmap\n",
        "f,ax = plt.subplots(figsize=(18, 18))\n",
        "sns.heatmap(car_corr, annot=True, linewidths=.5, fmt= '.1f',ax=ax)"
      ]
    },
    {
      "cell_type": "markdown",
      "metadata": {
        "id": "KTqxFIrFX8W_"
      },
      "source": [
        "# Data Preprocessing\n",
        "\n",
        "*Data Preparation* atau *data preprocessing* adalah suatu proses pembersihan dan transformasi pada *raw data* sebelum diproses dan dianalisis. Pada beberapa algoritma prediksi, dibutuhkan *preprocessing* khusus agar algoritma dapat berjalan dengan baik.\n",
        "\n",
        "**DISCLAIMER!**  Pada contoh ini, *preprocessing* yang \n",
        "dilakukan dimaksudkan untuk algoritma yang memiliki karakteristik:\n",
        "* sensitif terhadap outlier\n",
        "* fitur-fiturnya perlu memiliki range yang setara"
      ]
    },
    {
      "cell_type": "code",
      "execution_count": 16,
      "metadata": {
        "id": "u8oCqRzOX8XA"
      },
      "outputs": [],
      "source": [
        "# Import data cars2\n",
        "car2_df = pd.read_csv('car2.csv')"
      ]
    },
    {
      "cell_type": "code",
      "execution_count": 17,
      "metadata": {
        "id": "VuVSyMppX8XA"
      },
      "outputs": [],
      "source": [
        "# Menggabungkan dua data frame\n",
        "frames = [car_df, car2_df] \n",
        "merged_cars = pd.concat(frames).reset_index(drop=True)"
      ]
    },
    {
      "cell_type": "code",
      "execution_count": 18,
      "metadata": {
        "colab": {
          "base_uri": "https://localhost:8080/"
        },
        "id": "GKjsU5_VX8XA",
        "outputId": "f4bcb84c-568e-4f73-d470-c635c9aab6b2"
      },
      "outputs": [
        {
          "data": {
            "text/plain": [
              "(238, 22)"
            ]
          },
          "execution_count": 18,
          "metadata": {},
          "output_type": "execute_result"
        }
      ],
      "source": [
        "merged_cars.shape"
      ]
    },
    {
      "cell_type": "markdown",
      "metadata": {
        "id": "2SXTNT1aX8XA"
      },
      "source": [
        "### **SOAL 1**"
      ]
    },
    {
      "cell_type": "markdown",
      "metadata": {
        "id": "IYSkaOtpX8XA"
      },
      "source": [
        "(a) Dari data merged_cars di atas, apakah terdapat redudansi data? Implementasikan dengan code!"
      ]
    },
    {
      "cell_type": "code",
      "execution_count": 19,
      "metadata": {
        "id": "t1rYJG0bX8XA"
      },
      "outputs": [
        {
          "name": "stdout",
          "output_type": "stream",
          "text": [
            "      CarName fueltype aspiration  doornumber      carbody drivewheel  \\\n",
            "8        audi      gas      turbo         4.0        sedan        fwd   \n",
            "14        bmw      gas        std         4.0        sedan        rwd   \n",
            "72      buick   diesel      turbo         4.0        sedan        rwd   \n",
            "73      buick      gas        std         4.0        sedan        rwd   \n",
            "74      buick      gas        std         2.0  convertible        rwd   \n",
            "75      buick      gas        std         4.0        sedan        rwd   \n",
            "76      buick      gas        std         2.0      hardtop        rwd   \n",
            "81      buick      gas        std         4.0        sedan        rwd   \n",
            "84        bmw      gas        std         4.0        sedan        rwd   \n",
            "125  plymouth      gas        std         2.0    hatchback        fwd   \n",
            "126  plymouth      gas      turbo         2.0    hatchback        fwd   \n",
            "127  plymouth      gas        std         4.0    hatchback        fwd   \n",
            "128  plymouth      gas        std         4.0        sedan        fwd   \n",
            "147  plymouth      gas        std         4.0        sedan        fwd   \n",
            "156  plymouth      gas        std         4.0        sedan        fwd   \n",
            "157    subaru      gas        std         4.0        sedan        NaN   \n",
            "158    subaru      gas        std         4.0        sedan        NaN   \n",
            "164    subaru      gas      turbo         4.0        wagon        NaN   \n",
            "165    toyota      gas        std         2.0    hatchback        NaN   \n",
            "171     buick   diesel      turbo         4.0        sedan        rwd   \n",
            "172     buick      gas        std         4.0        sedan        rwd   \n",
            "190    toyota      gas        std         2.0    hatchback        rwd   \n",
            "191    toyota      gas        std         2.0  convertible        rwd   \n",
            "192    toyota      gas        std         4.0        sedan        fwd   \n",
            "203    toyota      gas        std         2.0    hatchback        rwd   \n",
            "204    toyota      gas        std         2.0  convertible        rwd   \n",
            "205    toyota      gas        std         4.0        sedan        fwd   \n",
            "\n",
            "    enginelocation  wheelbase  carlength  carwidth  ...  enginetype  \\\n",
            "8            front      105.8      192.7      71.4  ...         ohc   \n",
            "14           front      103.5      189.0      66.9  ...         ohc   \n",
            "72           front      115.6      202.6      71.7  ...         ohc   \n",
            "73           front      115.6      202.6      71.7  ...        ohcv   \n",
            "74           front       96.6      180.3      70.5  ...        ohcv   \n",
            "75           front      120.9      208.1      71.7  ...        ohcv   \n",
            "76           front      112.0      199.2      72.0  ...        ohcv   \n",
            "81           front      115.6      202.6      71.7  ...        ohcv   \n",
            "84           front      103.5      189.0      66.9  ...         ohc   \n",
            "125          front       93.7      157.3      63.8  ...         ohc   \n",
            "126          front       93.7      157.3      63.8  ...         ohc   \n",
            "127          front       93.7      157.3      63.8  ...         ohc   \n",
            "128          front       93.7      167.3      63.8  ...         ohc   \n",
            "147          front       93.7      167.3      63.8  ...         ohc   \n",
            "156          front       93.7      167.3      63.8  ...         ohc   \n",
            "157            NaN       97.2      172.0      65.4  ...        ohcf   \n",
            "158            NaN       97.2      172.0      65.4  ...        ohcf   \n",
            "164            NaN       96.9      173.6      65.4  ...        ohcf   \n",
            "165            NaN       95.7      158.7      63.6  ...         ohc   \n",
            "171          front      115.6      202.6      71.7  ...         ohc   \n",
            "172          front      115.6      202.6      71.7  ...        ohcv   \n",
            "190          front       98.4      176.2      65.6  ...         ohc   \n",
            "191          front       98.4      176.2      65.6  ...         ohc   \n",
            "192          front      102.4      175.6      66.5  ...         ohc   \n",
            "203          front       98.4      176.2      65.6  ...         ohc   \n",
            "204          front       98.4      176.2      65.6  ...         ohc   \n",
            "205          front      102.4      175.6      66.5  ...         ohc   \n",
            "\n",
            "     cylindernumber enginesize  fuelsystem  compressionratio horsepower  \\\n",
            "8               5.0      131.0        mpfi               8.3      140.0   \n",
            "14              6.0      164.0         NaN               NaN      121.0   \n",
            "72              5.0      183.0         idi              21.5      123.0   \n",
            "73              8.0      234.0        mpfi               8.3      155.0   \n",
            "74              8.0      234.0        mpfi               8.3      155.0   \n",
            "75              8.0      308.0        mpfi               8.0      184.0   \n",
            "76              8.0      304.0        mpfi               8.0      184.0   \n",
            "81              8.0      234.0        mpfi               8.3      155.0   \n",
            "84              6.0      164.0         NaN               NaN      121.0   \n",
            "125             4.0       90.0        2bbl               9.4       68.0   \n",
            "126             4.0       98.0        spdi               7.6      102.0   \n",
            "127             4.0       90.0        2bbl               9.4       68.0   \n",
            "128             4.0       90.0        2bbl               9.4       68.0   \n",
            "147             4.0       90.0        2bbl               9.4       68.0   \n",
            "156             4.0       90.0        2bbl               9.4       68.0   \n",
            "157             4.0      108.0        2bbl               9.5       82.0   \n",
            "158             4.0      108.0        mpfi               9.0       94.0   \n",
            "164             4.0      108.0        mpfi               7.7      111.0   \n",
            "165             4.0       92.0        2bbl               9.0       62.0   \n",
            "171             5.0      183.0         idi              21.5      123.0   \n",
            "172             8.0      234.0        mpfi               8.3      155.0   \n",
            "190             4.0      146.0        mpfi               9.3      116.0   \n",
            "191             4.0      146.0        mpfi               9.3      116.0   \n",
            "192             4.0      122.0        mpfi               8.7       92.0   \n",
            "203             4.0      146.0        mpfi               9.3      116.0   \n",
            "204             4.0      146.0        mpfi               9.3      116.0   \n",
            "205             4.0      122.0        mpfi               8.7       92.0   \n",
            "\n",
            "     peakrpm  citympg  highwaympg    price  \n",
            "8       5500       17          20  23875.0  \n",
            "14      4250       20          25  24565.0  \n",
            "72      4350       22          25  31600.0  \n",
            "73      4750       16          18  34184.0  \n",
            "74      4750       16          18  35056.0  \n",
            "75      4500       14          16  40960.0  \n",
            "76      4500       14          16  45400.0  \n",
            "81      4750       16          18  34184.0  \n",
            "84      4250       20          25  24565.0  \n",
            "125     5500       37          41   5572.0  \n",
            "126     5500       24          30   7957.0  \n",
            "127     5500       31          38   6229.0  \n",
            "128     5500       31          38   6692.0  \n",
            "147     5500       31          38   6692.0  \n",
            "156     5500       31          38   6692.0  \n",
            "157     4400       28          33   7775.0  \n",
            "158     5200       26          32   9960.0  \n",
            "164     4800       23          23  11694.0  \n",
            "165     4800       35          39   5348.0  \n",
            "171     4350       22          25  31600.0  \n",
            "172     4750       16          18  34184.0  \n",
            "190     4800       24          30  11549.0  \n",
            "191     4800       24          30  17669.0  \n",
            "192     4200       29          34   8948.0  \n",
            "203     4800       24          30  11549.0  \n",
            "204     4800       24          30  17669.0  \n",
            "205     4200       29          34   8948.0  \n",
            "\n",
            "[27 rows x 22 columns]\n"
          ]
        }
      ],
      "source": [
        "# 1(a) Implementasi code di sini.\n",
        "duplicate = merged_cars[merged_cars.duplicated(keep='last')]\n",
        "print(duplicate)"
      ]
    },
    {
      "cell_type": "markdown",
      "metadata": {
        "id": "vkNX_N4NX8XB"
      },
      "source": [
        "(b) Apa yang dapat Anda lakukan untuk menangani redudansi data tersebut? Implementasikan dengan code! Hint: [Dokumentasi Drop Duplicate](https://pandas.pydata.org/pandas-docs/version/1.3/reference/api/pandas.DataFrame.drop_duplicates.html)"
      ]
    },
    {
      "cell_type": "code",
      "execution_count": 20,
      "metadata": {
        "id": "FeInjJa0X8XB"
      },
      "outputs": [
        {
          "data": {
            "text/html": [
              "<div>\n",
              "<style scoped>\n",
              "    .dataframe tbody tr th:only-of-type {\n",
              "        vertical-align: middle;\n",
              "    }\n",
              "\n",
              "    .dataframe tbody tr th {\n",
              "        vertical-align: top;\n",
              "    }\n",
              "\n",
              "    .dataframe thead th {\n",
              "        text-align: right;\n",
              "    }\n",
              "</style>\n",
              "<table border=\"1\" class=\"dataframe\">\n",
              "  <thead>\n",
              "    <tr style=\"text-align: right;\">\n",
              "      <th></th>\n",
              "      <th>CarName</th>\n",
              "      <th>fueltype</th>\n",
              "      <th>aspiration</th>\n",
              "      <th>doornumber</th>\n",
              "      <th>carbody</th>\n",
              "      <th>drivewheel</th>\n",
              "      <th>enginelocation</th>\n",
              "      <th>wheelbase</th>\n",
              "      <th>carlength</th>\n",
              "      <th>carwidth</th>\n",
              "      <th>...</th>\n",
              "      <th>enginetype</th>\n",
              "      <th>cylindernumber</th>\n",
              "      <th>enginesize</th>\n",
              "      <th>fuelsystem</th>\n",
              "      <th>compressionratio</th>\n",
              "      <th>horsepower</th>\n",
              "      <th>peakrpm</th>\n",
              "      <th>citympg</th>\n",
              "      <th>highwaympg</th>\n",
              "      <th>price</th>\n",
              "    </tr>\n",
              "  </thead>\n",
              "  <tbody>\n",
              "    <tr>\n",
              "      <th>0</th>\n",
              "      <td>alfa-romero</td>\n",
              "      <td>gas</td>\n",
              "      <td>std</td>\n",
              "      <td>2.0</td>\n",
              "      <td>convertible</td>\n",
              "      <td>rwd</td>\n",
              "      <td>front</td>\n",
              "      <td>88.6</td>\n",
              "      <td>168.8</td>\n",
              "      <td>64.1</td>\n",
              "      <td>...</td>\n",
              "      <td>dohc</td>\n",
              "      <td>4.0</td>\n",
              "      <td>130.0</td>\n",
              "      <td>mpfi</td>\n",
              "      <td>9.0</td>\n",
              "      <td>111.0</td>\n",
              "      <td>5000</td>\n",
              "      <td>21</td>\n",
              "      <td>27</td>\n",
              "      <td>13495.0</td>\n",
              "    </tr>\n",
              "    <tr>\n",
              "      <th>1</th>\n",
              "      <td>alfa-romero</td>\n",
              "      <td>gas</td>\n",
              "      <td>std</td>\n",
              "      <td>2.0</td>\n",
              "      <td>convertible</td>\n",
              "      <td>rwd</td>\n",
              "      <td>front</td>\n",
              "      <td>88.6</td>\n",
              "      <td>168.8</td>\n",
              "      <td>64.1</td>\n",
              "      <td>...</td>\n",
              "      <td>dohc</td>\n",
              "      <td>4.0</td>\n",
              "      <td>130.0</td>\n",
              "      <td>mpfi</td>\n",
              "      <td>9.0</td>\n",
              "      <td>111.0</td>\n",
              "      <td>5000</td>\n",
              "      <td>21</td>\n",
              "      <td>27</td>\n",
              "      <td>16500.0</td>\n",
              "    </tr>\n",
              "    <tr>\n",
              "      <th>2</th>\n",
              "      <td>alfa-romero</td>\n",
              "      <td>gas</td>\n",
              "      <td>std</td>\n",
              "      <td>2.0</td>\n",
              "      <td>hatchback</td>\n",
              "      <td>rwd</td>\n",
              "      <td>front</td>\n",
              "      <td>94.5</td>\n",
              "      <td>171.2</td>\n",
              "      <td>65.5</td>\n",
              "      <td>...</td>\n",
              "      <td>ohcv</td>\n",
              "      <td>6.0</td>\n",
              "      <td>152.0</td>\n",
              "      <td>mpfi</td>\n",
              "      <td>9.0</td>\n",
              "      <td>154.0</td>\n",
              "      <td>5000</td>\n",
              "      <td>19</td>\n",
              "      <td>26</td>\n",
              "      <td>16500.0</td>\n",
              "    </tr>\n",
              "    <tr>\n",
              "      <th>3</th>\n",
              "      <td>audi</td>\n",
              "      <td>gas</td>\n",
              "      <td>std</td>\n",
              "      <td>4.0</td>\n",
              "      <td>sedan</td>\n",
              "      <td>fwd</td>\n",
              "      <td>front</td>\n",
              "      <td>99.8</td>\n",
              "      <td>176.6</td>\n",
              "      <td>66.2</td>\n",
              "      <td>...</td>\n",
              "      <td>ohc</td>\n",
              "      <td>4.0</td>\n",
              "      <td>109.0</td>\n",
              "      <td>mpfi</td>\n",
              "      <td>10.0</td>\n",
              "      <td>102.0</td>\n",
              "      <td>5500</td>\n",
              "      <td>24</td>\n",
              "      <td>30</td>\n",
              "      <td>13950.0</td>\n",
              "    </tr>\n",
              "    <tr>\n",
              "      <th>4</th>\n",
              "      <td>audi</td>\n",
              "      <td>gas</td>\n",
              "      <td>std</td>\n",
              "      <td>4.0</td>\n",
              "      <td>sedan</td>\n",
              "      <td>4wd</td>\n",
              "      <td>front</td>\n",
              "      <td>99.4</td>\n",
              "      <td>176.6</td>\n",
              "      <td>66.4</td>\n",
              "      <td>...</td>\n",
              "      <td>ohc</td>\n",
              "      <td>5.0</td>\n",
              "      <td>136.0</td>\n",
              "      <td>mpfi</td>\n",
              "      <td>8.0</td>\n",
              "      <td>115.0</td>\n",
              "      <td>5500</td>\n",
              "      <td>18</td>\n",
              "      <td>22</td>\n",
              "      <td>17450.0</td>\n",
              "    </tr>\n",
              "    <tr>\n",
              "      <th>...</th>\n",
              "      <td>...</td>\n",
              "      <td>...</td>\n",
              "      <td>...</td>\n",
              "      <td>...</td>\n",
              "      <td>...</td>\n",
              "      <td>...</td>\n",
              "      <td>...</td>\n",
              "      <td>...</td>\n",
              "      <td>...</td>\n",
              "      <td>...</td>\n",
              "      <td>...</td>\n",
              "      <td>...</td>\n",
              "      <td>...</td>\n",
              "      <td>...</td>\n",
              "      <td>...</td>\n",
              "      <td>...</td>\n",
              "      <td>...</td>\n",
              "      <td>...</td>\n",
              "      <td>...</td>\n",
              "      <td>...</td>\n",
              "      <td>...</td>\n",
              "    </tr>\n",
              "    <tr>\n",
              "      <th>233</th>\n",
              "      <td>volvo</td>\n",
              "      <td>gas</td>\n",
              "      <td>std</td>\n",
              "      <td>4.0</td>\n",
              "      <td>sedan</td>\n",
              "      <td>rwd</td>\n",
              "      <td>front</td>\n",
              "      <td>109.1</td>\n",
              "      <td>188.8</td>\n",
              "      <td>68.9</td>\n",
              "      <td>...</td>\n",
              "      <td>ohc</td>\n",
              "      <td>4.0</td>\n",
              "      <td>141.0</td>\n",
              "      <td>mpfi</td>\n",
              "      <td>9.5</td>\n",
              "      <td>114.0</td>\n",
              "      <td>5400</td>\n",
              "      <td>23</td>\n",
              "      <td>28</td>\n",
              "      <td>16845.0</td>\n",
              "    </tr>\n",
              "    <tr>\n",
              "      <th>234</th>\n",
              "      <td>volvo</td>\n",
              "      <td>gas</td>\n",
              "      <td>turbo</td>\n",
              "      <td>4.0</td>\n",
              "      <td>sedan</td>\n",
              "      <td>rwd</td>\n",
              "      <td>front</td>\n",
              "      <td>109.1</td>\n",
              "      <td>188.8</td>\n",
              "      <td>68.8</td>\n",
              "      <td>...</td>\n",
              "      <td>ohc</td>\n",
              "      <td>4.0</td>\n",
              "      <td>141.0</td>\n",
              "      <td>mpfi</td>\n",
              "      <td>8.7</td>\n",
              "      <td>160.0</td>\n",
              "      <td>5300</td>\n",
              "      <td>19</td>\n",
              "      <td>25</td>\n",
              "      <td>19045.0</td>\n",
              "    </tr>\n",
              "    <tr>\n",
              "      <th>235</th>\n",
              "      <td>volvo</td>\n",
              "      <td>gas</td>\n",
              "      <td>std</td>\n",
              "      <td>4.0</td>\n",
              "      <td>sedan</td>\n",
              "      <td>rwd</td>\n",
              "      <td>front</td>\n",
              "      <td>109.1</td>\n",
              "      <td>188.8</td>\n",
              "      <td>68.9</td>\n",
              "      <td>...</td>\n",
              "      <td>ohcv</td>\n",
              "      <td>6.0</td>\n",
              "      <td>173.0</td>\n",
              "      <td>mpfi</td>\n",
              "      <td>8.8</td>\n",
              "      <td>134.0</td>\n",
              "      <td>5500</td>\n",
              "      <td>18</td>\n",
              "      <td>23</td>\n",
              "      <td>21485.0</td>\n",
              "    </tr>\n",
              "    <tr>\n",
              "      <th>236</th>\n",
              "      <td>volvo</td>\n",
              "      <td>diesel</td>\n",
              "      <td>turbo</td>\n",
              "      <td>4.0</td>\n",
              "      <td>sedan</td>\n",
              "      <td>rwd</td>\n",
              "      <td>front</td>\n",
              "      <td>109.1</td>\n",
              "      <td>188.8</td>\n",
              "      <td>68.9</td>\n",
              "      <td>...</td>\n",
              "      <td>ohc</td>\n",
              "      <td>6.0</td>\n",
              "      <td>145.0</td>\n",
              "      <td>idi</td>\n",
              "      <td>23.0</td>\n",
              "      <td>106.0</td>\n",
              "      <td>4800</td>\n",
              "      <td>26</td>\n",
              "      <td>27</td>\n",
              "      <td>22470.0</td>\n",
              "    </tr>\n",
              "    <tr>\n",
              "      <th>237</th>\n",
              "      <td>volvo</td>\n",
              "      <td>gas</td>\n",
              "      <td>turbo</td>\n",
              "      <td>4.0</td>\n",
              "      <td>sedan</td>\n",
              "      <td>rwd</td>\n",
              "      <td>front</td>\n",
              "      <td>109.1</td>\n",
              "      <td>188.8</td>\n",
              "      <td>68.9</td>\n",
              "      <td>...</td>\n",
              "      <td>ohc</td>\n",
              "      <td>4.0</td>\n",
              "      <td>141.0</td>\n",
              "      <td>mpfi</td>\n",
              "      <td>9.5</td>\n",
              "      <td>114.0</td>\n",
              "      <td>5400</td>\n",
              "      <td>19</td>\n",
              "      <td>25</td>\n",
              "      <td>22625.0</td>\n",
              "    </tr>\n",
              "  </tbody>\n",
              "</table>\n",
              "<p>211 rows × 22 columns</p>\n",
              "</div>"
            ],
            "text/plain": [
              "         CarName fueltype aspiration  doornumber      carbody drivewheel  \\\n",
              "0    alfa-romero      gas        std         2.0  convertible        rwd   \n",
              "1    alfa-romero      gas        std         2.0  convertible        rwd   \n",
              "2    alfa-romero      gas        std         2.0    hatchback        rwd   \n",
              "3           audi      gas        std         4.0        sedan        fwd   \n",
              "4           audi      gas        std         4.0        sedan        4wd   \n",
              "..           ...      ...        ...         ...          ...        ...   \n",
              "233        volvo      gas        std         4.0        sedan        rwd   \n",
              "234        volvo      gas      turbo         4.0        sedan        rwd   \n",
              "235        volvo      gas        std         4.0        sedan        rwd   \n",
              "236        volvo   diesel      turbo         4.0        sedan        rwd   \n",
              "237        volvo      gas      turbo         4.0        sedan        rwd   \n",
              "\n",
              "    enginelocation  wheelbase  carlength  carwidth  ...  enginetype  \\\n",
              "0            front       88.6      168.8      64.1  ...        dohc   \n",
              "1            front       88.6      168.8      64.1  ...        dohc   \n",
              "2            front       94.5      171.2      65.5  ...        ohcv   \n",
              "3            front       99.8      176.6      66.2  ...         ohc   \n",
              "4            front       99.4      176.6      66.4  ...         ohc   \n",
              "..             ...        ...        ...       ...  ...         ...   \n",
              "233          front      109.1      188.8      68.9  ...         ohc   \n",
              "234          front      109.1      188.8      68.8  ...         ohc   \n",
              "235          front      109.1      188.8      68.9  ...        ohcv   \n",
              "236          front      109.1      188.8      68.9  ...         ohc   \n",
              "237          front      109.1      188.8      68.9  ...         ohc   \n",
              "\n",
              "     cylindernumber enginesize  fuelsystem  compressionratio horsepower  \\\n",
              "0               4.0      130.0        mpfi               9.0      111.0   \n",
              "1               4.0      130.0        mpfi               9.0      111.0   \n",
              "2               6.0      152.0        mpfi               9.0      154.0   \n",
              "3               4.0      109.0        mpfi              10.0      102.0   \n",
              "4               5.0      136.0        mpfi               8.0      115.0   \n",
              "..              ...        ...         ...               ...        ...   \n",
              "233             4.0      141.0        mpfi               9.5      114.0   \n",
              "234             4.0      141.0        mpfi               8.7      160.0   \n",
              "235             6.0      173.0        mpfi               8.8      134.0   \n",
              "236             6.0      145.0         idi              23.0      106.0   \n",
              "237             4.0      141.0        mpfi               9.5      114.0   \n",
              "\n",
              "     peakrpm  citympg  highwaympg    price  \n",
              "0       5000       21          27  13495.0  \n",
              "1       5000       21          27  16500.0  \n",
              "2       5000       19          26  16500.0  \n",
              "3       5500       24          30  13950.0  \n",
              "4       5500       18          22  17450.0  \n",
              "..       ...      ...         ...      ...  \n",
              "233     5400       23          28  16845.0  \n",
              "234     5300       19          25  19045.0  \n",
              "235     5500       18          23  21485.0  \n",
              "236     4800       26          27  22470.0  \n",
              "237     5400       19          25  22625.0  \n",
              "\n",
              "[211 rows x 22 columns]"
            ]
          },
          "execution_count": 20,
          "metadata": {},
          "output_type": "execute_result"
        }
      ],
      "source": [
        "# 1(b) Implementasi code di sini.\n",
        "merged_cars = merged_cars.drop_duplicates()\n",
        "merged_cars"
      ]
    },
    {
      "cell_type": "markdown",
      "metadata": {},
      "source": [
        "Setelah menangani redudansi data dengan melakukan drop duplicates, dataframe yang semulanya memiliki 238 rows, sekarang menjadi 211 rows."
      ]
    },
    {
      "cell_type": "markdown",
      "metadata": {
        "id": "eXgJR7fEX8XB"
      },
      "source": [
        "(c) Berikan alasan mengapa redudansi data perlu ditangani?\n",
        "> Redudansi data perlu ditangani karena dapat menimbulkan inkonsistensi data. Apalagi jika terdapat data yang duplikat dalam jumlah yang besar, tentu hal ini dapat mempengaruhi data sehingga dapat menyebabkan informasi menjadi tidak reliable."
      ]
    },
    {
      "cell_type": "markdown",
      "metadata": {
        "id": "18v2FKJzjcPQ"
      },
      "source": [
        "## Outlier"
      ]
    },
    {
      "cell_type": "markdown",
      "metadata": {
        "id": "GN-hQ0_1vUel"
      },
      "source": [
        "Outlier merupakan observasi yang tidak biasa yang muncul pada salah satu titik ekstrim dari sebagian besar data. Titik ekstrim di sini adalah nilai yang terlalu kecil atau nilai yang terlalu besar jika dibandingkan dengan sebagian besar nilai lain dalam kelompoknya."
      ]
    },
    {
      "cell_type": "markdown",
      "metadata": {
        "id": "eKcNhMswxqnd"
      },
      "source": [
        "Outlier dapat ditangani dengan melakukan hal-hal berikut ini:\n",
        "\n",
        "*   Jika persentase outliers tidak signifikan, opsi yang mungkin dilakukan adalah drop column/row.\n",
        "*   Jika datanya relatif sedikit, opsi yang mungkin dilakukan adalah mengisi dengan nilai statistik tertentu Pengisian data dapat dilakukan dengan:\n",
        "  * Nilai rata-rata \n",
        "  * Nilai median\n",
        "  * Nilai modus\n",
        "*   Jika terdapat human error, maka opsi yang mungkin adalah memperbaiki dengan manual.\n",
        "*   Jika asumsi data normal, maka outlier dapat dibiarkan saja.\n",
        "\n"
      ]
    },
    {
      "cell_type": "code",
      "execution_count": 21,
      "metadata": {
        "colab": {
          "base_uri": "https://localhost:8080/",
          "height": 297
        },
        "id": "q2E1LoKwOVF0",
        "outputId": "6654b322-0038-43ca-be04-4175e602caca",
        "scrolled": true
      },
      "outputs": [
        {
          "data": {
            "text/plain": [
              "<AxesSubplot:xlabel='price', ylabel='CarName'>"
            ]
          },
          "execution_count": 21,
          "metadata": {},
          "output_type": "execute_result"
        },
        {
          "data": {
            "image/png": "[encoded data removed]",
            "text/plain": [
              "<Figure size 432x288 with 1 Axes>"
            ]
          },
          "metadata": {
            "needs_background": "light"
          },
          "output_type": "display_data"
        }
      ],
      "source": [
        "merged_cars['CarName'] = merged_cars['CarName'].astype(str) # ubah jadi tipe string\n",
        "merged_cars.plot.scatter(x=\"price\", y='CarName', figsize=(6,4))"
      ]
    },
    {
      "cell_type": "markdown",
      "metadata": {
        "id": "af03UEXVz-Rh"
      },
      "source": [
        "Dari scatter plot di atas terlihat bahwa ada harga mobil yang sangat besar (outlier) pada mobil dengan tipe mobil mazda."
      ]
    },
    {
      "cell_type": "code",
      "execution_count": 22,
      "metadata": {
        "colab": {
          "base_uri": "https://localhost:8080/",
          "height": 285
        },
        "id": "02ShW0HTOVF7",
        "outputId": "e5f79992-d21c-4bed-8288-f0886b5c6e0e"
      },
      "outputs": [
        {
          "data": {
            "text/plain": [
              "<AxesSubplot:>"
            ]
          },
          "execution_count": 22,
          "metadata": {},
          "output_type": "execute_result"
        },
        {
          "data": {
            "image/png": "[encoded data removed]",
            "text/plain": [
              "<Figure size 1440x576 with 1 Axes>"
            ]
          },
          "metadata": {
            "needs_background": "light"
          },
          "output_type": "display_data"
        }
      ],
      "source": [
        "data = merged_cars.drop(['price'],axis=1)\n",
        "data.boxplot(figsize=(20,8))"
      ]
    },
    {
      "cell_type": "markdown",
      "metadata": {
        "id": "l2Mz6B6Ylku7"
      },
      "source": [
        "Boxplot juga dapat digunakan untuk menunjukkan adanya outlier. Bagian utama boxplot merupakan sebuah kotak Box yang menyajikan interquartile range (IQR). Garis yang merupakan perpanjangan dari box dinamakan dengan whiskers. Nilai yang berada di atas atau dibawah whisker dinamakan nilai outlier atau ekstrim."
      ]
    },
    {
      "cell_type": "markdown",
      "metadata": {
        "id": "Qs6DEaIu0_-3"
      },
      "source": [
        "### **SOAL 2**\n",
        "\n",
        "(a) Dari boxplot yang Anda lihat, atribut apa yang mengandung outlier paling banyak?\n",
        "\n",
        "> Dari boxplot tersebut, saya melihat dengan jelas bahwa `enginesize` memiliki outlier terbanyak, namun saya juga merasa bahwa `cylindernumber`, dan `compressionratio` bisa saja memiliki lebih banyak outlier juga karena setelah saya perbesar figsizenya, outliernya masih berdempatan dan terlihat banyak."
      ]
    },
    {
      "cell_type": "markdown",
      "metadata": {
        "id": "9clvzQNg7MRx"
      },
      "source": [
        "(b) Implementasikan code untuk menampilkan banyaknya outlier pada atribut tersebut!"
      ]
    },
    {
      "cell_type": "code",
      "execution_count": 23,
      "metadata": {
        "id": "9FNJvGOyz-Rj"
      },
      "outputs": [
        {
          "name": "stdout",
          "output_type": "stream",
          "text": [
            "Banyaknya Outlier 'enginesize':  10\n",
            "Banyaknya Outlier 'compressionratio':  28\n",
            "Banyaknya Outlier 'cylindernumber':  41\n"
          ]
        }
      ],
      "source": [
        "# 2(b) Implementasi code di sini\n",
        "\n",
        "data_enginesize = merged_cars['enginesize']\n",
        "Q1 = data_enginesize.quantile(0.25)\n",
        "Q3 = data_enginesize.quantile(0.75)\n",
        "IQR = Q3 - Q1\n",
        "RLB = (Q1 - 1.5 * IQR)\n",
        "RUB = (Q3 + 1.5 * IQR)\n",
        "outliers = ((data_enginesize < RLB) | (data_enginesize > RUB)).sum()\n",
        "print(\"Banyaknya Outlier 'enginesize': \", outliers)\n",
        "\n",
        "dcompressionratio = merged_cars['compressionratio']\n",
        "Q1 = dcompressionratio.quantile(0.25)\n",
        "Q3 = dcompressionratio.quantile(0.75)\n",
        "IQR = Q3 - Q1\n",
        "RLB = (Q1 - 1.5 * IQR)\n",
        "RUB = (Q3 + 1.5 * IQR)\n",
        "outliers = ((dcompressionratio < RLB) | (dcompressionratio > RUB)).sum()\n",
        "print(\"Banyaknya Outlier 'compressionratio': \", outliers)\n",
        "\n",
        "datacylindernumber = merged_cars['cylindernumber']\n",
        "Q1 = datacylindernumber.quantile(0.25)\n",
        "Q3 = datacylindernumber.quantile(0.75)\n",
        "IQR = Q3 - Q1\n",
        "RLB = (Q1 - 1.5 * IQR)\n",
        "RUB = (Q3 + 1.5 * IQR)\n",
        "outliers = ((datacylindernumber < RLB) | (datacylindernumber > RUB)).sum()\n",
        "print(\"Banyaknya Outlier 'cylindernumber': \", outliers)"
      ]
    },
    {
      "cell_type": "markdown",
      "metadata": {},
      "source": [
        "Setelah mencari jumlah outliers dair ketiga atribut tersebut, ternyata atribut yang memiliki outlier terbanyak adalah `cylindernumber` yaitu sebanyak `41`."
      ]
    },
    {
      "cell_type": "markdown",
      "metadata": {
        "id": "X85RWnpBz-Rj"
      },
      "source": [
        "(c) Apa yang dapat Anda lakukan untuk menangani outlier tersebut? Implementasikan dengan code!"
      ]
    },
    {
      "cell_type": "code",
      "execution_count": 24,
      "metadata": {
        "id": "vMBAr9Rb7cFd"
      },
      "outputs": [
        {
          "name": "stdout",
          "output_type": "stream",
          "text": [
            "Persentase outliers: 19.43%\n"
          ]
        },
        {
          "name": "stderr",
          "output_type": "stream",
          "text": [
            "/var/folders/5w/17bfb9717w7_y1j1p18z6qzm0000gn/T/ipykernel_69629/349514277.py:9: FutureWarning: \n",
            "\n",
            "`shade` is now deprecated in favor of `fill`; setting `fill=True`.\n",
            "This will become an error in seaborn v0.14.0; please update your code.\n",
            "\n",
            "  sns.kdeplot(data=datacylindernumber, shade=True)\n"
          ]
        },
        {
          "data": {
            "image/png": "[encoded data removed]",
            "text/plain": [
              "<Figure size 720x360 with 1 Axes>"
            ]
          },
          "metadata": {
            "needs_background": "light"
          },
          "output_type": "display_data"
        }
      ],
      "source": [
        "# 2(c) Implementasi code di sini\n",
        "persentasioutlier = 41/len(datacylindernumber)\n",
        "print(\"Persentase outliers: {0:.2f}%\".format(persentasioutlier*100))\n",
        "\n",
        "plt.figure(figsize=(10,5))\n",
        "plt.vlines(x=datacylindernumber.mean(), ymin=0, ymax=1, color='brown')\n",
        "plt.vlines(x=datacylindernumber.median(), ymin=0, ymax=1, color='orange')\n",
        "plt.vlines(x=scp.mode(datacylindernumber)[0][0], ymin=0, ymax=0.8, color='green')\n",
        "sns.kdeplot(data=datacylindernumber, shade=True)\n",
        "plt.legend([\"mean\", \"median\", \"mode\", \"cylinder number\"])\n",
        "plt.show()"
      ]
    },
    {
      "cell_type": "markdown",
      "metadata": {},
      "source": [
        "Persentasi outliers yang diperoleh bernilai cukup besar yaitu `19.43%`, maka menghilangkan outliers bukan merupakan solusi yang tepat. Kemudian, berdasarkan KDE plot di atas, kita dapat melihat bahwa ekor dari plot di atas memanjang ke kanan sehingga distribusinya tidak normal dan bersifat `right skewed`. Untuk itu, Central Tendency yang tepat untuk atribut tersebut adalah `median`. Dengan demikian, untuk menangani outliersnya, saya mensubstitusikan outliersnya dengan nilai median."
      ]
    },
    {
      "cell_type": "code",
      "execution_count": 25,
      "metadata": {},
      "outputs": [
        {
          "name": "stdout",
          "output_type": "stream",
          "text": [
            "0\n"
          ]
        }
      ],
      "source": [
        "median = datacylindernumber.median()\n",
        "merged_cars[\"cylindernumber\"] = merged_cars[\"cylindernumber\"].mask(((merged_cars[\"cylindernumber\"] < RLB) | (merged_cars[\"cylindernumber\"] > RUB)), median)\n",
        "print(((datacylindernumber < RLB) | (datacylindernumber > RUB)).sum())"
      ]
    },
    {
      "cell_type": "markdown",
      "metadata": {
        "id": "bd-aKJ9lwI0O"
      },
      "source": [
        "## Missing Values"
      ]
    },
    {
      "cell_type": "markdown",
      "metadata": {
        "id": "ZdkXMlUHWxzY"
      },
      "source": [
        "Terkadang data mungkin dalam format yang benar, tetapi beberapa nilainya hilang.\n",
        "\n",
        "*   Nilai yang hilang terjadi ketika tidak ada nilai data yang disimpan untuk suatu variabel (fitur) dalam suatu observasi.\n",
        "*   Biasanya missing value di datase muncul sebagai “?”, “T/A”, 0 atau hanya sel kosong."
      ]
    },
    {
      "cell_type": "markdown",
      "metadata": {
        "id": "tw3zM_5DY3C6"
      },
      "source": [
        "Untuk menangani missing values, tidak terdapat jawaban tunggal yang selalu bekerja untuk semua skenario, karena  tentunya penanganan missing values harus disesuaikan dengan kondisi data atau fitur yang memiliki missing values. Namun, terdapat beberapa opsi umum yang dapat dipertimbangkan, yaitu: \n",
        "\n",
        "*   Periksa lagi dengan orang/kelompok yang mengumpulkan data.\n",
        "*   Jika kita tidak mengetahui nilai yang hilang, opsi yang mungkin adalah menghapus/drop missing values.\n",
        "    * Menghapus kolom yang mengandung missing values, atau \n",
        "    * Menghapus beberapa baris data yang mengandung missing values.\n",
        "*  Jika data relatif sedikit, opsi yang mungkin adalah mengganti/replace nilai missing values. \n",
        "    * Mengganti nilai missing value dengan nilai mean keseluruhan variabel.\n",
        "    * Jika variabelnya non-numerik, ganti nilai missing value dengan frekuensi/modus. \n",
        "*   Jika kita berasumsi data tersebut tetap akan berguna meskipun ada fitur yang hilang, maka kita dapat membiarkan missing values. \n",
        "\n",
        "\n",
        "\n",
        "\n"
      ]
    },
    {
      "cell_type": "code",
      "execution_count": 26,
      "metadata": {
        "id": "jxmLWlatOVF8"
      },
      "outputs": [],
      "source": [
        "# Cek missing value\n",
        "def cek_null(df):\n",
        "    col_na = df.isnull().sum().sort_values(ascending=False)\n",
        "    percent = col_na / len(df)\n",
        "    \n",
        "    missing_data = pd.concat([col_na, percent], axis=1, keys=['Total', 'Percent'])\n",
        "    print(missing_data[missing_data['Total'] > 0])"
      ]
    },
    {
      "cell_type": "code",
      "execution_count": 27,
      "metadata": {
        "colab": {
          "base_uri": "https://localhost:8080/"
        },
        "id": "G_vYn8ZxOVF9",
        "outputId": "ffd6af64-bf39-4772-8fd9-62e3814d1769"
      },
      "outputs": [
        {
          "name": "stdout",
          "output_type": "stream",
          "text": [
            "                  Total   Percent\n",
            "curbweight          175  0.829384\n",
            "enginetype           19  0.090047\n",
            "enginelocation       19  0.090047\n",
            "cylindernumber       19  0.090047\n",
            "drivewheel           16  0.075829\n",
            "carheight            16  0.075829\n",
            "compressionratio      8  0.037915\n",
            "aspiration            5  0.023697\n",
            "doornumber            5  0.023697\n",
            "carbody               5  0.023697\n",
            "enginesize            5  0.023697\n",
            "fuelsystem            4  0.018957\n",
            "carwidth              2  0.009479\n",
            "carlength             2  0.009479\n",
            "wheelbase             2  0.009479\n",
            "fueltype              1  0.004739\n",
            "horsepower            1  0.004739\n"
          ]
        }
      ],
      "source": [
        "cek_null(merged_cars)"
      ]
    },
    {
      "cell_type": "markdown",
      "metadata": {
        "id": "E6VwvbP5z-Rk"
      },
      "source": [
        "Terdapat beberapa atribut memiliki null value yang sangat banyak, atribut body memiliki null value yang paling banyak hingga 81%, \"curbweight\""
      ]
    },
    {
      "cell_type": "code",
      "execution_count": 28,
      "metadata": {
        "colab": {
          "base_uri": "https://localhost:8080/"
        },
        "id": "1Lf9rpqPpQUe",
        "outputId": "d9149bab-1cf6-447b-de74-6a51e865457d"
      },
      "outputs": [
        {
          "data": {
            "text/plain": [
              "0     2548.0\n",
              "1        NaN\n",
              "2        NaN\n",
              "3        NaN\n",
              "4        NaN\n",
              "5        NaN\n",
              "6     2844.0\n",
              "7     2954.0\n",
              "8        NaN\n",
              "9        NaN\n",
              "10       NaN\n",
              "11       NaN\n",
              "12       NaN\n",
              "13       NaN\n",
              "14       NaN\n",
              "15       NaN\n",
              "16       NaN\n",
              "17       NaN\n",
              "18       NaN\n",
              "19       NaN\n",
              "Name: curbweight, dtype: float64"
            ]
          },
          "execution_count": 28,
          "metadata": {},
          "output_type": "execute_result"
        }
      ],
      "source": [
        "# Melihat isi cabin (20 baris pertama)\n",
        "merged_cars['curbweight'].head(20)"
      ]
    },
    {
      "cell_type": "code",
      "execution_count": 29,
      "metadata": {
        "colab": {
          "base_uri": "https://localhost:8080/",
          "height": 322
        },
        "id": "SaljTpbZqsvH",
        "outputId": "a775897c-c0da-4594-d990-697364d781af"
      },
      "outputs": [
        {
          "data": {
            "text/html": [
              "<div>\n",
              "<style scoped>\n",
              "    .dataframe tbody tr th:only-of-type {\n",
              "        vertical-align: middle;\n",
              "    }\n",
              "\n",
              "    .dataframe tbody tr th {\n",
              "        vertical-align: top;\n",
              "    }\n",
              "\n",
              "    .dataframe thead th {\n",
              "        text-align: right;\n",
              "    }\n",
              "</style>\n",
              "<table border=\"1\" class=\"dataframe\">\n",
              "  <thead>\n",
              "    <tr style=\"text-align: right;\">\n",
              "      <th></th>\n",
              "      <th>CarName</th>\n",
              "      <th>fueltype</th>\n",
              "      <th>aspiration</th>\n",
              "      <th>doornumber</th>\n",
              "      <th>carbody</th>\n",
              "      <th>drivewheel</th>\n",
              "      <th>enginelocation</th>\n",
              "      <th>wheelbase</th>\n",
              "      <th>carlength</th>\n",
              "      <th>carwidth</th>\n",
              "      <th>carheight</th>\n",
              "      <th>enginetype</th>\n",
              "      <th>cylindernumber</th>\n",
              "      <th>enginesize</th>\n",
              "      <th>fuelsystem</th>\n",
              "      <th>compressionratio</th>\n",
              "      <th>horsepower</th>\n",
              "      <th>citympg</th>\n",
              "      <th>highwaympg</th>\n",
              "      <th>price</th>\n",
              "    </tr>\n",
              "  </thead>\n",
              "  <tbody>\n",
              "    <tr>\n",
              "      <th>0</th>\n",
              "      <td>alfa-romero</td>\n",
              "      <td>gas</td>\n",
              "      <td>std</td>\n",
              "      <td>2.0</td>\n",
              "      <td>convertible</td>\n",
              "      <td>rwd</td>\n",
              "      <td>front</td>\n",
              "      <td>88.6</td>\n",
              "      <td>168.8</td>\n",
              "      <td>64.1</td>\n",
              "      <td>48.8</td>\n",
              "      <td>dohc</td>\n",
              "      <td>4.0</td>\n",
              "      <td>130.0</td>\n",
              "      <td>mpfi</td>\n",
              "      <td>9.0</td>\n",
              "      <td>111.0</td>\n",
              "      <td>21</td>\n",
              "      <td>27</td>\n",
              "      <td>13495.0</td>\n",
              "    </tr>\n",
              "    <tr>\n",
              "      <th>1</th>\n",
              "      <td>alfa-romero</td>\n",
              "      <td>gas</td>\n",
              "      <td>std</td>\n",
              "      <td>2.0</td>\n",
              "      <td>convertible</td>\n",
              "      <td>rwd</td>\n",
              "      <td>front</td>\n",
              "      <td>88.6</td>\n",
              "      <td>168.8</td>\n",
              "      <td>64.1</td>\n",
              "      <td>48.8</td>\n",
              "      <td>dohc</td>\n",
              "      <td>4.0</td>\n",
              "      <td>130.0</td>\n",
              "      <td>mpfi</td>\n",
              "      <td>9.0</td>\n",
              "      <td>111.0</td>\n",
              "      <td>21</td>\n",
              "      <td>27</td>\n",
              "      <td>16500.0</td>\n",
              "    </tr>\n",
              "    <tr>\n",
              "      <th>2</th>\n",
              "      <td>alfa-romero</td>\n",
              "      <td>gas</td>\n",
              "      <td>std</td>\n",
              "      <td>2.0</td>\n",
              "      <td>hatchback</td>\n",
              "      <td>rwd</td>\n",
              "      <td>front</td>\n",
              "      <td>94.5</td>\n",
              "      <td>171.2</td>\n",
              "      <td>65.5</td>\n",
              "      <td>52.4</td>\n",
              "      <td>ohcv</td>\n",
              "      <td>4.0</td>\n",
              "      <td>152.0</td>\n",
              "      <td>mpfi</td>\n",
              "      <td>9.0</td>\n",
              "      <td>154.0</td>\n",
              "      <td>19</td>\n",
              "      <td>26</td>\n",
              "      <td>16500.0</td>\n",
              "    </tr>\n",
              "    <tr>\n",
              "      <th>3</th>\n",
              "      <td>audi</td>\n",
              "      <td>gas</td>\n",
              "      <td>std</td>\n",
              "      <td>4.0</td>\n",
              "      <td>sedan</td>\n",
              "      <td>fwd</td>\n",
              "      <td>front</td>\n",
              "      <td>99.8</td>\n",
              "      <td>176.6</td>\n",
              "      <td>66.2</td>\n",
              "      <td>54.3</td>\n",
              "      <td>ohc</td>\n",
              "      <td>4.0</td>\n",
              "      <td>109.0</td>\n",
              "      <td>mpfi</td>\n",
              "      <td>10.0</td>\n",
              "      <td>102.0</td>\n",
              "      <td>24</td>\n",
              "      <td>30</td>\n",
              "      <td>13950.0</td>\n",
              "    </tr>\n",
              "    <tr>\n",
              "      <th>4</th>\n",
              "      <td>audi</td>\n",
              "      <td>gas</td>\n",
              "      <td>std</td>\n",
              "      <td>4.0</td>\n",
              "      <td>sedan</td>\n",
              "      <td>4wd</td>\n",
              "      <td>front</td>\n",
              "      <td>99.4</td>\n",
              "      <td>176.6</td>\n",
              "      <td>66.4</td>\n",
              "      <td>54.3</td>\n",
              "      <td>ohc</td>\n",
              "      <td>4.0</td>\n",
              "      <td>136.0</td>\n",
              "      <td>mpfi</td>\n",
              "      <td>8.0</td>\n",
              "      <td>115.0</td>\n",
              "      <td>18</td>\n",
              "      <td>22</td>\n",
              "      <td>17450.0</td>\n",
              "    </tr>\n",
              "  </tbody>\n",
              "</table>\n",
              "</div>"
            ],
            "text/plain": [
              "       CarName fueltype aspiration  doornumber      carbody drivewheel  \\\n",
              "0  alfa-romero      gas        std         2.0  convertible        rwd   \n",
              "1  alfa-romero      gas        std         2.0  convertible        rwd   \n",
              "2  alfa-romero      gas        std         2.0    hatchback        rwd   \n",
              "3         audi      gas        std         4.0        sedan        fwd   \n",
              "4         audi      gas        std         4.0        sedan        4wd   \n",
              "\n",
              "  enginelocation  wheelbase  carlength  carwidth  carheight enginetype  \\\n",
              "0          front       88.6      168.8      64.1       48.8       dohc   \n",
              "1          front       88.6      168.8      64.1       48.8       dohc   \n",
              "2          front       94.5      171.2      65.5       52.4       ohcv   \n",
              "3          front       99.8      176.6      66.2       54.3        ohc   \n",
              "4          front       99.4      176.6      66.4       54.3        ohc   \n",
              "\n",
              "   cylindernumber  enginesize fuelsystem  compressionratio  horsepower  \\\n",
              "0             4.0       130.0       mpfi               9.0       111.0   \n",
              "1             4.0       130.0       mpfi               9.0       111.0   \n",
              "2             4.0       152.0       mpfi               9.0       154.0   \n",
              "3             4.0       109.0       mpfi              10.0       102.0   \n",
              "4             4.0       136.0       mpfi               8.0       115.0   \n",
              "\n",
              "   citympg  highwaympg    price  \n",
              "0       21          27  13495.0  \n",
              "1       21          27  16500.0  \n",
              "2       19          26  16500.0  \n",
              "3       24          30  13950.0  \n",
              "4       18          22  17450.0  "
            ]
          },
          "execution_count": 29,
          "metadata": {},
          "output_type": "execute_result"
        }
      ],
      "source": [
        "# Drop atribut yang dianggap tidak penting\n",
        "cars_cleaned = merged_cars.drop(['curbweight', 'peakrpm'], axis=1)\n",
        "cars_cleaned.head()"
      ]
    },
    {
      "cell_type": "markdown",
      "metadata": {
        "id": "kv7NsoTEm_zU"
      },
      "source": [
        "Atribut-atribut tersebut dianggap tidak penting berdasarkan pertimbangan, nalar, atau basic knowledge manusia. Sebagai contoh, apabila kita ingin mengukur survival rate penumpang Titanic, atribut nama pada dataset ini tidak mengindikasikan apakah dia survive apa tidak. Selain itu, ada beberapa atribut juga yang mungkin tidak akan mempengaruhi pengukuran tersebut. Sehingga atribut-atribut tersebut dapat didrop.\n"
      ]
    },
    {
      "cell_type": "markdown",
      "metadata": {
        "id": "2wg_F4N3tQPn"
      },
      "source": [
        "Atribut perlu didrop apabila:\n",
        "\n",
        "*   Atribut tidak intuitif.\n",
        "*   Atribut mempunyai banyak missing values.\n",
        "*   Atribut tidak informatif.\n",
        "*   Atribut dapat membahayakan untuk model tertentu.\n",
        "*   Atribut tersebut dapat dihasilkan dari atribut yang lain.\n",
        "\n"
      ]
    },
    {
      "cell_type": "markdown",
      "metadata": {
        "id": "e7Q-qUDPz-Rm"
      },
      "source": [
        "Setelah atribut yang tidak penting dihapus, perlu ditangani atribut yang masih mengandung null value."
      ]
    },
    {
      "cell_type": "code",
      "execution_count": 30,
      "metadata": {
        "id": "vlyjIawArFUI"
      },
      "outputs": [],
      "source": [
        "# Untuk atribut enginelocation, null value akan diisi dengan \"front\"\n",
        "cars_cleaned['enginelocation'] = cars_cleaned['enginelocation'].fillna('front')"
      ]
    },
    {
      "cell_type": "code",
      "execution_count": 31,
      "metadata": {
        "id": "7-kkjlHfgbKt"
      },
      "outputs": [],
      "source": [
        "# Untuk atribut drivewheel, null value akan diisi dengan \"4wd\"\n",
        "cars_cleaned['drivewheel'] = cars_cleaned['drivewheel'].fillna('4wd')"
      ]
    },
    {
      "cell_type": "code",
      "execution_count": 32,
      "metadata": {
        "id": "hYm9ms0Fgnrg"
      },
      "outputs": [],
      "source": [
        "# Untuk atribut enginetype, null value akan diisi dengan \"ohc\"\n",
        "cars_cleaned['enginetype'] = cars_cleaned['enginetype'].fillna('ohc')"
      ]
    },
    {
      "cell_type": "code",
      "execution_count": 33,
      "metadata": {
        "id": "NKY1kVzWrpsV"
      },
      "outputs": [],
      "source": [
        "# Untuk atribute \"cylindernumber\", null value akan diisi dengan nilai mode\n",
        "col = ['cylindernumber']\n",
        "for c in col:\n",
        "    mode = int(cars_cleaned[~cars_cleaned.isna()].cylindernumber.mode())\n",
        "    cars_cleaned[c] = cars_cleaned[c].fillna(mode)"
      ]
    },
    {
      "cell_type": "code",
      "execution_count": 34,
      "metadata": {
        "id": "mhElxhMPjvcZ"
      },
      "outputs": [],
      "source": [
        "# Untuk atribute \"carheight\", null value akan diisi dengan nilai median\n",
        "col = ['carheight']\n",
        "for c in col:\n",
        "    median = int(cars_cleaned[~cars_cleaned.isna()].carheight.median())\n",
        "    cars_cleaned[c] = cars_cleaned[c].fillna(median)"
      ]
    },
    {
      "cell_type": "code",
      "execution_count": 35,
      "metadata": {
        "id": "GclBIWrakQUl"
      },
      "outputs": [],
      "source": [
        "# Untuk atribute \"compressionratio\", null value akan diisi dengan nilai median\n",
        "col = ['compressionratio']\n",
        "for c in col:\n",
        "    median = int(cars_cleaned[~cars_cleaned.isna()].compressionratio.median())\n",
        "    cars_cleaned[c] = cars_cleaned[c].fillna(median)"
      ]
    },
    {
      "cell_type": "code",
      "execution_count": 36,
      "metadata": {
        "colab": {
          "base_uri": "https://localhost:8080/"
        },
        "id": "TSXGJngarAAT",
        "outputId": "72de079d-c0ec-4fa8-bf71-bbc85ea99e68"
      },
      "outputs": [
        {
          "name": "stdout",
          "output_type": "stream",
          "text": [
            "            Total   Percent\n",
            "aspiration      5  0.023697\n",
            "doornumber      5  0.023697\n",
            "carbody         5  0.023697\n",
            "enginesize      5  0.023697\n",
            "fuelsystem      4  0.018957\n",
            "wheelbase       2  0.009479\n",
            "carlength       2  0.009479\n",
            "carwidth        2  0.009479\n",
            "fueltype        1  0.004739\n",
            "horsepower      1  0.004739\n"
          ]
        }
      ],
      "source": [
        "cek_null(cars_cleaned)"
      ]
    },
    {
      "cell_type": "code",
      "execution_count": 37,
      "metadata": {
        "id": "vj9pull1OVGK"
      },
      "outputs": [],
      "source": [
        "# Hapus baris yang atribute \"fare\" bernilai null\n",
        "cars_cleaned.dropna(inplace=True)"
      ]
    },
    {
      "cell_type": "code",
      "execution_count": 38,
      "metadata": {
        "colab": {
          "base_uri": "https://localhost:8080/"
        },
        "id": "ISI2cUbBuapN",
        "outputId": "4a04b4bb-f70c-4610-b16e-ec5944b97a46"
      },
      "outputs": [
        {
          "data": {
            "text/plain": [
              "(191, 20)"
            ]
          },
          "execution_count": 38,
          "metadata": {},
          "output_type": "execute_result"
        }
      ],
      "source": [
        "cars_cleaned.shape"
      ]
    },
    {
      "cell_type": "code",
      "execution_count": 39,
      "metadata": {
        "colab": {
          "base_uri": "https://localhost:8080/",
          "height": 322
        },
        "id": "9IFXEigrOVGK",
        "outputId": "cc033167-a897-49ea-a292-4161c44c33b1"
      },
      "outputs": [
        {
          "data": {
            "text/html": [
              "<div>\n",
              "<style scoped>\n",
              "    .dataframe tbody tr th:only-of-type {\n",
              "        vertical-align: middle;\n",
              "    }\n",
              "\n",
              "    .dataframe tbody tr th {\n",
              "        vertical-align: top;\n",
              "    }\n",
              "\n",
              "    .dataframe thead th {\n",
              "        text-align: right;\n",
              "    }\n",
              "</style>\n",
              "<table border=\"1\" class=\"dataframe\">\n",
              "  <thead>\n",
              "    <tr style=\"text-align: right;\">\n",
              "      <th></th>\n",
              "      <th>CarName</th>\n",
              "      <th>fueltype</th>\n",
              "      <th>aspiration</th>\n",
              "      <th>doornumber</th>\n",
              "      <th>carbody</th>\n",
              "      <th>drivewheel</th>\n",
              "      <th>enginelocation</th>\n",
              "      <th>wheelbase</th>\n",
              "      <th>carlength</th>\n",
              "      <th>carwidth</th>\n",
              "      <th>carheight</th>\n",
              "      <th>enginetype</th>\n",
              "      <th>cylindernumber</th>\n",
              "      <th>enginesize</th>\n",
              "      <th>fuelsystem</th>\n",
              "      <th>compressionratio</th>\n",
              "      <th>horsepower</th>\n",
              "      <th>citympg</th>\n",
              "      <th>highwaympg</th>\n",
              "      <th>price</th>\n",
              "    </tr>\n",
              "  </thead>\n",
              "  <tbody>\n",
              "    <tr>\n",
              "      <th>0</th>\n",
              "      <td>alfa-romero</td>\n",
              "      <td>gas</td>\n",
              "      <td>std</td>\n",
              "      <td>2.0</td>\n",
              "      <td>convertible</td>\n",
              "      <td>rwd</td>\n",
              "      <td>front</td>\n",
              "      <td>88.6</td>\n",
              "      <td>168.8</td>\n",
              "      <td>64.1</td>\n",
              "      <td>48.8</td>\n",
              "      <td>dohc</td>\n",
              "      <td>4.0</td>\n",
              "      <td>130.0</td>\n",
              "      <td>mpfi</td>\n",
              "      <td>9.0</td>\n",
              "      <td>111.0</td>\n",
              "      <td>21</td>\n",
              "      <td>27</td>\n",
              "      <td>13495.0</td>\n",
              "    </tr>\n",
              "    <tr>\n",
              "      <th>1</th>\n",
              "      <td>alfa-romero</td>\n",
              "      <td>gas</td>\n",
              "      <td>std</td>\n",
              "      <td>2.0</td>\n",
              "      <td>convertible</td>\n",
              "      <td>rwd</td>\n",
              "      <td>front</td>\n",
              "      <td>88.6</td>\n",
              "      <td>168.8</td>\n",
              "      <td>64.1</td>\n",
              "      <td>48.8</td>\n",
              "      <td>dohc</td>\n",
              "      <td>4.0</td>\n",
              "      <td>130.0</td>\n",
              "      <td>mpfi</td>\n",
              "      <td>9.0</td>\n",
              "      <td>111.0</td>\n",
              "      <td>21</td>\n",
              "      <td>27</td>\n",
              "      <td>16500.0</td>\n",
              "    </tr>\n",
              "    <tr>\n",
              "      <th>2</th>\n",
              "      <td>alfa-romero</td>\n",
              "      <td>gas</td>\n",
              "      <td>std</td>\n",
              "      <td>2.0</td>\n",
              "      <td>hatchback</td>\n",
              "      <td>rwd</td>\n",
              "      <td>front</td>\n",
              "      <td>94.5</td>\n",
              "      <td>171.2</td>\n",
              "      <td>65.5</td>\n",
              "      <td>52.4</td>\n",
              "      <td>ohcv</td>\n",
              "      <td>4.0</td>\n",
              "      <td>152.0</td>\n",
              "      <td>mpfi</td>\n",
              "      <td>9.0</td>\n",
              "      <td>154.0</td>\n",
              "      <td>19</td>\n",
              "      <td>26</td>\n",
              "      <td>16500.0</td>\n",
              "    </tr>\n",
              "    <tr>\n",
              "      <th>3</th>\n",
              "      <td>audi</td>\n",
              "      <td>gas</td>\n",
              "      <td>std</td>\n",
              "      <td>4.0</td>\n",
              "      <td>sedan</td>\n",
              "      <td>fwd</td>\n",
              "      <td>front</td>\n",
              "      <td>99.8</td>\n",
              "      <td>176.6</td>\n",
              "      <td>66.2</td>\n",
              "      <td>54.3</td>\n",
              "      <td>ohc</td>\n",
              "      <td>4.0</td>\n",
              "      <td>109.0</td>\n",
              "      <td>mpfi</td>\n",
              "      <td>10.0</td>\n",
              "      <td>102.0</td>\n",
              "      <td>24</td>\n",
              "      <td>30</td>\n",
              "      <td>13950.0</td>\n",
              "    </tr>\n",
              "    <tr>\n",
              "      <th>4</th>\n",
              "      <td>audi</td>\n",
              "      <td>gas</td>\n",
              "      <td>std</td>\n",
              "      <td>4.0</td>\n",
              "      <td>sedan</td>\n",
              "      <td>4wd</td>\n",
              "      <td>front</td>\n",
              "      <td>99.4</td>\n",
              "      <td>176.6</td>\n",
              "      <td>66.4</td>\n",
              "      <td>54.3</td>\n",
              "      <td>ohc</td>\n",
              "      <td>4.0</td>\n",
              "      <td>136.0</td>\n",
              "      <td>mpfi</td>\n",
              "      <td>8.0</td>\n",
              "      <td>115.0</td>\n",
              "      <td>18</td>\n",
              "      <td>22</td>\n",
              "      <td>17450.0</td>\n",
              "    </tr>\n",
              "  </tbody>\n",
              "</table>\n",
              "</div>"
            ],
            "text/plain": [
              "       CarName fueltype aspiration  doornumber      carbody drivewheel  \\\n",
              "0  alfa-romero      gas        std         2.0  convertible        rwd   \n",
              "1  alfa-romero      gas        std         2.0  convertible        rwd   \n",
              "2  alfa-romero      gas        std         2.0    hatchback        rwd   \n",
              "3         audi      gas        std         4.0        sedan        fwd   \n",
              "4         audi      gas        std         4.0        sedan        4wd   \n",
              "\n",
              "  enginelocation  wheelbase  carlength  carwidth  carheight enginetype  \\\n",
              "0          front       88.6      168.8      64.1       48.8       dohc   \n",
              "1          front       88.6      168.8      64.1       48.8       dohc   \n",
              "2          front       94.5      171.2      65.5       52.4       ohcv   \n",
              "3          front       99.8      176.6      66.2       54.3        ohc   \n",
              "4          front       99.4      176.6      66.4       54.3        ohc   \n",
              "\n",
              "   cylindernumber  enginesize fuelsystem  compressionratio  horsepower  \\\n",
              "0             4.0       130.0       mpfi               9.0       111.0   \n",
              "1             4.0       130.0       mpfi               9.0       111.0   \n",
              "2             4.0       152.0       mpfi               9.0       154.0   \n",
              "3             4.0       109.0       mpfi              10.0       102.0   \n",
              "4             4.0       136.0       mpfi               8.0       115.0   \n",
              "\n",
              "   citympg  highwaympg    price  \n",
              "0       21          27  13495.0  \n",
              "1       21          27  16500.0  \n",
              "2       19          26  16500.0  \n",
              "3       24          30  13950.0  \n",
              "4       18          22  17450.0  "
            ]
          },
          "execution_count": 39,
          "metadata": {},
          "output_type": "execute_result"
        }
      ],
      "source": [
        "cars_cleaned.head()"
      ]
    },
    {
      "cell_type": "markdown",
      "metadata": {
        "id": "-XF3RHBnqNfa"
      },
      "source": [
        "## Label Encoding"
      ]
    },
    {
      "cell_type": "code",
      "execution_count": 40,
      "metadata": {
        "colab": {
          "base_uri": "https://localhost:8080/"
        },
        "id": "fwlxWzK7ujcs",
        "outputId": "ec24801b-5ce8-4126-f2f4-acdd8f3fb9bd"
      },
      "outputs": [
        {
          "name": "stdout",
          "output_type": "stream",
          "text": [
            "<class 'pandas.core.frame.DataFrame'>\n",
            "Int64Index: 211 entries, 0 to 237\n",
            "Data columns (total 22 columns):\n",
            " #   Column            Non-Null Count  Dtype  \n",
            "---  ------            --------------  -----  \n",
            " 0   CarName           211 non-null    object \n",
            " 1   fueltype          210 non-null    object \n",
            " 2   aspiration        206 non-null    object \n",
            " 3   doornumber        206 non-null    float64\n",
            " 4   carbody           206 non-null    object \n",
            " 5   drivewheel        195 non-null    object \n",
            " 6   enginelocation    192 non-null    object \n",
            " 7   wheelbase         209 non-null    float64\n",
            " 8   carlength         209 non-null    float64\n",
            " 9   carwidth          209 non-null    float64\n",
            " 10  carheight         195 non-null    float64\n",
            " 11  curbweight        36 non-null     float64\n",
            " 12  enginetype        192 non-null    object \n",
            " 13  cylindernumber    192 non-null    float64\n",
            " 14  enginesize        206 non-null    float64\n",
            " 15  fuelsystem        207 non-null    object \n",
            " 16  compressionratio  203 non-null    float64\n",
            " 17  horsepower        210 non-null    float64\n",
            " 18  peakrpm           211 non-null    int64  \n",
            " 19  citympg           211 non-null    int64  \n",
            " 20  highwaympg        211 non-null    int64  \n",
            " 21  price             211 non-null    float64\n",
            "dtypes: float64(11), int64(3), object(8)\n",
            "memory usage: 37.9+ KB\n"
          ]
        }
      ],
      "source": [
        "merged_cars.info()"
      ]
    },
    {
      "cell_type": "code",
      "execution_count": 41,
      "metadata": {
        "id": "YBTW9QWaunGK"
      },
      "outputs": [],
      "source": [
        "# Melakukan label encoding, untuk mengubah data kategorikal bertipe string ke numeric value\n",
        "col = cars_cleaned.select_dtypes(include=[\"object\"]).columns\n",
        "\n",
        "for c in col:\n",
        "    if len(cars_cleaned[c].value_counts()) <= 28:\n",
        "        le = LabelEncoder() \n",
        "        le.fit(list(cars_cleaned[c].values)) \n",
        "        cars_cleaned[c] = le.transform(list(cars_cleaned[c].values))"
      ]
    },
    {
      "cell_type": "code",
      "execution_count": 42,
      "metadata": {
        "colab": {
          "base_uri": "https://localhost:8080/",
          "height": 270
        },
        "id": "oF5FvWysu97L",
        "outputId": "9d44bd6b-fb68-4956-ce61-a2f5021bfc7c"
      },
      "outputs": [
        {
          "data": {
            "text/html": [
              "<div>\n",
              "<style scoped>\n",
              "    .dataframe tbody tr th:only-of-type {\n",
              "        vertical-align: middle;\n",
              "    }\n",
              "\n",
              "    .dataframe tbody tr th {\n",
              "        vertical-align: top;\n",
              "    }\n",
              "\n",
              "    .dataframe thead th {\n",
              "        text-align: right;\n",
              "    }\n",
              "</style>\n",
              "<table border=\"1\" class=\"dataframe\">\n",
              "  <thead>\n",
              "    <tr style=\"text-align: right;\">\n",
              "      <th></th>\n",
              "      <th>CarName</th>\n",
              "      <th>fueltype</th>\n",
              "      <th>aspiration</th>\n",
              "      <th>doornumber</th>\n",
              "      <th>carbody</th>\n",
              "      <th>drivewheel</th>\n",
              "      <th>enginelocation</th>\n",
              "      <th>wheelbase</th>\n",
              "      <th>carlength</th>\n",
              "      <th>carwidth</th>\n",
              "      <th>carheight</th>\n",
              "      <th>enginetype</th>\n",
              "      <th>cylindernumber</th>\n",
              "      <th>enginesize</th>\n",
              "      <th>fuelsystem</th>\n",
              "      <th>compressionratio</th>\n",
              "      <th>horsepower</th>\n",
              "      <th>citympg</th>\n",
              "      <th>highwaympg</th>\n",
              "      <th>price</th>\n",
              "    </tr>\n",
              "  </thead>\n",
              "  <tbody>\n",
              "    <tr>\n",
              "      <th>0</th>\n",
              "      <td>1</td>\n",
              "      <td>1</td>\n",
              "      <td>0</td>\n",
              "      <td>2.0</td>\n",
              "      <td>1</td>\n",
              "      <td>2</td>\n",
              "      <td>0</td>\n",
              "      <td>88.6</td>\n",
              "      <td>168.8</td>\n",
              "      <td>64.1</td>\n",
              "      <td>48.8</td>\n",
              "      <td>0</td>\n",
              "      <td>4.0</td>\n",
              "      <td>130.0</td>\n",
              "      <td>5</td>\n",
              "      <td>9.0</td>\n",
              "      <td>111.0</td>\n",
              "      <td>21</td>\n",
              "      <td>27</td>\n",
              "      <td>13495.0</td>\n",
              "    </tr>\n",
              "    <tr>\n",
              "      <th>1</th>\n",
              "      <td>1</td>\n",
              "      <td>1</td>\n",
              "      <td>0</td>\n",
              "      <td>2.0</td>\n",
              "      <td>1</td>\n",
              "      <td>2</td>\n",
              "      <td>0</td>\n",
              "      <td>88.6</td>\n",
              "      <td>168.8</td>\n",
              "      <td>64.1</td>\n",
              "      <td>48.8</td>\n",
              "      <td>0</td>\n",
              "      <td>4.0</td>\n",
              "      <td>130.0</td>\n",
              "      <td>5</td>\n",
              "      <td>9.0</td>\n",
              "      <td>111.0</td>\n",
              "      <td>21</td>\n",
              "      <td>27</td>\n",
              "      <td>16500.0</td>\n",
              "    </tr>\n",
              "    <tr>\n",
              "      <th>2</th>\n",
              "      <td>1</td>\n",
              "      <td>1</td>\n",
              "      <td>0</td>\n",
              "      <td>2.0</td>\n",
              "      <td>3</td>\n",
              "      <td>2</td>\n",
              "      <td>0</td>\n",
              "      <td>94.5</td>\n",
              "      <td>171.2</td>\n",
              "      <td>65.5</td>\n",
              "      <td>52.4</td>\n",
              "      <td>5</td>\n",
              "      <td>4.0</td>\n",
              "      <td>152.0</td>\n",
              "      <td>5</td>\n",
              "      <td>9.0</td>\n",
              "      <td>154.0</td>\n",
              "      <td>19</td>\n",
              "      <td>26</td>\n",
              "      <td>16500.0</td>\n",
              "    </tr>\n",
              "    <tr>\n",
              "      <th>3</th>\n",
              "      <td>2</td>\n",
              "      <td>1</td>\n",
              "      <td>0</td>\n",
              "      <td>4.0</td>\n",
              "      <td>4</td>\n",
              "      <td>1</td>\n",
              "      <td>0</td>\n",
              "      <td>99.8</td>\n",
              "      <td>176.6</td>\n",
              "      <td>66.2</td>\n",
              "      <td>54.3</td>\n",
              "      <td>3</td>\n",
              "      <td>4.0</td>\n",
              "      <td>109.0</td>\n",
              "      <td>5</td>\n",
              "      <td>10.0</td>\n",
              "      <td>102.0</td>\n",
              "      <td>24</td>\n",
              "      <td>30</td>\n",
              "      <td>13950.0</td>\n",
              "    </tr>\n",
              "    <tr>\n",
              "      <th>4</th>\n",
              "      <td>2</td>\n",
              "      <td>1</td>\n",
              "      <td>0</td>\n",
              "      <td>4.0</td>\n",
              "      <td>4</td>\n",
              "      <td>0</td>\n",
              "      <td>0</td>\n",
              "      <td>99.4</td>\n",
              "      <td>176.6</td>\n",
              "      <td>66.4</td>\n",
              "      <td>54.3</td>\n",
              "      <td>3</td>\n",
              "      <td>4.0</td>\n",
              "      <td>136.0</td>\n",
              "      <td>5</td>\n",
              "      <td>8.0</td>\n",
              "      <td>115.0</td>\n",
              "      <td>18</td>\n",
              "      <td>22</td>\n",
              "      <td>17450.0</td>\n",
              "    </tr>\n",
              "  </tbody>\n",
              "</table>\n",
              "</div>"
            ],
            "text/plain": [
              "   CarName  fueltype  aspiration  doornumber  carbody  drivewheel  \\\n",
              "0        1         1           0         2.0        1           2   \n",
              "1        1         1           0         2.0        1           2   \n",
              "2        1         1           0         2.0        3           2   \n",
              "3        2         1           0         4.0        4           1   \n",
              "4        2         1           0         4.0        4           0   \n",
              "\n",
              "   enginelocation  wheelbase  carlength  carwidth  carheight  enginetype  \\\n",
              "0               0       88.6      168.8      64.1       48.8           0   \n",
              "1               0       88.6      168.8      64.1       48.8           0   \n",
              "2               0       94.5      171.2      65.5       52.4           5   \n",
              "3               0       99.8      176.6      66.2       54.3           3   \n",
              "4               0       99.4      176.6      66.4       54.3           3   \n",
              "\n",
              "   cylindernumber  enginesize  fuelsystem  compressionratio  horsepower  \\\n",
              "0             4.0       130.0           5               9.0       111.0   \n",
              "1             4.0       130.0           5               9.0       111.0   \n",
              "2             4.0       152.0           5               9.0       154.0   \n",
              "3             4.0       109.0           5              10.0       102.0   \n",
              "4             4.0       136.0           5               8.0       115.0   \n",
              "\n",
              "   citympg  highwaympg    price  \n",
              "0       21          27  13495.0  \n",
              "1       21          27  16500.0  \n",
              "2       19          26  16500.0  \n",
              "3       24          30  13950.0  \n",
              "4       18          22  17450.0  "
            ]
          },
          "execution_count": 42,
          "metadata": {},
          "output_type": "execute_result"
        }
      ],
      "source": [
        "cars_cleaned.head()"
      ]
    },
    {
      "cell_type": "code",
      "execution_count": 43,
      "metadata": {
        "colab": {
          "base_uri": "https://localhost:8080/"
        },
        "id": "xBtyn8GqvKyB",
        "outputId": "0b460446-ecdc-4ad8-e4cc-f5b823b7ca9b"
      },
      "outputs": [
        {
          "name": "stdout",
          "output_type": "stream",
          "text": [
            "<class 'pandas.core.frame.DataFrame'>\n",
            "Int64Index: 191 entries, 0 to 237\n",
            "Data columns (total 20 columns):\n",
            " #   Column            Non-Null Count  Dtype  \n",
            "---  ------            --------------  -----  \n",
            " 0   CarName           191 non-null    int64  \n",
            " 1   fueltype          191 non-null    int64  \n",
            " 2   aspiration        191 non-null    int64  \n",
            " 3   doornumber        191 non-null    float64\n",
            " 4   carbody           191 non-null    int64  \n",
            " 5   drivewheel        191 non-null    int64  \n",
            " 6   enginelocation    191 non-null    int64  \n",
            " 7   wheelbase         191 non-null    float64\n",
            " 8   carlength         191 non-null    float64\n",
            " 9   carwidth          191 non-null    float64\n",
            " 10  carheight         191 non-null    float64\n",
            " 11  enginetype        191 non-null    int64  \n",
            " 12  cylindernumber    191 non-null    float64\n",
            " 13  enginesize        191 non-null    float64\n",
            " 14  fuelsystem        191 non-null    int64  \n",
            " 15  compressionratio  191 non-null    float64\n",
            " 16  horsepower        191 non-null    float64\n",
            " 17  citympg           191 non-null    int64  \n",
            " 18  highwaympg        191 non-null    int64  \n",
            " 19  price             191 non-null    float64\n",
            "dtypes: float64(10), int64(10)\n",
            "memory usage: 31.3 KB\n"
          ]
        }
      ],
      "source": [
        "cars_cleaned.info()"
      ]
    },
    {
      "cell_type": "markdown",
      "metadata": {
        "id": "6nDpp29PwYOk"
      },
      "source": [
        "## Preparation for Machine Learning"
      ]
    },
    {
      "cell_type": "markdown",
      "metadata": {
        "id": "fM4zMQnVz-Rp"
      },
      "source": [
        "Misalkan kita diberikan tugas untuk melakukan prediksi berapa harga sebuah mobil. Atribut yang menjadi target adalah \"price\", sedangkan atribut lainnya menjadi *predictor* (fitur yang akan menentukan hasil prediksi).\n",
        "\n",
        "Beberapa pemrosesan yang dapat dilakukan sebelum data kita dimasukkan ke dalam algoritma *machine learning* di antaranya (tapi tidak terbatas pada):\n",
        "* Memisahkan atribut target dan atribut *predictor*\n",
        "* Melakukan normalisasi jika diperlukan\n",
        "* Memisahkan data menjadi data *training* dan *testing* (Akan dibahas pada beberapa Lab selanjutnya)"
      ]
    },
    {
      "cell_type": "code",
      "execution_count": 44,
      "metadata": {
        "id": "mSFQ0swwvj1U"
      },
      "outputs": [],
      "source": [
        "# Memisahkan atribut target (Y) dengan atribut predictor (X)\n",
        "X = cars_cleaned.drop('price', axis=1)\n",
        "Y = cars_cleaned['price']"
      ]
    },
    {
      "cell_type": "markdown",
      "metadata": {
        "id": "PKskkBe55OBI"
      },
      "source": [
        "### **SOAL 3**\n",
        "\n",
        "(a) Lakukan normalisasi pada X. Implementasikan dengan code! Hint: [Dokumentasi Preprocessing Data](https://scikit-learn.org/stable/modules/preprocessing.html#standardization-or-mean-removal-and-variance-scaling)"
      ]
    },
    {
      "cell_type": "code",
      "execution_count": 45,
      "metadata": {
        "id": "WmTNVF8kwQcC"
      },
      "outputs": [
        {
          "data": {
            "text/html": [
              "<div>\n",
              "<style scoped>\n",
              "    .dataframe tbody tr th:only-of-type {\n",
              "        vertical-align: middle;\n",
              "    }\n",
              "\n",
              "    .dataframe tbody tr th {\n",
              "        vertical-align: top;\n",
              "    }\n",
              "\n",
              "    .dataframe thead th {\n",
              "        text-align: right;\n",
              "    }\n",
              "</style>\n",
              "<table border=\"1\" class=\"dataframe\">\n",
              "  <thead>\n",
              "    <tr style=\"text-align: right;\">\n",
              "      <th></th>\n",
              "      <th>CarName</th>\n",
              "      <th>fueltype</th>\n",
              "      <th>aspiration</th>\n",
              "      <th>doornumber</th>\n",
              "      <th>carbody</th>\n",
              "      <th>drivewheel</th>\n",
              "      <th>enginelocation</th>\n",
              "      <th>wheelbase</th>\n",
              "      <th>carlength</th>\n",
              "      <th>carwidth</th>\n",
              "      <th>carheight</th>\n",
              "      <th>enginetype</th>\n",
              "      <th>cylindernumber</th>\n",
              "      <th>enginesize</th>\n",
              "      <th>fuelsystem</th>\n",
              "      <th>compressionratio</th>\n",
              "      <th>horsepower</th>\n",
              "      <th>citympg</th>\n",
              "      <th>highwaympg</th>\n",
              "    </tr>\n",
              "  </thead>\n",
              "  <tbody>\n",
              "    <tr>\n",
              "      <th>count</th>\n",
              "      <td>191.000000</td>\n",
              "      <td>191.000000</td>\n",
              "      <td>191.000000</td>\n",
              "      <td>191.000000</td>\n",
              "      <td>191.00000</td>\n",
              "      <td>191.000000</td>\n",
              "      <td>191.000000</td>\n",
              "      <td>191.000000</td>\n",
              "      <td>191.000000</td>\n",
              "      <td>191.000000</td>\n",
              "      <td>191.000000</td>\n",
              "      <td>191.000000</td>\n",
              "      <td>191.0</td>\n",
              "      <td>191.000000</td>\n",
              "      <td>191.000000</td>\n",
              "      <td>191.000000</td>\n",
              "      <td>191.000000</td>\n",
              "      <td>191.000000</td>\n",
              "      <td>191.000000</td>\n",
              "    </tr>\n",
              "    <tr>\n",
              "      <th>mean</th>\n",
              "      <td>0.550237</td>\n",
              "      <td>0.895288</td>\n",
              "      <td>0.172775</td>\n",
              "      <td>0.575916</td>\n",
              "      <td>0.72356</td>\n",
              "      <td>0.623037</td>\n",
              "      <td>0.015707</td>\n",
              "      <td>0.352999</td>\n",
              "      <td>0.487177</td>\n",
              "      <td>0.468499</td>\n",
              "      <td>0.499346</td>\n",
              "      <td>0.507853</td>\n",
              "      <td>0.0</td>\n",
              "      <td>0.240364</td>\n",
              "      <td>0.450262</td>\n",
              "      <td>0.205308</td>\n",
              "      <td>0.223647</td>\n",
              "      <td>0.349767</td>\n",
              "      <td>0.397906</td>\n",
              "    </tr>\n",
              "    <tr>\n",
              "      <th>std</th>\n",
              "      <td>0.328413</td>\n",
              "      <td>0.306987</td>\n",
              "      <td>0.379046</td>\n",
              "      <td>0.495502</td>\n",
              "      <td>0.17717</td>\n",
              "      <td>0.319198</td>\n",
              "      <td>0.124665</td>\n",
              "      <td>0.179200</td>\n",
              "      <td>0.186083</td>\n",
              "      <td>0.185717</td>\n",
              "      <td>0.194149</td>\n",
              "      <td>0.166919</td>\n",
              "      <td>0.0</td>\n",
              "      <td>0.156821</td>\n",
              "      <td>0.286577</td>\n",
              "      <td>0.254612</td>\n",
              "      <td>0.161744</td>\n",
              "      <td>0.182242</td>\n",
              "      <td>0.181763</td>\n",
              "    </tr>\n",
              "    <tr>\n",
              "      <th>min</th>\n",
              "      <td>0.000000</td>\n",
              "      <td>0.000000</td>\n",
              "      <td>0.000000</td>\n",
              "      <td>0.000000</td>\n",
              "      <td>0.00000</td>\n",
              "      <td>0.000000</td>\n",
              "      <td>0.000000</td>\n",
              "      <td>0.000000</td>\n",
              "      <td>0.000000</td>\n",
              "      <td>0.000000</td>\n",
              "      <td>0.000000</td>\n",
              "      <td>0.000000</td>\n",
              "      <td>0.0</td>\n",
              "      <td>0.000000</td>\n",
              "      <td>0.000000</td>\n",
              "      <td>0.000000</td>\n",
              "      <td>0.000000</td>\n",
              "      <td>0.000000</td>\n",
              "      <td>0.000000</td>\n",
              "    </tr>\n",
              "    <tr>\n",
              "      <th>25%</th>\n",
              "      <td>0.285714</td>\n",
              "      <td>1.000000</td>\n",
              "      <td>0.000000</td>\n",
              "      <td>0.000000</td>\n",
              "      <td>0.60000</td>\n",
              "      <td>0.500000</td>\n",
              "      <td>0.000000</td>\n",
              "      <td>0.230321</td>\n",
              "      <td>0.376119</td>\n",
              "      <td>0.308333</td>\n",
              "      <td>0.350000</td>\n",
              "      <td>0.500000</td>\n",
              "      <td>0.0</td>\n",
              "      <td>0.135849</td>\n",
              "      <td>0.142857</td>\n",
              "      <td>0.106250</td>\n",
              "      <td>0.091667</td>\n",
              "      <td>0.208333</td>\n",
              "      <td>0.236842</td>\n",
              "    </tr>\n",
              "    <tr>\n",
              "      <th>50%</th>\n",
              "      <td>0.571429</td>\n",
              "      <td>1.000000</td>\n",
              "      <td>0.000000</td>\n",
              "      <td>1.000000</td>\n",
              "      <td>0.80000</td>\n",
              "      <td>0.500000</td>\n",
              "      <td>0.000000</td>\n",
              "      <td>0.303207</td>\n",
              "      <td>0.470149</td>\n",
              "      <td>0.425000</td>\n",
              "      <td>0.516667</td>\n",
              "      <td>0.500000</td>\n",
              "      <td>0.0</td>\n",
              "      <td>0.184906</td>\n",
              "      <td>0.428571</td>\n",
              "      <td>0.125000</td>\n",
              "      <td>0.191667</td>\n",
              "      <td>0.333333</td>\n",
              "      <td>0.394737</td>\n",
              "    </tr>\n",
              "    <tr>\n",
              "      <th>75%</th>\n",
              "      <td>0.880952</td>\n",
              "      <td>1.000000</td>\n",
              "      <td>0.000000</td>\n",
              "      <td>1.000000</td>\n",
              "      <td>0.80000</td>\n",
              "      <td>1.000000</td>\n",
              "      <td>0.000000</td>\n",
              "      <td>0.425656</td>\n",
              "      <td>0.594030</td>\n",
              "      <td>0.537500</td>\n",
              "      <td>0.641667</td>\n",
              "      <td>0.500000</td>\n",
              "      <td>0.0</td>\n",
              "      <td>0.300000</td>\n",
              "      <td>0.714286</td>\n",
              "      <td>0.150000</td>\n",
              "      <td>0.281250</td>\n",
              "      <td>0.486111</td>\n",
              "      <td>0.539474</td>\n",
              "    </tr>\n",
              "    <tr>\n",
              "      <th>max</th>\n",
              "      <td>1.000000</td>\n",
              "      <td>1.000000</td>\n",
              "      <td>1.000000</td>\n",
              "      <td>1.000000</td>\n",
              "      <td>1.00000</td>\n",
              "      <td>1.000000</td>\n",
              "      <td>1.000000</td>\n",
              "      <td>1.000000</td>\n",
              "      <td>1.000000</td>\n",
              "      <td>1.000000</td>\n",
              "      <td>1.000000</td>\n",
              "      <td>1.000000</td>\n",
              "      <td>0.0</td>\n",
              "      <td>1.000000</td>\n",
              "      <td>1.000000</td>\n",
              "      <td>1.000000</td>\n",
              "      <td>1.000000</td>\n",
              "      <td>1.000000</td>\n",
              "      <td>1.000000</td>\n",
              "    </tr>\n",
              "  </tbody>\n",
              "</table>\n",
              "</div>"
            ],
            "text/plain": [
              "          CarName    fueltype  aspiration  doornumber    carbody  drivewheel  \\\n",
              "count  191.000000  191.000000  191.000000  191.000000  191.00000  191.000000   \n",
              "mean     0.550237    0.895288    0.172775    0.575916    0.72356    0.623037   \n",
              "std      0.328413    0.306987    0.379046    0.495502    0.17717    0.319198   \n",
              "min      0.000000    0.000000    0.000000    0.000000    0.00000    0.000000   \n",
              "25%      0.285714    1.000000    0.000000    0.000000    0.60000    0.500000   \n",
              "50%      0.571429    1.000000    0.000000    1.000000    0.80000    0.500000   \n",
              "75%      0.880952    1.000000    0.000000    1.000000    0.80000    1.000000   \n",
              "max      1.000000    1.000000    1.000000    1.000000    1.00000    1.000000   \n",
              "\n",
              "       enginelocation   wheelbase   carlength    carwidth   carheight  \\\n",
              "count      191.000000  191.000000  191.000000  191.000000  191.000000   \n",
              "mean         0.015707    0.352999    0.487177    0.468499    0.499346   \n",
              "std          0.124665    0.179200    0.186083    0.185717    0.194149   \n",
              "min          0.000000    0.000000    0.000000    0.000000    0.000000   \n",
              "25%          0.000000    0.230321    0.376119    0.308333    0.350000   \n",
              "50%          0.000000    0.303207    0.470149    0.425000    0.516667   \n",
              "75%          0.000000    0.425656    0.594030    0.537500    0.641667   \n",
              "max          1.000000    1.000000    1.000000    1.000000    1.000000   \n",
              "\n",
              "       enginetype  cylindernumber  enginesize  fuelsystem  compressionratio  \\\n",
              "count  191.000000           191.0  191.000000  191.000000        191.000000   \n",
              "mean     0.507853             0.0    0.240364    0.450262          0.205308   \n",
              "std      0.166919             0.0    0.156821    0.286577          0.254612   \n",
              "min      0.000000             0.0    0.000000    0.000000          0.000000   \n",
              "25%      0.500000             0.0    0.135849    0.142857          0.106250   \n",
              "50%      0.500000             0.0    0.184906    0.428571          0.125000   \n",
              "75%      0.500000             0.0    0.300000    0.714286          0.150000   \n",
              "max      1.000000             0.0    1.000000    1.000000          1.000000   \n",
              "\n",
              "       horsepower     citympg  highwaympg  \n",
              "count  191.000000  191.000000  191.000000  \n",
              "mean     0.223647    0.349767    0.397906  \n",
              "std      0.161744    0.182242    0.181763  \n",
              "min      0.000000    0.000000    0.000000  \n",
              "25%      0.091667    0.208333    0.236842  \n",
              "50%      0.191667    0.333333    0.394737  \n",
              "75%      0.281250    0.486111    0.539474  \n",
              "max      1.000000    1.000000    1.000000  "
            ]
          },
          "execution_count": 45,
          "metadata": {},
          "output_type": "execute_result"
        }
      ],
      "source": [
        "# 3(a) Implementasi code di sini\n",
        "from numpy import asarray\n",
        "from sklearn.preprocessing import MinMaxScaler\n",
        "\n",
        "min_max_scaler = MinMaxScaler()\n",
        "X_train_minmax = min_max_scaler.fit_transform(X)\n",
        "X_train_minmax\n",
        "\n",
        "X = pd.DataFrame(X_train_minmax, columns=X.columns)\n",
        "X.describe()"
      ]
    },
    {
      "cell_type": "markdown",
      "metadata": {
        "id": "n2F8ksSpz-Rp"
      },
      "source": [
        "(b) Bentuk normalisasi apa yang Anda pilih? Apa alasannya? \n",
        "\n",
        "> Bentuk normalisasi yang saya lakukan adalah Min Max (Linear Scaling). Normalisasi ini bertujuan untuk mengubah data menjadi nilai dalam rentang 0 hingga 1. Normalisasi ini akan mendapatkan standar deviasi yang lebih kecil dan dapat menekan efek outlier."
      ]
    },
    {
      "cell_type": "markdown",
      "metadata": {
        "id": "IEdkNNOqz-Rp"
      },
      "source": [
        "(c) Menurut Anda, mengapa normalisasi perlu dilakukan? \n",
        "> Normalisasi perlu dilakukan untuk meminimalisir redudansi data dan mencegah anomali sehingga tidak ada yang terlalu besar maupun terlalu kecil. Dengan demikian hal ini juga akan berpengaruh untuk meminimalisir kesalahan dalam pengolahan data."
      ]
    },
    {
      "cell_type": "markdown",
      "metadata": {
        "id": "Af4QY1N0XY0f"
      },
      "source": [
        "## 2. Principal Component Analysis"
      ]
    },
    {
      "cell_type": "markdown",
      "metadata": {
        "id": "yfTvFp_RYLjD"
      },
      "source": [
        "# Dimensionality Reduction (PCA)\n",
        "\n",
        "Library `scikit-learn` telah menyediakan modul `decomposition` yang dapat digunakan untuk melakukan PCA. Cara kerja PCA pada library ini serupa dengan step by step yang telah dilakukan pada bagian sebelumnya.\n",
        "\n",
        "\n",
        "Dokumentasi lebih lanjut dapat dilihat di https://scikit-learn.org/stable/modules/generated/sklearn.decomposition.PCA.html"
      ]
    },
    {
      "cell_type": "code",
      "execution_count": 46,
      "metadata": {
        "id": "8hy1JDdqXYlb"
      },
      "outputs": [],
      "source": [
        "# Import modul PCA\n",
        "from sklearn.decomposition import PCA "
      ]
    },
    {
      "cell_type": "code",
      "execution_count": 47,
      "metadata": {
        "id": "MIM5iBTSZDQp"
      },
      "outputs": [],
      "source": [
        "# gunakan data iris dari sklearn\n",
        "from sklearn.datasets import load_iris\n",
        "iris = load_iris()\n",
        "\n",
        "\n",
        "iris_df = pd.DataFrame(iris['data'],columns=iris['feature_names'])"
      ]
    },
    {
      "cell_type": "code",
      "execution_count": 48,
      "metadata": {
        "colab": {
          "base_uri": "https://localhost:8080/"
        },
        "id": "t4UpdghMxwFO",
        "outputId": "62137cf4-cab6-4a1e-964a-9f7cc4b76ee5"
      },
      "outputs": [
        {
          "data": {
            "text/plain": [
              "(150, 4)"
            ]
          },
          "execution_count": 48,
          "metadata": {},
          "output_type": "execute_result"
        }
      ],
      "source": [
        "# features=['sepal_length','sepal_width','petal_length','petal_width']\n",
        "# x=iris['feature_names']\n",
        "# y=iris.species\n",
        "\n",
        "iris_df.shape"
      ]
    },
    {
      "cell_type": "markdown",
      "metadata": {
        "id": "AsF1FYRPZiQh"
      },
      "source": [
        "### Scaling"
      ]
    },
    {
      "cell_type": "code",
      "execution_count": 49,
      "metadata": {
        "id": "nfWDbvqCZhrF"
      },
      "outputs": [],
      "source": [
        "# initialize PCA\n",
        "pca = PCA()  "
      ]
    },
    {
      "cell_type": "code",
      "execution_count": 50,
      "metadata": {
        "colab": {
          "base_uri": "https://localhost:8080/"
        },
        "id": "Xt6C-xaPtPrD",
        "outputId": "21193f44-cfd5-406e-e8f2-366a244f2e82"
      },
      "outputs": [
        {
          "data": {
            "text/plain": [
              "StandardScaler()"
            ]
          },
          "execution_count": 50,
          "metadata": {},
          "output_type": "execute_result"
        }
      ],
      "source": [
        "from sklearn.preprocessing import StandardScaler\n",
        "scaler = StandardScaler()\n",
        "scaler.fit(iris_df)"
      ]
    },
    {
      "cell_type": "code",
      "execution_count": 51,
      "metadata": {
        "id": "7_8Og_bWtQG7"
      },
      "outputs": [],
      "source": [
        "scaled_data = scaler.transform(iris_df)"
      ]
    },
    {
      "cell_type": "code",
      "execution_count": 52,
      "metadata": {
        "colab": {
          "base_uri": "https://localhost:8080/"
        },
        "id": "treIUVD_ZqJ3",
        "outputId": "e9f7719f-9896-4607-db17-4e3b5d834beb"
      },
      "outputs": [
        {
          "data": {
            "text/plain": [
              "PCA()"
            ]
          },
          "execution_count": 52,
          "metadata": {},
          "output_type": "execute_result"
        }
      ],
      "source": [
        "# Fit the model with \"scaled_data\".\n",
        "pca.fit(scaled_data)"
      ]
    },
    {
      "cell_type": "code",
      "execution_count": 53,
      "metadata": {
        "id": "mWgnzSuPwmmZ"
      },
      "outputs": [],
      "source": [
        "trans_pca = pca.transform(scaled_data)"
      ]
    },
    {
      "cell_type": "code",
      "execution_count": 54,
      "metadata": {
        "colab": {
          "base_uri": "https://localhost:8080/"
        },
        "id": "yXM5nnOxwhIf",
        "outputId": "bf489255-d6e6-4175-824e-38e285c166bb"
      },
      "outputs": [
        {
          "data": {
            "text/plain": [
              "(150, 4)"
            ]
          },
          "execution_count": 54,
          "metadata": {},
          "output_type": "execute_result"
        }
      ],
      "source": [
        "trans_pca.shape"
      ]
    },
    {
      "cell_type": "code",
      "execution_count": 55,
      "metadata": {
        "colab": {
          "base_uri": "https://localhost:8080/"
        },
        "id": "cAzCXbSZ0qtE",
        "outputId": "6c1726fd-70f8-4ade-eba6-664726e5a570"
      },
      "outputs": [
        {
          "data": {
            "text/plain": [
              "array([0.72962445, 0.22850762, 0.03668922, 0.00517871])"
            ]
          },
          "execution_count": 55,
          "metadata": {},
          "output_type": "execute_result"
        }
      ],
      "source": [
        "# explained variants\n",
        "explained_variants = pca.explained_variance_ratio_\n",
        "explained_variants"
      ]
    },
    {
      "cell_type": "code",
      "execution_count": 56,
      "metadata": {
        "colab": {
          "base_uri": "https://localhost:8080/",
          "height": 333
        },
        "id": "PCoMy-nd1He6",
        "outputId": "11e5e3ea-53ab-45ab-90ce-8f91a58e4488"
      },
      "outputs": [
        {
          "data": {
            "image/png": "[encoded data removed]",
            "text/plain": [
              "<Figure size 432x288 with 1 Axes>"
            ]
          },
          "metadata": {
            "needs_background": "light"
          },
          "output_type": "display_data"
        }
      ],
      "source": [
        "\n",
        "plt.plot(range(0,4), explained_variants)\n",
        "plt.ylabel('Explained Variance')\n",
        "plt.xlabel('Principal Components')\n",
        "plt.xticks(range(0,4),\n",
        "           [\"1st comp\", \"2nd comp\", \"3rd comp\", \"4th comp\"], rotation=60)\n",
        "plt.title('Explained Variance Ratio')\n",
        "plt.show()"
      ]
    },
    {
      "cell_type": "markdown",
      "metadata": {
        "id": "Exs-NM8v713E"
      },
      "source": [
        "Dari grafik, dapat terlihat Principle Components sudah merangkap 95% variance data"
      ]
    },
    {
      "cell_type": "code",
      "execution_count": 57,
      "metadata": {
        "id": "9CB1jjsj2n8z"
      },
      "outputs": [],
      "source": [
        "from numpy.random import rand\n",
        "\n",
        "# Inverse PCA menggunakan satu component saja\n",
        "def inverse_pca(pca_data, pca, remove_n):\n",
        "    transformed = pca_data.copy()\n",
        "    transformed[:, -remove_n:] = 0 \n",
        "    return pca.inverse_transform(transformed)\n",
        "\n",
        "LL = inverse_pca(trans_pca, pca, 1)\n",
        "\n"
      ]
    },
    {
      "cell_type": "code",
      "execution_count": 58,
      "metadata": {
        "colab": {
          "base_uri": "https://localhost:8080/",
          "height": 406
        },
        "id": "SMGhehiq20Wn",
        "outputId": "ed018e70-b8f6-4f93-b061-8f33192ad7c4"
      },
      "outputs": [
        {
          "data": {
            "text/plain": [
              "Text(0, 0.5, 'Original sepal width')"
            ]
          },
          "execution_count": 58,
          "metadata": {},
          "output_type": "execute_result"
        },
        {
          "data": {
            "image/png": "[encoded data removed]",
            "text/plain": [
              "<Figure size 576x432 with 1 Axes>"
            ]
          },
          "metadata": {
            "needs_background": "light"
          },
          "output_type": "display_data"
        }
      ],
      "source": [
        "plt.figure(figsize=(8,6))\n",
        "scatter = plt.scatter(scaled_data[:,0],scaled_data[:,1],c=iris['target'], cmap='plasma')\n",
        "plt.legend(*scatter.legend_elements())\n",
        "plt.xlabel('Original sepal length')\n",
        "plt.ylabel('Original sepal width')\n",
        "\n",
        "# Blue: Setosa\n",
        "# Pink: Versicolor\n",
        "# Yellow: Virginica"
      ]
    },
    {
      "cell_type": "code",
      "execution_count": 59,
      "metadata": {
        "colab": {
          "base_uri": "https://localhost:8080/",
          "height": 406
        },
        "id": "iWviI5iF3T0Q",
        "outputId": "dc6c4c66-d0dd-480c-b6a7-6d5cb9aeafd1"
      },
      "outputs": [
        {
          "data": {
            "text/plain": [
              "Text(0, 0.5, 'LL sepal width')"
            ]
          },
          "execution_count": 59,
          "metadata": {},
          "output_type": "execute_result"
        },
        {
          "data": {
            "image/png": "[encoded data removed]",
            "text/plain": [
              "<Figure size 576x432 with 1 Axes>"
            ]
          },
          "metadata": {
            "needs_background": "light"
          },
          "output_type": "display_data"
        }
      ],
      "source": [
        "plt.figure(figsize=(8,6))\n",
        "scatter = plt.scatter(LL[:,0],LL[:,1],c=iris['target'], cmap='plasma')\n",
        "plt.legend(*scatter.legend_elements())\n",
        "plt.xlabel('LL sepal length')\n",
        "plt.ylabel('LL sepal width')\n",
        "\n",
        "# Blue: Setosa\n",
        "# Pink: Versicolor\n",
        "# Yellow: Virginica"
      ]
    },
    {
      "cell_type": "code",
      "execution_count": 60,
      "metadata": {
        "colab": {
          "base_uri": "https://localhost:8080/",
          "height": 406
        },
        "id": "kh2MscrO8ZzN",
        "outputId": "baa7ee64-b0db-499c-80f7-371f5ccad392"
      },
      "outputs": [
        {
          "data": {
            "text/plain": [
              "Text(0, 0.5, 'Original petal width')"
            ]
          },
          "execution_count": 60,
          "metadata": {},
          "output_type": "execute_result"
        },
        {
          "data": {
            "image/png": "[encoded data removed]",
            "text/plain": [
              "<Figure size 576x432 with 1 Axes>"
            ]
          },
          "metadata": {
            "needs_background": "light"
          },
          "output_type": "display_data"
        }
      ],
      "source": [
        "plt.figure(figsize=(8,6))\n",
        "scatter = plt.scatter(scaled_data[:,2],scaled_data[:,3],c=iris['target'], cmap='plasma')\n",
        "plt.legend(*scatter.legend_elements())\n",
        "plt.xlabel('Original petal length')\n",
        "plt.ylabel('Original petal width')\n",
        "\n",
        "# Blue: Setosa\n",
        "# Pink: Versicolor\n",
        "# Yellow: Virginica"
      ]
    },
    {
      "cell_type": "code",
      "execution_count": 61,
      "metadata": {
        "colab": {
          "base_uri": "https://localhost:8080/",
          "height": 406
        },
        "id": "NYF6gy9k8eva",
        "outputId": "222f238c-acb4-4836-f547-275d6f3d7f59"
      },
      "outputs": [
        {
          "data": {
            "text/plain": [
              "Text(0, 0.5, 'LL petal width')"
            ]
          },
          "execution_count": 61,
          "metadata": {},
          "output_type": "execute_result"
        },
        {
          "data": {
            "image/png": "[encoded data removed]",
            "text/plain": [
              "<Figure size 576x432 with 1 Axes>"
            ]
          },
          "metadata": {
            "needs_background": "light"
          },
          "output_type": "display_data"
        }
      ],
      "source": [
        "plt.figure(figsize=(8,6))\n",
        "scatter = plt.scatter(LL[:,2],LL[:,3],c=iris['target'], cmap='plasma')\n",
        "plt.legend(*scatter.legend_elements())\n",
        "plt.xlabel('LL petal length')\n",
        "plt.ylabel('LL petal width')\n",
        "\n",
        "# Blue: Setosa\n",
        "# Pink: Versicolor\n",
        "# Yellow: Virginica"
      ]
    },
    {
      "cell_type": "markdown",
      "metadata": {
        "id": "-VtIkTJC4qqo"
      },
      "source": [
        "Dari keempat scatter plot, kita dapat lihat bahwa grafik original data dan LL relatif mirip. Hal ini dikarenakan data yang hilang setelah melakukan PCA tidak terlalu signifikan. "
      ]
    },
    {
      "cell_type": "code",
      "execution_count": 62,
      "metadata": {
        "colab": {
          "base_uri": "https://localhost:8080/",
          "height": 406
        },
        "id": "HA72FRs14YIu",
        "outputId": "89ad2e5c-a1ed-4a21-84d3-a7027bc25cd9"
      },
      "outputs": [
        {
          "data": {
            "text/plain": [
              "Text(0, 0.5, 'PCA sepal width')"
            ]
          },
          "execution_count": 62,
          "metadata": {},
          "output_type": "execute_result"
        },
        {
          "data": {
            "image/png": "[encoded data removed]",
            "text/plain": [
              "<Figure size 576x432 with 1 Axes>"
            ]
          },
          "metadata": {
            "needs_background": "light"
          },
          "output_type": "display_data"
        }
      ],
      "source": [
        "plt.figure(figsize=(8,6))\n",
        "scatter = plt.scatter(trans_pca[:,0],trans_pca[:,1],c=iris['target'], cmap='plasma')\n",
        "plt.legend(*scatter.legend_elements())\n",
        "plt.xlabel('PCA sepal length')\n",
        "plt.ylabel('PCA sepal width')\n",
        "\n",
        "# Blue: Setosa\n",
        "# Pink: Versicolor\n",
        "# Yellow: Virginica"
      ]
    },
    {
      "cell_type": "code",
      "execution_count": 63,
      "metadata": {
        "colab": {
          "base_uri": "https://localhost:8080/",
          "height": 406
        },
        "id": "bvEzoZXfDoqy",
        "outputId": "bd56291c-6f9e-4ef8-f487-ecea1ede3d22"
      },
      "outputs": [
        {
          "data": {
            "text/plain": [
              "Text(0, 0.5, 'PCA sepal width')"
            ]
          },
          "execution_count": 63,
          "metadata": {},
          "output_type": "execute_result"
        },
        {
          "data": {
            "image/png": "[encoded data removed]",
            "text/plain": [
              "<Figure size 576x432 with 1 Axes>"
            ]
          },
          "metadata": {
            "needs_background": "light"
          },
          "output_type": "display_data"
        }
      ],
      "source": [
        "plt.figure(figsize=(8,6))\n",
        "scatter = plt.scatter(trans_pca[:,0],trans_pca[:,0],c=iris['target'], cmap='plasma')\n",
        "plt.legend(*scatter.legend_elements())\n",
        "plt.xlabel('PCA sepal length')\n",
        "plt.ylabel('PCA sepal width')\n",
        "\n",
        "# Blue: Setosa\n",
        "# Pink: Versicolor\n",
        "# Yellow: Virginica"
      ]
    },
    {
      "cell_type": "markdown",
      "metadata": {
        "id": "Bu3Xdp8P8K-O"
      },
      "source": [
        "Sedangkan untuk data yang menggunakan principle components menunjukkan 3 cluster berbeda"
      ]
    },
    {
      "cell_type": "markdown",
      "metadata": {
        "id": "xXgpBNvS0wh3"
      },
      "source": [
        "## SOAL 4"
      ]
    },
    {
      "cell_type": "markdown",
      "metadata": {
        "id": "VnF3ulQ-1CrK"
      },
      "source": [
        "(a) Berdasarkan contoh implementasi PCA diatas, jelaskan tiap step yang dilakukan\n",
        "> - Sebelum melakukan PCA,dilakukan standarisasi terlebih dahulu agar mesin semuanya nilainya berada dalam satu skala.\n",
        "> - Selanjutnya mencari nilai explained variants dari setiap komponen terpilih.\n",
        "> - Kemudian menampilkan grafik dari keempat Principle Components, yang mena sudah merangkap sebesar 95% variance data.\n",
        "> - Setelahnya, ditampilkan grafik antara original data dan juga LL, dimana grafiknya relatif mirip, yang artinya data yang dihilangkan pada saat dilakukan PCA tidak signifikan."
      ]
    },
    {
      "cell_type": "markdown",
      "metadata": {
        "id": "MBGbqWhu03em"
      },
      "source": [
        "(b) Menurut Anda, kapan PCA perlu dilakukan? \n",
        "> PCA digunakan pada saat kita harus mengurangi jumlah variabel, namun tidak tahu mana yang harus dihilangkan. PCA juga dapat digunakan saat ingin menguji apakah variabel penelitian tidak saling bergantung atau berhubungan."
      ]
    },
    {
      "cell_type": "markdown",
      "metadata": {
        "id": "wRa2ocYV06PT"
      },
      "source": [
        "(c) Menurut Anda, bagaimana hasil transformasi PCA menggunakan 1 dan 2 principal component pada dastaset iris ini? \n",
        "> Ada terdapat 4 komponen, yakni 72.96%, 22.85%, 3.66%, 0.51%. Apabila hanya mengambil satu komponen saja, maka hanya mendapatkan sebesar 72.96% sehingga tidak terlalu mewakili data asli, sehingga lebih baik mengambil dua komponen dari 72.96% dan 22.85% sehingga Principle Components sudah merangkap sebesar 95% variance data. Dan juga ada grafik yang menggambarkan data yang menggunakan principle components dan menunjukkan 3 cluster berbeda."
      ]
    }
  ],
  "metadata": {
    "colab": {
      "collapsed_sections": [],
      "provenance": [],
      "toc_visible": true
    },
    "kernelspec": {
      "display_name": "Python 3.9.6 64-bit",
      "language": "python",
      "name": "python3"
    },
    "language_info": {
      "codemirror_mode": {
        "name": "ipython",
        "version": 3
      },
      "file_extension": ".py",
      "mimetype": "text/x-python",
      "name": "python",
      "nbconvert_exporter": "python",
      "pygments_lexer": "ipython3",
      "version": "3.9.6 (v3.9.6:db3ff76da1, Jun 28 2021, 11:49:53) \n[Clang 6.0 (clang-600.0.57)]"
    },
    "vscode": {
      "interpreter": {
        "hash": "aee8b7b246df8f9039afb4144a1f6fd8d2ca17a180786b69acc140d282b71a49"
      }
    }
  },
  "nbformat": 4,
  "nbformat_minor": 0
}
