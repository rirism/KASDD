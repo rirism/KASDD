{
  "cells": [
    {
      "cell_type": "markdown",
      "metadata": {
        "id": "R39aUrRNqzhJ"
      },
      "source": [
        "<center>\n",
        "<img src=\"https://drive.google.com/uc?id=1f1gGVI-rxcHjA90WEGNvvtSXF1pAxQwg\" alt=\"Fasilkom UI\" width=\"300\"/>\n",
        "\n",
        "CSGE603130 • Kecerdasan Artifisial dan Sains Data Dasar\n",
        "\n",
        "Semester Gasal 2022/2023\n",
        "\n",
        "Fakultas Ilmu Komputer, Universitas Indonesia\n",
        "\n",
        "##**Lab 1: *Introduction to Data Science Tools***\n",
        "\n",
        "###**Tenggat Waktu: 10 September 2022, 23.55 WIB**\n",
        "</center>\n",
        "\n",
        "### **Ketentuan:**\n",
        "\n",
        "1. Dokumen template lab dengan format .ipynb dan dataset (jika dibutuhkan) telah disediakan di SCeLe\n",
        "2. Jalankan kode pada dokumen .ipynb dan perhatikan dengan saksama apa yang potongan kode tersebut lakukan beserta dengan keluarannya. Jawablah **pertanyaan** yang disisipkan pada potongan program yang diberikan.\n",
        "3. Dokumen Jupyter Notebook yang telah dilengkapi dengan jawaban dikumpulkan dengan format penamaan **Kelas_LabX_NPM_Nama.ipynb** . Contoh: F_Lab1_1806205773_Abdurrafi Arief.ipynb\n",
        "4. Kumpulkan dokumen tersebut pada submisi yang telah disediakan di SCeLe sesuai dengan kelas masing-masing sebelum **Tenggat Waktu: 10 September 2022, 23.55 WIB**. Keterlambatan pengumpulan akan dikenakan pinalti.\n",
        "5. Lab ini dirancang sebagai **tugas mandiri**. Plagiarisme tidak diperkenankan dalam bentuk apapun. Adapun kolaborasi berupa diskusi (tanpa menyalin maupun mengambil jawaban orang lain) dan literasi masih diperbolehkan dengan mencantumkan kolaborator dan sumber.\n",
        "\n"
      ]
    },
    {
      "cell_type": "markdown",
      "metadata": {
        "id": "JnRUE1Ul62_R"
      },
      "source": [
        "## **Pernyataan Integritas**\n",
        "\n",
        "Wajib diisi. Tanpa pernyataan integritas submisi akan dikenakan pinalti."
      ]
    },
    {
      "cell_type": "code",
      "execution_count": 1,
      "metadata": {
        "id": "9tnfWWpN7vjq"
      },
      "outputs": [],
      "source": [
        "# Isi dengan data diri Anda\n",
        "NAMA = \"Riris Melissa Winona Togatorop\"\n",
        "KELAS = \"E\"\n",
        "NPM = \"1906398906\"\n",
        "\n",
        "# Isi dengan NPM teman yang berdiskusi dengan Anda  \n",
        "KOLABORATOR = []\n",
        "\n",
        "# Isi dengan sumber referensi yang Anda gunakan dalam mengerjakan\n",
        "REFERENSI = []"
      ]
    },
    {
      "cell_type": "code",
      "execution_count": 2,
      "metadata": {
        "colab": {
          "base_uri": "https://localhost:8080/"
        },
        "id": "KVEdteyu3hot",
        "outputId": "4f9a2c5e-5b96-4ca8-ae9a-f5224e662197"
      },
      "outputs": [
        {
          "name": "stdout",
          "output_type": "stream",
          "text": [
            "Saya, Riris Melissa Winona Togatorop dari kelas E dengan NPM 1906398906, menyatakan bahwa seluruh jawaban pada pekerjaan ini murni saya kerjakan sendiri.\n",
            "Saya tidak mencontek jawaban, memberikan jawaban, maupun menyalin dari sumber manapun.\n",
            " \n",
            "Jika saya melanggar pernyataan tersebut, saya siap menerima konsekuensi apapun yang diberikan.\n",
            "   (Riris Melissa Winona Togatorop)\n"
          ]
        }
      ],
      "source": [
        "PERNYATAAN_INTEGRITAS = \"Saya, %s dari kelas %s dengan NPM %s, menyatakan bahwa seluruh jawaban pada pekerjaan ini murni saya kerjakan sendiri.\\n\\\n",
        "Saya tidak mencontek jawaban, memberikan jawaban, maupun menyalin dari sumber manapun.\\n \\\n",
        "\\n\\\n",
        "Jika saya melanggar pernyataan tersebut, saya siap menerima konsekuensi apapun yang diberikan.\\n   \\\n",
        "(%s)\" % (NAMA, KELAS, NPM, NAMA)\n",
        "\n",
        "print(PERNYATAAN_INTEGRITAS)"
      ]
    },
    {
      "cell_type": "markdown",
      "metadata": {
        "id": "vXSK6OQe4dgR"
      },
      "source": [
        "# **Python Refresher**\n",
        "\n",
        "Pada tutorial mata kuliah ini, kita akan menggunakan bahasa pemrograman Python. Jika kamu butuh penyegaran kembali mengenai Python, kamu dapat mengunjungi channel Youtube pada link berikut: **https://bit.ly/pymooc-id**. \n",
        "Selamat belajar!"
      ]
    },
    {
      "cell_type": "markdown",
      "metadata": {
        "id": "fHFQ_WqkNqvO"
      },
      "source": [
        "# **A. Pengenalan Jupyter Notebook**"
      ]
    },
    {
      "cell_type": "markdown",
      "metadata": {
        "id": "FJ1JCZXRNqvP"
      },
      "source": [
        "Berkas IPYNB adalah dokumen yang digunakan pada [__Jupyter Notebook__](https://jupyter.org/install) yang berisi _environment_ interaktif untuk pemrograman menggunakan bahasa __Python__ (juga Julia dan R). Satu berkas IPYNB terdiri atas satu atau lebih ___cell___ yang dapat digunakan untuk menjalankan kode secara interaktif maupun menulis catatan dalam sintaks ___markdown___. Selain Jupyter Notebook, berkas IPYNB dapat dibuka dan dibuat menggunakan aplikasi daring seperti [__Google Colab__](https://colab.research.google.com/) atau [__Kaggle__](https://www.kaggle.com/notebooks).\n",
        "\n",
        "Kode ditulis dalam sebuah _cell_. Setiap _cell_ dapat dieksekusi dengan kombinasi _shortcut_ __shift + enter__ ataupun tombol ___run___ pada tiap _cell_. Setiap _cell_ dapat dieksekusi secara mandiri dan tidak perlu dijalankan berurutan, kecuali jika ada variabel global yang diinisiasi pada _cell_ yang belum dijalankan. _Cell_ kode Python yang dieksekusi akan menjalankan kode secara _interpreted_ dan menampilkan _output_ (jika ada) di bawah _cell_."
      ]
    },
    {
      "cell_type": "code",
      "execution_count": 3,
      "metadata": {
        "colab": {
          "base_uri": "https://localhost:8080/",
          "height": 52
        },
        "id": "xmj-iZwVNqvQ",
        "outputId": "26a082c6-7476-4530-87a2-565ba88f8be0"
      },
      "outputs": [
        {
          "name": "stdout",
          "output_type": "stream",
          "text": [
            "Hello, world!\n"
          ]
        },
        {
          "data": {
            "text/plain": [
              "'Hello, world!'"
            ]
          },
          "execution_count": 3,
          "metadata": {},
          "output_type": "execute_result"
        }
      ],
      "source": [
        "# Ini adalah contoh cell untuk kode Python.\n",
        "\n",
        "var = \"Hello, world!\"\n",
        "print(var)\n",
        "var"
      ]
    },
    {
      "cell_type": "markdown",
      "metadata": {
        "id": "LwJhqoT6NqvS"
      },
      "source": [
        "### Ini adalah contoh _cell_ untuk teks _markdown_.\n",
        "\n",
        "_Markdown_ adalah _markup language_ yang digunakan untuk membuat teks berformat menggunakan _text editor_ biasa. Dengan _markdown_, kita dapat membuat berbagai gaya teks, seperti _heading_, _hyperlink_, tabel, _list_, dan masih banyak lagi. Contoh berbagai sintaks _markdown_ dapat dilihat pada [panduan dari Markdownguide.org](https://www.markdownguide.org/cheat-sheet/) dan [wiki oleh Adam Pritchard](https://github.com/adam-p/markdown-here/wiki/Markdown-Here-Cheatsheet)."
      ]
    },
    {
      "cell_type": "markdown",
      "metadata": {
        "id": "oRS1qBnWNqvT"
      },
      "source": [
        "## Instalasi _library_ pada Jupyter Notebook"
      ]
    },
    {
      "cell_type": "markdown",
      "metadata": {
        "id": "OUTy9yGXNqvT"
      },
      "source": [
        "Jupyter Notebook secara bawaan menyediakan _kernel_ Python, namun terkadang kita membutuhkan _library_ eksternal yang tidak termasuk dalam bawaan Python. Instalasi _library_ dapat dilakukan dengan perintah <code>__pip install _nama-package___</code>. Contoh kita ingin menggunakan _library_ __Pandas__, maka kita dapat melakukan instalasi seperti di bawah ini."
      ]
    },
    {
      "cell_type": "code",
      "execution_count": 4,
      "metadata": {
        "colab": {
          "base_uri": "https://localhost:8080/"
        },
        "id": "qq5Gt7vfNqvT",
        "outputId": "ee46fef7-5cc8-4b6a-bbed-eac61b338bf9"
      },
      "outputs": [
        {
          "name": "stdout",
          "output_type": "stream",
          "text": [
            "Requirement already satisfied: pandas in /Library/Frameworks/Python.framework/Versions/3.9/lib/python3.9/site-packages (1.3.1)\n",
            "Requirement already satisfied: numpy>=1.17.3 in /Library/Frameworks/Python.framework/Versions/3.9/lib/python3.9/site-packages (from pandas) (1.21.1)\n",
            "Requirement already satisfied: python-dateutil>=2.7.3 in /Library/Frameworks/Python.framework/Versions/3.9/lib/python3.9/site-packages (from pandas) (2.8.2)\n",
            "Requirement already satisfied: pytz>=2017.3 in /Library/Frameworks/Python.framework/Versions/3.9/lib/python3.9/site-packages (from pandas) (2021.1)\n",
            "Requirement already satisfied: six>=1.5 in /Library/Frameworks/Python.framework/Versions/3.9/lib/python3.9/site-packages (from python-dateutil>=2.7.3->pandas) (1.16.0)\n"
          ]
        }
      ],
      "source": [
        "%pip install pandas"
      ]
    },
    {
      "cell_type": "markdown",
      "metadata": {
        "id": "0ySn34iv7IpK"
      },
      "source": [
        "_Kernel_ yang digunakan pada Jupyter Notebook, seperti pada _kernel_ biasa, dapat menerima perintah sistem. Selain perintah __pip__, berbagai perintah lain, seperti __git__ atau __apt__, juga dapat dijalankan jika _kernel_-nya mendukung. Silakan eksplorasi mandiri lebih lanjut pemanfaatannya, baik pada  perangkat lokal (seperti Jupyter Notebook) ataupun pada perangkat _cloud_ (seperti Google Colab)."
      ]
    },
    {
      "cell_type": "markdown",
      "metadata": {
        "id": "H6diV1LENqvU"
      },
      "source": [
        "# **B. Pengenalan Pandas**"
      ]
    },
    {
      "cell_type": "markdown",
      "metadata": {
        "id": "BhkYN7lVNqvU"
      },
      "source": [
        "[__Pandas__](https://pandas.pydata.org/docs/) adalah _library_ untuk bahasa Python yang menyediakan struktur data dan fungsi-fungsi yang mempermudah pemrosesan dan analisis data."
      ]
    },
    {
      "cell_type": "code",
      "execution_count": 5,
      "metadata": {
        "id": "JRTxbTF3NqvU"
      },
      "outputs": [],
      "source": [
        "# import library\n",
        "import pandas as pd"
      ]
    },
    {
      "cell_type": "markdown",
      "metadata": {
        "id": "TzHytk03NqvV"
      },
      "source": [
        "## Objek _DataFrame_"
      ]
    },
    {
      "cell_type": "markdown",
      "metadata": {
        "id": "HdT5krrhNqvV"
      },
      "source": [
        "_DataFrame_ adalah struktur data utama pada Pandas. Struktur data ini dapat digunakan untuk menyimpan data tabel 2 dimensi. Baris suatu _DataFrame_ terurut mulai dari 0. Jika nama-nama kolom tidak diberikan, maka kolom juga akan terurut dari 0. Anda dapat membuat _DataFrame_ dari collection generik seperti _list_ atau membaca berkas (seperti CSV, JSON, XML) sebagai _DataFrame_."
      ]
    },
    {
      "cell_type": "code",
      "execution_count": 6,
      "metadata": {
        "colab": {
          "base_uri": "https://localhost:8080/",
          "height": 423
        },
        "id": "fNBiAXNINqvW",
        "outputId": "49d6a251-b04b-404a-e801-14b66cb7150c"
      },
      "outputs": [
        {
          "data": {
            "text/html": [
              "<div>\n",
              "<style scoped>\n",
              "    .dataframe tbody tr th:only-of-type {\n",
              "        vertical-align: middle;\n",
              "    }\n",
              "\n",
              "    .dataframe tbody tr th {\n",
              "        vertical-align: top;\n",
              "    }\n",
              "\n",
              "    .dataframe thead th {\n",
              "        text-align: right;\n",
              "    }\n",
              "</style>\n",
              "<table border=\"1\" class=\"dataframe\">\n",
              "  <thead>\n",
              "    <tr style=\"text-align: right;\">\n",
              "      <th></th>\n",
              "      <th>0</th>\n",
              "      <th>1</th>\n",
              "      <th>2</th>\n",
              "      <th>3</th>\n",
              "      <th>4</th>\n",
              "    </tr>\n",
              "  </thead>\n",
              "  <tbody>\n",
              "    <tr>\n",
              "      <th>0</th>\n",
              "      <td>5.1</td>\n",
              "      <td>3.5</td>\n",
              "      <td>1.4</td>\n",
              "      <td>0.2</td>\n",
              "      <td>Iris-setosa</td>\n",
              "    </tr>\n",
              "    <tr>\n",
              "      <th>1</th>\n",
              "      <td>4.9</td>\n",
              "      <td>3.0</td>\n",
              "      <td>1.4</td>\n",
              "      <td>0.2</td>\n",
              "      <td>Iris-setosa</td>\n",
              "    </tr>\n",
              "    <tr>\n",
              "      <th>2</th>\n",
              "      <td>4.7</td>\n",
              "      <td>3.2</td>\n",
              "      <td>1.3</td>\n",
              "      <td>0.2</td>\n",
              "      <td>Iris-setosa</td>\n",
              "    </tr>\n",
              "    <tr>\n",
              "      <th>3</th>\n",
              "      <td>4.6</td>\n",
              "      <td>3.1</td>\n",
              "      <td>1.5</td>\n",
              "      <td>0.2</td>\n",
              "      <td>Iris-setosa</td>\n",
              "    </tr>\n",
              "    <tr>\n",
              "      <th>4</th>\n",
              "      <td>5.0</td>\n",
              "      <td>3.6</td>\n",
              "      <td>1.4</td>\n",
              "      <td>0.2</td>\n",
              "      <td>Iris-setosa</td>\n",
              "    </tr>\n",
              "    <tr>\n",
              "      <th>...</th>\n",
              "      <td>...</td>\n",
              "      <td>...</td>\n",
              "      <td>...</td>\n",
              "      <td>...</td>\n",
              "      <td>...</td>\n",
              "    </tr>\n",
              "    <tr>\n",
              "      <th>145</th>\n",
              "      <td>6.7</td>\n",
              "      <td>3.0</td>\n",
              "      <td>5.2</td>\n",
              "      <td>2.3</td>\n",
              "      <td>Iris-virginica</td>\n",
              "    </tr>\n",
              "    <tr>\n",
              "      <th>146</th>\n",
              "      <td>6.3</td>\n",
              "      <td>2.5</td>\n",
              "      <td>5.0</td>\n",
              "      <td>1.9</td>\n",
              "      <td>Iris-virginica</td>\n",
              "    </tr>\n",
              "    <tr>\n",
              "      <th>147</th>\n",
              "      <td>6.5</td>\n",
              "      <td>3.0</td>\n",
              "      <td>5.2</td>\n",
              "      <td>2.0</td>\n",
              "      <td>Iris-virginica</td>\n",
              "    </tr>\n",
              "    <tr>\n",
              "      <th>148</th>\n",
              "      <td>6.2</td>\n",
              "      <td>3.4</td>\n",
              "      <td>5.4</td>\n",
              "      <td>2.3</td>\n",
              "      <td>Iris-virginica</td>\n",
              "    </tr>\n",
              "    <tr>\n",
              "      <th>149</th>\n",
              "      <td>5.9</td>\n",
              "      <td>3.0</td>\n",
              "      <td>5.1</td>\n",
              "      <td>1.8</td>\n",
              "      <td>Iris-virginica</td>\n",
              "    </tr>\n",
              "  </tbody>\n",
              "</table>\n",
              "<p>150 rows × 5 columns</p>\n",
              "</div>"
            ],
            "text/plain": [
              "       0    1    2    3               4\n",
              "0    5.1  3.5  1.4  0.2     Iris-setosa\n",
              "1    4.9  3.0  1.4  0.2     Iris-setosa\n",
              "2    4.7  3.2  1.3  0.2     Iris-setosa\n",
              "3    4.6  3.1  1.5  0.2     Iris-setosa\n",
              "4    5.0  3.6  1.4  0.2     Iris-setosa\n",
              "..   ...  ...  ...  ...             ...\n",
              "145  6.7  3.0  5.2  2.3  Iris-virginica\n",
              "146  6.3  2.5  5.0  1.9  Iris-virginica\n",
              "147  6.5  3.0  5.2  2.0  Iris-virginica\n",
              "148  6.2  3.4  5.4  2.3  Iris-virginica\n",
              "149  5.9  3.0  5.1  1.8  Iris-virginica\n",
              "\n",
              "[150 rows x 5 columns]"
            ]
          },
          "metadata": {},
          "output_type": "display_data"
        }
      ],
      "source": [
        "# Membuat DataFrame dengan membaca data dari suatu berkas\n",
        "\n",
        "df = pd.read_csv(\n",
        "    'https://archive.ics.uci.edu/ml/machine-learning-databases/iris/iris.data', # Path menuju berkas dataset, dapat berupa path lokal maupun remote\n",
        "    header=None # Baris pertama dataset bukanlah header\n",
        ")\n",
        "display(df) # Menampilkan DataFrame"
      ]
    },
    {
      "cell_type": "markdown",
      "metadata": {
        "id": "Eo9HM0n9NqvX"
      },
      "source": [
        "Memberikan nama kolom pada _DataFrame_ agar lebih bermakna"
      ]
    },
    {
      "cell_type": "code",
      "execution_count": 7,
      "metadata": {
        "colab": {
          "base_uri": "https://localhost:8080/",
          "height": 423
        },
        "id": "5Qul6TbLNqvX",
        "outputId": "fd21ada9-2d20-46f7-96ed-35709babfb42"
      },
      "outputs": [],
      "source": [
        "df.columns = ['sepal-length', 'sepal-width', 'petal-length', 'petal-width', 'label']"
      ]
    },
    {
      "cell_type": "markdown",
      "metadata": {
        "id": "0gLGlnTDIx-E"
      },
      "source": [
        "**Deskripsi Data Set \"Iris\"**\n",
        "\n",
        "* `sepal-length`: sepal length in cm\n",
        "* `sepal-width`: sepal width in cm\n",
        "* `petal-length`: petal length in cm\n",
        "* `petal-width`: petal width in cm\n",
        "* `label`: class\n",
        "\n",
        "Sumber data set: https://archive.ics.uci.edu/ml/datasets/Iris"
      ]
    },
    {
      "cell_type": "markdown",
      "metadata": {
        "id": "Y_FQ6iLENqvX"
      },
      "source": [
        "Gunakan _method_ <code>head()</code> untuk melihat hanya 5 baris pertama dari _DataFrame_. Parameter dalam <code>head()</code> juga dapat diubah sesuai jumlah baris yang ingin ditampilkan. Gunakan <code>tail()</code> untuk melihat 5 baris terakhir."
      ]
    },
    {
      "cell_type": "code",
      "execution_count": 8,
      "metadata": {
        "colab": {
          "base_uri": "https://localhost:8080/",
          "height": 206
        },
        "id": "ZF5MEviDNqvY",
        "outputId": "7bc2d644-02ca-4b67-b2b2-e5de58344669"
      },
      "outputs": [
        {
          "data": {
            "text/html": [
              "<div>\n",
              "<style scoped>\n",
              "    .dataframe tbody tr th:only-of-type {\n",
              "        vertical-align: middle;\n",
              "    }\n",
              "\n",
              "    .dataframe tbody tr th {\n",
              "        vertical-align: top;\n",
              "    }\n",
              "\n",
              "    .dataframe thead th {\n",
              "        text-align: right;\n",
              "    }\n",
              "</style>\n",
              "<table border=\"1\" class=\"dataframe\">\n",
              "  <thead>\n",
              "    <tr style=\"text-align: right;\">\n",
              "      <th></th>\n",
              "      <th>sepal-length</th>\n",
              "      <th>sepal-width</th>\n",
              "      <th>petal-length</th>\n",
              "      <th>petal-width</th>\n",
              "      <th>label</th>\n",
              "    </tr>\n",
              "  </thead>\n",
              "  <tbody>\n",
              "    <tr>\n",
              "      <th>0</th>\n",
              "      <td>5.1</td>\n",
              "      <td>3.5</td>\n",
              "      <td>1.4</td>\n",
              "      <td>0.2</td>\n",
              "      <td>Iris-setosa</td>\n",
              "    </tr>\n",
              "    <tr>\n",
              "      <th>1</th>\n",
              "      <td>4.9</td>\n",
              "      <td>3.0</td>\n",
              "      <td>1.4</td>\n",
              "      <td>0.2</td>\n",
              "      <td>Iris-setosa</td>\n",
              "    </tr>\n",
              "    <tr>\n",
              "      <th>2</th>\n",
              "      <td>4.7</td>\n",
              "      <td>3.2</td>\n",
              "      <td>1.3</td>\n",
              "      <td>0.2</td>\n",
              "      <td>Iris-setosa</td>\n",
              "    </tr>\n",
              "    <tr>\n",
              "      <th>3</th>\n",
              "      <td>4.6</td>\n",
              "      <td>3.1</td>\n",
              "      <td>1.5</td>\n",
              "      <td>0.2</td>\n",
              "      <td>Iris-setosa</td>\n",
              "    </tr>\n",
              "    <tr>\n",
              "      <th>4</th>\n",
              "      <td>5.0</td>\n",
              "      <td>3.6</td>\n",
              "      <td>1.4</td>\n",
              "      <td>0.2</td>\n",
              "      <td>Iris-setosa</td>\n",
              "    </tr>\n",
              "  </tbody>\n",
              "</table>\n",
              "</div>"
            ],
            "text/plain": [
              "   sepal-length  sepal-width  petal-length  petal-width        label\n",
              "0           5.1          3.5           1.4          0.2  Iris-setosa\n",
              "1           4.9          3.0           1.4          0.2  Iris-setosa\n",
              "2           4.7          3.2           1.3          0.2  Iris-setosa\n",
              "3           4.6          3.1           1.5          0.2  Iris-setosa\n",
              "4           5.0          3.6           1.4          0.2  Iris-setosa"
            ]
          },
          "execution_count": 8,
          "metadata": {},
          "output_type": "execute_result"
        }
      ],
      "source": [
        "df.head()"
      ]
    },
    {
      "cell_type": "code",
      "execution_count": 9,
      "metadata": {
        "colab": {
          "base_uri": "https://localhost:8080/",
          "height": 269
        },
        "id": "7V8zJUjKDzMT",
        "outputId": "e88e497f-2683-4fd5-ab3f-c3a0d23c1aef"
      },
      "outputs": [
        {
          "data": {
            "text/html": [
              "<div>\n",
              "<style scoped>\n",
              "    .dataframe tbody tr th:only-of-type {\n",
              "        vertical-align: middle;\n",
              "    }\n",
              "\n",
              "    .dataframe tbody tr th {\n",
              "        vertical-align: top;\n",
              "    }\n",
              "\n",
              "    .dataframe thead th {\n",
              "        text-align: right;\n",
              "    }\n",
              "</style>\n",
              "<table border=\"1\" class=\"dataframe\">\n",
              "  <thead>\n",
              "    <tr style=\"text-align: right;\">\n",
              "      <th></th>\n",
              "      <th>sepal-length</th>\n",
              "      <th>sepal-width</th>\n",
              "      <th>petal-length</th>\n",
              "      <th>petal-width</th>\n",
              "      <th>label</th>\n",
              "    </tr>\n",
              "  </thead>\n",
              "  <tbody>\n",
              "    <tr>\n",
              "      <th>0</th>\n",
              "      <td>5.1</td>\n",
              "      <td>3.5</td>\n",
              "      <td>1.4</td>\n",
              "      <td>0.2</td>\n",
              "      <td>Iris-setosa</td>\n",
              "    </tr>\n",
              "    <tr>\n",
              "      <th>1</th>\n",
              "      <td>4.9</td>\n",
              "      <td>3.0</td>\n",
              "      <td>1.4</td>\n",
              "      <td>0.2</td>\n",
              "      <td>Iris-setosa</td>\n",
              "    </tr>\n",
              "    <tr>\n",
              "      <th>2</th>\n",
              "      <td>4.7</td>\n",
              "      <td>3.2</td>\n",
              "      <td>1.3</td>\n",
              "      <td>0.2</td>\n",
              "      <td>Iris-setosa</td>\n",
              "    </tr>\n",
              "    <tr>\n",
              "      <th>3</th>\n",
              "      <td>4.6</td>\n",
              "      <td>3.1</td>\n",
              "      <td>1.5</td>\n",
              "      <td>0.2</td>\n",
              "      <td>Iris-setosa</td>\n",
              "    </tr>\n",
              "    <tr>\n",
              "      <th>4</th>\n",
              "      <td>5.0</td>\n",
              "      <td>3.6</td>\n",
              "      <td>1.4</td>\n",
              "      <td>0.2</td>\n",
              "      <td>Iris-setosa</td>\n",
              "    </tr>\n",
              "    <tr>\n",
              "      <th>5</th>\n",
              "      <td>5.4</td>\n",
              "      <td>3.9</td>\n",
              "      <td>1.7</td>\n",
              "      <td>0.4</td>\n",
              "      <td>Iris-setosa</td>\n",
              "    </tr>\n",
              "    <tr>\n",
              "      <th>6</th>\n",
              "      <td>4.6</td>\n",
              "      <td>3.4</td>\n",
              "      <td>1.4</td>\n",
              "      <td>0.3</td>\n",
              "      <td>Iris-setosa</td>\n",
              "    </tr>\n",
              "  </tbody>\n",
              "</table>\n",
              "</div>"
            ],
            "text/plain": [
              "   sepal-length  sepal-width  petal-length  petal-width        label\n",
              "0           5.1          3.5           1.4          0.2  Iris-setosa\n",
              "1           4.9          3.0           1.4          0.2  Iris-setosa\n",
              "2           4.7          3.2           1.3          0.2  Iris-setosa\n",
              "3           4.6          3.1           1.5          0.2  Iris-setosa\n",
              "4           5.0          3.6           1.4          0.2  Iris-setosa\n",
              "5           5.4          3.9           1.7          0.4  Iris-setosa\n",
              "6           4.6          3.4           1.4          0.3  Iris-setosa"
            ]
          },
          "execution_count": 9,
          "metadata": {},
          "output_type": "execute_result"
        }
      ],
      "source": [
        "# Menampilkan 7 baris pertama\n",
        "df.head(7)"
      ]
    },
    {
      "cell_type": "markdown",
      "metadata": {
        "id": "66J83e_0F8Nb"
      },
      "source": [
        "Sekarang Anda telah berhasil membuka dataset \"Iris\" sebagai objek DataFrame. Ini baru langkah awal sebelum kita menjelajahi objek DataFrame lebih lanjut. "
      ]
    },
    {
      "cell_type": "markdown",
      "metadata": {
        "id": "m2buM3S8FgI8"
      },
      "source": [
        "![1644302794203.jpg](data:image/jpeg;base64,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)\n",
        "\n",
        "Sumber gambar: https://wallpaperaccess.com/iris-flower"
      ]
    },
    {
      "cell_type": "markdown",
      "metadata": {
        "id": "0eRn7VO4NqvY"
      },
      "source": [
        "## Menampilkan atribut-atribut dari objek _DataFrame_"
      ]
    },
    {
      "cell_type": "markdown",
      "metadata": {
        "id": "QQNsGdFTNqvZ"
      },
      "source": [
        "Menampilkan dimensi _DataFrame_ dengan atribut <code>shape</code>"
      ]
    },
    {
      "cell_type": "code",
      "execution_count": 10,
      "metadata": {
        "colab": {
          "base_uri": "https://localhost:8080/"
        },
        "id": "jyKvEOu6NqvZ",
        "outputId": "b19dd1cb-377e-46ba-f43d-8c901d1cdd1f"
      },
      "outputs": [
        {
          "name": "stdout",
          "output_type": "stream",
          "text": [
            "Dimensi dari df adalah (150, 5)\n",
            "df terdiri atas 150 baris dan 5 kolom.\n"
          ]
        }
      ],
      "source": [
        "print(\"Dimensi dari df adalah\", df.shape)\n",
        "print(\"df terdiri atas {} baris dan {} kolom.\".format(df.shape[0], df.shape[1]))"
      ]
    },
    {
      "cell_type": "markdown",
      "metadata": {
        "id": "V6U_1aoSNqvZ"
      },
      "source": [
        "Menampilkan tipe data tiap kolom dengan atribut <code>dtypes</code>"
      ]
    },
    {
      "cell_type": "code",
      "execution_count": 11,
      "metadata": {
        "colab": {
          "base_uri": "https://localhost:8080/"
        },
        "id": "_0IoXSRkNqvZ",
        "outputId": "c6511693-b8f3-4574-b9df-48e0e7629607"
      },
      "outputs": [
        {
          "data": {
            "text/plain": [
              "sepal-length    float64\n",
              "sepal-width     float64\n",
              "petal-length    float64\n",
              "petal-width     float64\n",
              "label            object\n",
              "dtype: object"
            ]
          },
          "execution_count": 11,
          "metadata": {},
          "output_type": "execute_result"
        }
      ],
      "source": [
        "df.dtypes"
      ]
    },
    {
      "cell_type": "markdown",
      "metadata": {
        "id": "TJr7myGkNqva"
      },
      "source": [
        "Menampilkan statistik umum tiap kolom dengan _method_ <code>describe()</code>. *By default*, _method_ ini hanya untuk data numerik"
      ]
    },
    {
      "cell_type": "code",
      "execution_count": 12,
      "metadata": {
        "colab": {
          "base_uri": "https://localhost:8080/",
          "height": 300
        },
        "id": "hTA7W5J3Nqva",
        "outputId": "6f853cff-1c5d-438f-daa8-62f734960145"
      },
      "outputs": [
        {
          "data": {
            "text/html": [
              "<div>\n",
              "<style scoped>\n",
              "    .dataframe tbody tr th:only-of-type {\n",
              "        vertical-align: middle;\n",
              "    }\n",
              "\n",
              "    .dataframe tbody tr th {\n",
              "        vertical-align: top;\n",
              "    }\n",
              "\n",
              "    .dataframe thead th {\n",
              "        text-align: right;\n",
              "    }\n",
              "</style>\n",
              "<table border=\"1\" class=\"dataframe\">\n",
              "  <thead>\n",
              "    <tr style=\"text-align: right;\">\n",
              "      <th></th>\n",
              "      <th>sepal-length</th>\n",
              "      <th>sepal-width</th>\n",
              "      <th>petal-length</th>\n",
              "      <th>petal-width</th>\n",
              "    </tr>\n",
              "  </thead>\n",
              "  <tbody>\n",
              "    <tr>\n",
              "      <th>count</th>\n",
              "      <td>150.000000</td>\n",
              "      <td>150.000000</td>\n",
              "      <td>150.000000</td>\n",
              "      <td>150.000000</td>\n",
              "    </tr>\n",
              "    <tr>\n",
              "      <th>mean</th>\n",
              "      <td>5.843333</td>\n",
              "      <td>3.054000</td>\n",
              "      <td>3.758667</td>\n",
              "      <td>1.198667</td>\n",
              "    </tr>\n",
              "    <tr>\n",
              "      <th>std</th>\n",
              "      <td>0.828066</td>\n",
              "      <td>0.433594</td>\n",
              "      <td>1.764420</td>\n",
              "      <td>0.763161</td>\n",
              "    </tr>\n",
              "    <tr>\n",
              "      <th>min</th>\n",
              "      <td>4.300000</td>\n",
              "      <td>2.000000</td>\n",
              "      <td>1.000000</td>\n",
              "      <td>0.100000</td>\n",
              "    </tr>\n",
              "    <tr>\n",
              "      <th>25%</th>\n",
              "      <td>5.100000</td>\n",
              "      <td>2.800000</td>\n",
              "      <td>1.600000</td>\n",
              "      <td>0.300000</td>\n",
              "    </tr>\n",
              "    <tr>\n",
              "      <th>50%</th>\n",
              "      <td>5.800000</td>\n",
              "      <td>3.000000</td>\n",
              "      <td>4.350000</td>\n",
              "      <td>1.300000</td>\n",
              "    </tr>\n",
              "    <tr>\n",
              "      <th>75%</th>\n",
              "      <td>6.400000</td>\n",
              "      <td>3.300000</td>\n",
              "      <td>5.100000</td>\n",
              "      <td>1.800000</td>\n",
              "    </tr>\n",
              "    <tr>\n",
              "      <th>max</th>\n",
              "      <td>7.900000</td>\n",
              "      <td>4.400000</td>\n",
              "      <td>6.900000</td>\n",
              "      <td>2.500000</td>\n",
              "    </tr>\n",
              "  </tbody>\n",
              "</table>\n",
              "</div>"
            ],
            "text/plain": [
              "       sepal-length  sepal-width  petal-length  petal-width\n",
              "count    150.000000   150.000000    150.000000   150.000000\n",
              "mean       5.843333     3.054000      3.758667     1.198667\n",
              "std        0.828066     0.433594      1.764420     0.763161\n",
              "min        4.300000     2.000000      1.000000     0.100000\n",
              "25%        5.100000     2.800000      1.600000     0.300000\n",
              "50%        5.800000     3.000000      4.350000     1.300000\n",
              "75%        6.400000     3.300000      5.100000     1.800000\n",
              "max        7.900000     4.400000      6.900000     2.500000"
            ]
          },
          "execution_count": 12,
          "metadata": {},
          "output_type": "execute_result"
        }
      ],
      "source": [
        "df.describe()"
      ]
    },
    {
      "cell_type": "code",
      "execution_count": 13,
      "metadata": {
        "colab": {
          "base_uri": "https://localhost:8080/"
        },
        "id": "DmmrBE9nNqva",
        "outputId": "d6ff1a85-63a0-41a7-98f3-68d783cb0333"
      },
      "outputs": [
        {
          "data": {
            "text/plain": [
              "count             150\n",
              "unique              3\n",
              "top       Iris-setosa\n",
              "freq               50\n",
              "Name: label, dtype: object"
            ]
          },
          "execution_count": 13,
          "metadata": {},
          "output_type": "execute_result"
        }
      ],
      "source": [
        "# Deskripsi statistik untuk kolom yang dikehendaki\n",
        "df['label'].describe()"
      ]
    },
    {
      "cell_type": "markdown",
      "metadata": {
        "id": "Puq7pSc1Nqvb"
      },
      "source": [
        "Menghitung jumlah elemen tidak ___null___ tiap kolom dengan _method_ <code>count()</code>"
      ]
    },
    {
      "cell_type": "code",
      "execution_count": 14,
      "metadata": {
        "colab": {
          "base_uri": "https://localhost:8080/"
        },
        "id": "LJOWrFffNqvb",
        "outputId": "171c96de-2c2b-4428-ed7f-73a989d02514"
      },
      "outputs": [
        {
          "name": "stdout",
          "output_type": "stream",
          "text": [
            "Count untuk df\n",
            " sepal-length    150\n",
            "sepal-width     150\n",
            "petal-length    150\n",
            "petal-width     150\n",
            "label           150\n",
            "dtype: int64\n"
          ]
        }
      ],
      "source": [
        "print(\"Count untuk df\\n\", df.count())"
      ]
    },
    {
      "cell_type": "markdown",
      "metadata": {
        "id": "JqO4tPlCNqve"
      },
      "source": [
        "Dapat dilihat di atas bahwa df seluruhnya terhitung 150 baris, namun tidak mutlak berarti tidak ada nilai _null_. Pemeriksaan dan penanganan nilai _null_ dibahas pada sub-bagian \"__Menangani _missing values___\"."
      ]
    },
    {
      "cell_type": "markdown",
      "metadata": {
        "id": "0qQIDs2CNqve"
      },
      "source": [
        "## Mengakses baris dan kolom _DataFrame_"
      ]
    },
    {
      "cell_type": "markdown",
      "metadata": {
        "id": "_kFdwzq8Nqvf"
      },
      "source": [
        "Kita dapat mengakses kolom _DataFrame_ seperti mengakses indeks pada array atau list, baik sebagai Series maupun DataFrame baru."
      ]
    },
    {
      "cell_type": "code",
      "execution_count": 15,
      "metadata": {
        "colab": {
          "base_uri": "https://localhost:8080/"
        },
        "id": "2t2Fy6xUNqvf",
        "outputId": "2e6bf77f-d817-439f-8f7a-a62812613b6e"
      },
      "outputs": [
        {
          "name": "stdout",
          "output_type": "stream",
          "text": [
            "<class 'pandas.core.series.Series'>\n"
          ]
        },
        {
          "data": {
            "text/plain": [
              "0      5.1\n",
              "1      4.9\n",
              "2      4.7\n",
              "3      4.6\n",
              "4      5.0\n",
              "      ... \n",
              "145    6.7\n",
              "146    6.3\n",
              "147    6.5\n",
              "148    6.2\n",
              "149    5.9\n",
              "Name: sepal-length, Length: 150, dtype: float64"
            ]
          },
          "execution_count": 15,
          "metadata": {},
          "output_type": "execute_result"
        }
      ],
      "source": [
        "# Mengakses kolom sebagai Series\n",
        "df_sepal_len = df['sepal-length']\n",
        "print(type(df_sepal_len))\n",
        "df_sepal_len"
      ]
    },
    {
      "cell_type": "code",
      "execution_count": 16,
      "metadata": {
        "colab": {
          "base_uri": "https://localhost:8080/",
          "height": 441
        },
        "id": "4KKUn9MXNqvg",
        "outputId": "2d447d29-2e20-4f28-a95a-5deb267a7203"
      },
      "outputs": [
        {
          "name": "stdout",
          "output_type": "stream",
          "text": [
            "<class 'pandas.core.frame.DataFrame'>\n"
          ]
        },
        {
          "data": {
            "text/html": [
              "<div>\n",
              "<style scoped>\n",
              "    .dataframe tbody tr th:only-of-type {\n",
              "        vertical-align: middle;\n",
              "    }\n",
              "\n",
              "    .dataframe tbody tr th {\n",
              "        vertical-align: top;\n",
              "    }\n",
              "\n",
              "    .dataframe thead th {\n",
              "        text-align: right;\n",
              "    }\n",
              "</style>\n",
              "<table border=\"1\" class=\"dataframe\">\n",
              "  <thead>\n",
              "    <tr style=\"text-align: right;\">\n",
              "      <th></th>\n",
              "      <th>sepal-length</th>\n",
              "    </tr>\n",
              "  </thead>\n",
              "  <tbody>\n",
              "    <tr>\n",
              "      <th>0</th>\n",
              "      <td>5.1</td>\n",
              "    </tr>\n",
              "    <tr>\n",
              "      <th>1</th>\n",
              "      <td>4.9</td>\n",
              "    </tr>\n",
              "    <tr>\n",
              "      <th>2</th>\n",
              "      <td>4.7</td>\n",
              "    </tr>\n",
              "    <tr>\n",
              "      <th>3</th>\n",
              "      <td>4.6</td>\n",
              "    </tr>\n",
              "    <tr>\n",
              "      <th>4</th>\n",
              "      <td>5.0</td>\n",
              "    </tr>\n",
              "    <tr>\n",
              "      <th>...</th>\n",
              "      <td>...</td>\n",
              "    </tr>\n",
              "    <tr>\n",
              "      <th>145</th>\n",
              "      <td>6.7</td>\n",
              "    </tr>\n",
              "    <tr>\n",
              "      <th>146</th>\n",
              "      <td>6.3</td>\n",
              "    </tr>\n",
              "    <tr>\n",
              "      <th>147</th>\n",
              "      <td>6.5</td>\n",
              "    </tr>\n",
              "    <tr>\n",
              "      <th>148</th>\n",
              "      <td>6.2</td>\n",
              "    </tr>\n",
              "    <tr>\n",
              "      <th>149</th>\n",
              "      <td>5.9</td>\n",
              "    </tr>\n",
              "  </tbody>\n",
              "</table>\n",
              "<p>150 rows × 1 columns</p>\n",
              "</div>"
            ],
            "text/plain": [
              "     sepal-length\n",
              "0             5.1\n",
              "1             4.9\n",
              "2             4.7\n",
              "3             4.6\n",
              "4             5.0\n",
              "..            ...\n",
              "145           6.7\n",
              "146           6.3\n",
              "147           6.5\n",
              "148           6.2\n",
              "149           5.9\n",
              "\n",
              "[150 rows x 1 columns]"
            ]
          },
          "execution_count": 16,
          "metadata": {},
          "output_type": "execute_result"
        }
      ],
      "source": [
        "# Mengakses kolom sebagai DataFrame\n",
        "df_sepal_len_2 = df[['sepal-length']]\n",
        "print(type(df_sepal_len_2))\n",
        "df_sepal_len_2"
      ]
    },
    {
      "cell_type": "code",
      "execution_count": 17,
      "metadata": {
        "colab": {
          "base_uri": "https://localhost:8080/",
          "height": 423
        },
        "id": "qO_yVEZNNqvg",
        "outputId": "c1a2136a-1de3-499d-f791-d675ebe3921e"
      },
      "outputs": [
        {
          "data": {
            "text/html": [
              "<div>\n",
              "<style scoped>\n",
              "    .dataframe tbody tr th:only-of-type {\n",
              "        vertical-align: middle;\n",
              "    }\n",
              "\n",
              "    .dataframe tbody tr th {\n",
              "        vertical-align: top;\n",
              "    }\n",
              "\n",
              "    .dataframe thead th {\n",
              "        text-align: right;\n",
              "    }\n",
              "</style>\n",
              "<table border=\"1\" class=\"dataframe\">\n",
              "  <thead>\n",
              "    <tr style=\"text-align: right;\">\n",
              "      <th></th>\n",
              "      <th>sepal-length</th>\n",
              "      <th>sepal-width</th>\n",
              "    </tr>\n",
              "  </thead>\n",
              "  <tbody>\n",
              "    <tr>\n",
              "      <th>0</th>\n",
              "      <td>5.1</td>\n",
              "      <td>3.5</td>\n",
              "    </tr>\n",
              "    <tr>\n",
              "      <th>1</th>\n",
              "      <td>4.9</td>\n",
              "      <td>3.0</td>\n",
              "    </tr>\n",
              "    <tr>\n",
              "      <th>2</th>\n",
              "      <td>4.7</td>\n",
              "      <td>3.2</td>\n",
              "    </tr>\n",
              "    <tr>\n",
              "      <th>3</th>\n",
              "      <td>4.6</td>\n",
              "      <td>3.1</td>\n",
              "    </tr>\n",
              "    <tr>\n",
              "      <th>4</th>\n",
              "      <td>5.0</td>\n",
              "      <td>3.6</td>\n",
              "    </tr>\n",
              "    <tr>\n",
              "      <th>...</th>\n",
              "      <td>...</td>\n",
              "      <td>...</td>\n",
              "    </tr>\n",
              "    <tr>\n",
              "      <th>145</th>\n",
              "      <td>6.7</td>\n",
              "      <td>3.0</td>\n",
              "    </tr>\n",
              "    <tr>\n",
              "      <th>146</th>\n",
              "      <td>6.3</td>\n",
              "      <td>2.5</td>\n",
              "    </tr>\n",
              "    <tr>\n",
              "      <th>147</th>\n",
              "      <td>6.5</td>\n",
              "      <td>3.0</td>\n",
              "    </tr>\n",
              "    <tr>\n",
              "      <th>148</th>\n",
              "      <td>6.2</td>\n",
              "      <td>3.4</td>\n",
              "    </tr>\n",
              "    <tr>\n",
              "      <th>149</th>\n",
              "      <td>5.9</td>\n",
              "      <td>3.0</td>\n",
              "    </tr>\n",
              "  </tbody>\n",
              "</table>\n",
              "<p>150 rows × 2 columns</p>\n",
              "</div>"
            ],
            "text/plain": [
              "     sepal-length  sepal-width\n",
              "0             5.1          3.5\n",
              "1             4.9          3.0\n",
              "2             4.7          3.2\n",
              "3             4.6          3.1\n",
              "4             5.0          3.6\n",
              "..            ...          ...\n",
              "145           6.7          3.0\n",
              "146           6.3          2.5\n",
              "147           6.5          3.0\n",
              "148           6.2          3.4\n",
              "149           5.9          3.0\n",
              "\n",
              "[150 rows x 2 columns]"
            ]
          },
          "execution_count": 17,
          "metadata": {},
          "output_type": "execute_result"
        }
      ],
      "source": [
        "# Mengakses lebih dari 1 kolom sebagai DataFrame\n",
        "df_sepal = df[['sepal-length', 'sepal-width']]\n",
        "df_sepal"
      ]
    },
    {
      "cell_type": "markdown",
      "metadata": {
        "id": "WnGBP_2k8hKe"
      },
      "source": [
        "Akses terhadap __tepat satu__ kolom juga dapat dilakukan dengan operator __dot__ (.) dengan syarat kolom memiliki nama (tidak menggunakan indeks bilangan _default_). Nama kolom tidak boleh menggunakan nama atribut dari objek _DataFrame_. Nama kolom yang dapat diakses dengan __dot__ juga tidak boleh mengandung karakter-karakter yang dilarang dalam nama variabel Python."
      ]
    },
    {
      "cell_type": "code",
      "execution_count": 18,
      "metadata": {
        "colab": {
          "base_uri": "https://localhost:8080/",
          "height": 225
        },
        "id": "Cn0fW_CJ9n_E",
        "outputId": "cf1df76b-e9d9-4af1-c9f0-3a7af7d44aa8"
      },
      "outputs": [
        {
          "data": {
            "text/plain": [
              "0         Iris-setosa\n",
              "1         Iris-setosa\n",
              "2         Iris-setosa\n",
              "3         Iris-setosa\n",
              "4         Iris-setosa\n",
              "            ...      \n",
              "145    Iris-virginica\n",
              "146    Iris-virginica\n",
              "147    Iris-virginica\n",
              "148    Iris-virginica\n",
              "149    Iris-virginica\n",
              "Name: label, Length: 150, dtype: object"
            ]
          },
          "metadata": {},
          "output_type": "display_data"
        }
      ],
      "source": [
        "# Mengakses kolom dengan operator dot\n",
        "display(df.label)"
      ]
    },
    {
      "cell_type": "code",
      "execution_count": 19,
      "metadata": {
        "colab": {
          "base_uri": "https://localhost:8080/"
        },
        "id": "V7MtwCHFNxG4",
        "outputId": "3ea5cbc9-900b-484a-b51e-6bdd06ccec08"
      },
      "outputs": [
        {
          "name": "stdout",
          "output_type": "stream",
          "text": [
            "Terjadi exception: 'DataFrame' object has no attribute 'sepal'\n",
            "Error terjadi karena \"df.sepal-length\" dianggap tiga token terpisah, yaitu \"df.sepal\", \"-\", dan \"length\".\n"
          ]
        }
      ],
      "source": [
        "# Mengakses kolom dengan karakter yang dilarang\n",
        "try:\n",
        "    display(df.sepal-length)\n",
        "except Exception as e:\n",
        "    print('Terjadi exception:', e)\n",
        "    print('Error terjadi karena \"df.sepal-length\" dianggap tiga token terpisah, yaitu \"df.sepal\", \"-\", dan \"length\".')"
      ]
    },
    {
      "cell_type": "markdown",
      "metadata": {
        "id": "-7_lz6lhNqvg"
      },
      "source": [
        "Kita dapat mengakses baris (dan kolom) _DataFrame_ menggunakan <code>__loc__</code> atau <code>__iloc__</code>. <code>loc</code> mengakses indeks berdasarkan label dari baris atau kolom, sedangkan <code>iloc</code> mengakses indeks berdasarkan posisi dalam bilangan bulat. <code>loc</code> juga menerima _range_ secara inklusif."
      ]
    },
    {
      "cell_type": "code",
      "execution_count": 20,
      "metadata": {
        "colab": {
          "base_uri": "https://localhost:8080/",
          "height": 175
        },
        "id": "-H9J1cq9Nqvh",
        "outputId": "d5d6943f-3ecc-4db2-9547-5954917a6a17"
      },
      "outputs": [
        {
          "data": {
            "text/html": [
              "<div>\n",
              "<style scoped>\n",
              "    .dataframe tbody tr th:only-of-type {\n",
              "        vertical-align: middle;\n",
              "    }\n",
              "\n",
              "    .dataframe tbody tr th {\n",
              "        vertical-align: top;\n",
              "    }\n",
              "\n",
              "    .dataframe thead th {\n",
              "        text-align: right;\n",
              "    }\n",
              "</style>\n",
              "<table border=\"1\" class=\"dataframe\">\n",
              "  <thead>\n",
              "    <tr style=\"text-align: right;\">\n",
              "      <th></th>\n",
              "      <th>sepal-length</th>\n",
              "      <th>sepal-width</th>\n",
              "      <th>petal-length</th>\n",
              "      <th>petal-width</th>\n",
              "      <th>label</th>\n",
              "    </tr>\n",
              "  </thead>\n",
              "  <tbody>\n",
              "    <tr>\n",
              "      <th>0</th>\n",
              "      <td>5.1</td>\n",
              "      <td>3.5</td>\n",
              "      <td>1.4</td>\n",
              "      <td>0.2</td>\n",
              "      <td>Iris-setosa</td>\n",
              "    </tr>\n",
              "    <tr>\n",
              "      <th>1</th>\n",
              "      <td>4.9</td>\n",
              "      <td>3.0</td>\n",
              "      <td>1.4</td>\n",
              "      <td>0.2</td>\n",
              "      <td>Iris-setosa</td>\n",
              "    </tr>\n",
              "    <tr>\n",
              "      <th>2</th>\n",
              "      <td>4.7</td>\n",
              "      <td>3.2</td>\n",
              "      <td>1.3</td>\n",
              "      <td>0.2</td>\n",
              "      <td>Iris-setosa</td>\n",
              "    </tr>\n",
              "    <tr>\n",
              "      <th>3</th>\n",
              "      <td>4.6</td>\n",
              "      <td>3.1</td>\n",
              "      <td>1.5</td>\n",
              "      <td>0.2</td>\n",
              "      <td>Iris-setosa</td>\n",
              "    </tr>\n",
              "  </tbody>\n",
              "</table>\n",
              "</div>"
            ],
            "text/plain": [
              "   sepal-length  sepal-width  petal-length  petal-width        label\n",
              "0           5.1          3.5           1.4          0.2  Iris-setosa\n",
              "1           4.9          3.0           1.4          0.2  Iris-setosa\n",
              "2           4.7          3.2           1.3          0.2  Iris-setosa\n",
              "3           4.6          3.1           1.5          0.2  Iris-setosa"
            ]
          },
          "execution_count": 20,
          "metadata": {},
          "output_type": "execute_result"
        }
      ],
      "source": [
        "# Mengakses baris 0 sampai dengan 3 menggunakan loc\n",
        "df.loc[0:3]  # range inklusif"
      ]
    },
    {
      "cell_type": "code",
      "execution_count": 21,
      "metadata": {
        "colab": {
          "base_uri": "https://localhost:8080/",
          "height": 175
        },
        "id": "miKSXEBtNqvh",
        "outputId": "2c1af567-6b4e-4b85-b004-a242ac8744e7"
      },
      "outputs": [
        {
          "data": {
            "text/html": [
              "<div>\n",
              "<style scoped>\n",
              "    .dataframe tbody tr th:only-of-type {\n",
              "        vertical-align: middle;\n",
              "    }\n",
              "\n",
              "    .dataframe tbody tr th {\n",
              "        vertical-align: top;\n",
              "    }\n",
              "\n",
              "    .dataframe thead th {\n",
              "        text-align: right;\n",
              "    }\n",
              "</style>\n",
              "<table border=\"1\" class=\"dataframe\">\n",
              "  <thead>\n",
              "    <tr style=\"text-align: right;\">\n",
              "      <th></th>\n",
              "      <th>sepal-length</th>\n",
              "      <th>sepal-width</th>\n",
              "      <th>petal-length</th>\n",
              "      <th>petal-width</th>\n",
              "      <th>label</th>\n",
              "    </tr>\n",
              "  </thead>\n",
              "  <tbody>\n",
              "    <tr>\n",
              "      <th>0</th>\n",
              "      <td>5.1</td>\n",
              "      <td>3.5</td>\n",
              "      <td>1.4</td>\n",
              "      <td>0.2</td>\n",
              "      <td>Iris-setosa</td>\n",
              "    </tr>\n",
              "    <tr>\n",
              "      <th>1</th>\n",
              "      <td>4.9</td>\n",
              "      <td>3.0</td>\n",
              "      <td>1.4</td>\n",
              "      <td>0.2</td>\n",
              "      <td>Iris-setosa</td>\n",
              "    </tr>\n",
              "    <tr>\n",
              "      <th>2</th>\n",
              "      <td>4.7</td>\n",
              "      <td>3.2</td>\n",
              "      <td>1.3</td>\n",
              "      <td>0.2</td>\n",
              "      <td>Iris-setosa</td>\n",
              "    </tr>\n",
              "    <tr>\n",
              "      <th>3</th>\n",
              "      <td>4.6</td>\n",
              "      <td>3.1</td>\n",
              "      <td>1.5</td>\n",
              "      <td>0.2</td>\n",
              "      <td>Iris-setosa</td>\n",
              "    </tr>\n",
              "  </tbody>\n",
              "</table>\n",
              "</div>"
            ],
            "text/plain": [
              "   sepal-length  sepal-width  petal-length  petal-width        label\n",
              "0           5.1          3.5           1.4          0.2  Iris-setosa\n",
              "1           4.9          3.0           1.4          0.2  Iris-setosa\n",
              "2           4.7          3.2           1.3          0.2  Iris-setosa\n",
              "3           4.6          3.1           1.5          0.2  Iris-setosa"
            ]
          },
          "execution_count": 21,
          "metadata": {},
          "output_type": "execute_result"
        }
      ],
      "source": [
        "# Mengakses baris 0 sampai dengan 3 menggunakan iloc\n",
        "df.iloc[0:4] # range eksklusif"
      ]
    },
    {
      "cell_type": "code",
      "execution_count": 22,
      "metadata": {
        "colab": {
          "base_uri": "https://localhost:8080/",
          "height": 175
        },
        "id": "MD97BX9UNqvh",
        "outputId": "f583e6e4-0949-44fb-ac9a-134f599fdcbc"
      },
      "outputs": [
        {
          "data": {
            "text/html": [
              "<div>\n",
              "<style scoped>\n",
              "    .dataframe tbody tr th:only-of-type {\n",
              "        vertical-align: middle;\n",
              "    }\n",
              "\n",
              "    .dataframe tbody tr th {\n",
              "        vertical-align: top;\n",
              "    }\n",
              "\n",
              "    .dataframe thead th {\n",
              "        text-align: right;\n",
              "    }\n",
              "</style>\n",
              "<table border=\"1\" class=\"dataframe\">\n",
              "  <thead>\n",
              "    <tr style=\"text-align: right;\">\n",
              "      <th></th>\n",
              "      <th>petal-length</th>\n",
              "      <th>petal-width</th>\n",
              "    </tr>\n",
              "  </thead>\n",
              "  <tbody>\n",
              "    <tr>\n",
              "      <th>0</th>\n",
              "      <td>1.4</td>\n",
              "      <td>0.2</td>\n",
              "    </tr>\n",
              "    <tr>\n",
              "      <th>1</th>\n",
              "      <td>1.4</td>\n",
              "      <td>0.2</td>\n",
              "    </tr>\n",
              "    <tr>\n",
              "      <th>2</th>\n",
              "      <td>1.3</td>\n",
              "      <td>0.2</td>\n",
              "    </tr>\n",
              "    <tr>\n",
              "      <th>3</th>\n",
              "      <td>1.5</td>\n",
              "      <td>0.2</td>\n",
              "    </tr>\n",
              "  </tbody>\n",
              "</table>\n",
              "</div>"
            ],
            "text/plain": [
              "   petal-length  petal-width\n",
              "0           1.4          0.2\n",
              "1           1.4          0.2\n",
              "2           1.3          0.2\n",
              "3           1.5          0.2"
            ]
          },
          "execution_count": 22,
          "metadata": {},
          "output_type": "execute_result"
        }
      ],
      "source": [
        "# Mengakses baris 0 - 3, namun hanya kolom petal saja, menggunakan loc\n",
        "df.loc[0:3, [\"petal-length\", \"petal-width\"]]"
      ]
    },
    {
      "cell_type": "code",
      "execution_count": 23,
      "metadata": {
        "colab": {
          "base_uri": "https://localhost:8080/",
          "height": 175
        },
        "id": "xPH4A_hfNqvi",
        "outputId": "22f33f07-a2ba-451b-89cd-d275ba7aed0e"
      },
      "outputs": [
        {
          "data": {
            "text/html": [
              "<div>\n",
              "<style scoped>\n",
              "    .dataframe tbody tr th:only-of-type {\n",
              "        vertical-align: middle;\n",
              "    }\n",
              "\n",
              "    .dataframe tbody tr th {\n",
              "        vertical-align: top;\n",
              "    }\n",
              "\n",
              "    .dataframe thead th {\n",
              "        text-align: right;\n",
              "    }\n",
              "</style>\n",
              "<table border=\"1\" class=\"dataframe\">\n",
              "  <thead>\n",
              "    <tr style=\"text-align: right;\">\n",
              "      <th></th>\n",
              "      <th>petal-length</th>\n",
              "      <th>petal-width</th>\n",
              "    </tr>\n",
              "  </thead>\n",
              "  <tbody>\n",
              "    <tr>\n",
              "      <th>0</th>\n",
              "      <td>1.4</td>\n",
              "      <td>0.2</td>\n",
              "    </tr>\n",
              "    <tr>\n",
              "      <th>1</th>\n",
              "      <td>1.4</td>\n",
              "      <td>0.2</td>\n",
              "    </tr>\n",
              "    <tr>\n",
              "      <th>2</th>\n",
              "      <td>1.3</td>\n",
              "      <td>0.2</td>\n",
              "    </tr>\n",
              "    <tr>\n",
              "      <th>3</th>\n",
              "      <td>1.5</td>\n",
              "      <td>0.2</td>\n",
              "    </tr>\n",
              "  </tbody>\n",
              "</table>\n",
              "</div>"
            ],
            "text/plain": [
              "   petal-length  petal-width\n",
              "0           1.4          0.2\n",
              "1           1.4          0.2\n",
              "2           1.3          0.2\n",
              "3           1.5          0.2"
            ]
          },
          "execution_count": 23,
          "metadata": {},
          "output_type": "execute_result"
        }
      ],
      "source": [
        "# Mengakses baris 0 - 3, namun hanya kolom petal saja, menggunakan iloc\n",
        "df.iloc[0:4, 2:4]"
      ]
    },
    {
      "cell_type": "code",
      "execution_count": 24,
      "metadata": {
        "colab": {
          "base_uri": "https://localhost:8080/"
        },
        "id": "xMPgM9UDNqvi",
        "outputId": "68f33df6-2f60-4f9b-edd6-6284330e98e9"
      },
      "outputs": [
        {
          "name": "stdout",
          "output_type": "stream",
          "text": [
            "Iris-setosa\n",
            "Iris-setosa\n"
          ]
        }
      ],
      "source": [
        "# Memasukkan indeks spesifik menggunakan loc dan iloc\n",
        "print(df.loc[1,\"label\"])\n",
        "print(df.iloc[1,4])"
      ]
    },
    {
      "cell_type": "markdown",
      "metadata": {
        "id": "Q_xfkzauNqvi"
      },
      "source": [
        "_Indexing_ juga dapat dilakukan tanpa menggunakan <code>loc</code> maupun <code>iloc</code>, dengan urutan indeks dimulai dari kolom, kemudian indeks dari baris."
      ]
    },
    {
      "cell_type": "code",
      "execution_count": 25,
      "metadata": {
        "colab": {
          "base_uri": "https://localhost:8080/"
        },
        "id": "7MMvG2XMNqvi",
        "outputId": "81d84a20-4050-4f45-fee9-ab7d6536fe57"
      },
      "outputs": [
        {
          "name": "stdout",
          "output_type": "stream",
          "text": [
            "Iris-setosa\n"
          ]
        }
      ],
      "source": [
        "# Indexing tanpa menggunakan loc maupun iloc\n",
        "print(df[\"label\"][1])"
      ]
    },
    {
      "cell_type": "markdown",
      "metadata": {
        "id": "GYBWa8EjNqvj"
      },
      "source": [
        "## Menangani _Missing Values_"
      ]
    },
    {
      "cell_type": "markdown",
      "metadata": {
        "id": "digdd8YzNqvj"
      },
      "source": [
        "Nilai _null_ atau \"_missing values_\" adalah informasi yang diisi dengan _null_ atau tidak diisi. Hal ini dapat terjadi karena informasi tersebut memang tidak diberikan (namun ada), sulit dicari, atau memang tidak ada. _Missing values_ juga dapat tersimpan sebagai \"NA\" atau \"NaN\"."
      ]
    },
    {
      "cell_type": "code",
      "execution_count": 26,
      "metadata": {
        "colab": {
          "base_uri": "https://localhost:8080/"
        },
        "id": "oIztc7IQNqvj",
        "outputId": "ec9cee88-2fa9-4883-95df-36bacf7dc8ec"
      },
      "outputs": [
        {
          "name": "stdout",
          "output_type": "stream",
          "text": [
            "Count missing values untuk df\n",
            " sepal-length    0\n",
            "sepal-width     0\n",
            "petal-length    0\n",
            "petal-width     0\n",
            "label           0\n",
            "dtype: int64\n"
          ]
        }
      ],
      "source": [
        "# Menampilkan jumlah missing values tiap kolom\n",
        "print(\"Count missing values untuk df\\n\", df.isnull().sum())"
      ]
    },
    {
      "cell_type": "markdown",
      "metadata": {
        "id": "FRzOcG1iNqvj"
      },
      "source": [
        "Dapat dilihat di atas bahwa pada df tidak ditemukan nilai _null_. Selanjutnya kita coba membaca dataset baru pada berkas '<code>list_of_lakes.csv</code>' yang dilampirkan di SCELE."
      ]
    },
    {
      "cell_type": "markdown",
      "metadata": {
        "id": "8soB8wYQM03Q"
      },
      "source": [
        "**Deskripsi Data Set \"list of lakes\"**\n",
        "* `name`: Nama dari danau\n",
        "* `country`: Nama negara\n",
        "* `region`: Daerah asal danau\n",
        "* `depth_meters`:Kedalaman danau dalam meter\n",
        "* `depth_feet`: Kedalaman danau dalam feet\n",
        "* `depth_area_ratio` : Rasio kedalaman danua dikuadrat terhadap permukaan danau\n",
        "\n",
        "\n",
        "Diadaptasi dari dataset: https://www.kaggle.com/datasets/codefantasy/list-of-lakes\n"
      ]
    },
    {
      "cell_type": "code",
      "execution_count": 27,
      "metadata": {
        "colab": {
          "base_uri": "https://localhost:8080/"
        },
        "id": "DWgjye15Nqvk",
        "outputId": "9462da06-d4c4-40a4-b010-8e00f9e3e2fd"
      },
      "outputs": [
        {
          "name": "stdout",
          "output_type": "stream",
          "text": [
            "Count missing values untuk df2\n",
            " name                0\n",
            "country             0\n",
            "region              8\n",
            "depth_meters        0\n",
            "depth_feet          0\n",
            "depth_area_ratio    3\n",
            "dtype: int64\n"
          ]
        }
      ],
      "source": [
        "df2 = pd.read_csv('list_of_lakes.csv')\n",
        "\n",
        "# Menampilkan jumlah missing values tiap kolom\n",
        "print(\"Count missing values untuk df2\\n\", df2.isnull().sum())"
      ]
    },
    {
      "cell_type": "markdown",
      "metadata": {
        "id": "nlkQRz7ANqvk"
      },
      "source": [
        "Dapat dilihat di atas bahwa ada kolom \"region\" dan \"depth_area_ratio\" yang memiliki nilai _null_. Hal tersebut ditandai sebagai \"NaN\" pada _DataFrame_ jika ditampilkan seperti di bawah."
      ]
    },
    {
      "cell_type": "code",
      "execution_count": 28,
      "metadata": {
        "colab": {
          "base_uri": "https://localhost:8080/",
          "height": 206
        },
        "id": "PLq2Ss3dNqvk",
        "outputId": "dcb35790-dc2b-4c24-930c-b96e1253488f"
      },
      "outputs": [
        {
          "data": {
            "text/html": [
              "<div>\n",
              "<style scoped>\n",
              "    .dataframe tbody tr th:only-of-type {\n",
              "        vertical-align: middle;\n",
              "    }\n",
              "\n",
              "    .dataframe tbody tr th {\n",
              "        vertical-align: top;\n",
              "    }\n",
              "\n",
              "    .dataframe thead th {\n",
              "        text-align: right;\n",
              "    }\n",
              "</style>\n",
              "<table border=\"1\" class=\"dataframe\">\n",
              "  <thead>\n",
              "    <tr style=\"text-align: right;\">\n",
              "      <th></th>\n",
              "      <th>name</th>\n",
              "      <th>country</th>\n",
              "      <th>region</th>\n",
              "      <th>depth_meters</th>\n",
              "      <th>depth_feet</th>\n",
              "      <th>depth_area_ratio</th>\n",
              "    </tr>\n",
              "  </thead>\n",
              "  <tbody>\n",
              "    <tr>\n",
              "      <th>0</th>\n",
              "      <td>Baikal</td>\n",
              "      <td>Russia</td>\n",
              "      <td>Siberia</td>\n",
              "      <td>1642.0</td>\n",
              "      <td>5387.0</td>\n",
              "      <td>NaN</td>\n",
              "    </tr>\n",
              "    <tr>\n",
              "      <th>1</th>\n",
              "      <td>Tanganyika</td>\n",
              "      <td>Tanzania, Democratic Republic of the Congo, B...</td>\n",
              "      <td>East Africa</td>\n",
              "      <td>1470.0</td>\n",
              "      <td>4823.0</td>\n",
              "      <td>8100000.0</td>\n",
              "    </tr>\n",
              "    <tr>\n",
              "      <th>2</th>\n",
              "      <td>Caspian sea</td>\n",
              "      <td>Iran, Russia, Turkmenistan, Kazakhstan, Azerb...</td>\n",
              "      <td>NaN</td>\n",
              "      <td>1025.0</td>\n",
              "      <td>3363.0</td>\n",
              "      <td>1680000.0</td>\n",
              "    </tr>\n",
              "    <tr>\n",
              "      <th>3</th>\n",
              "      <td>Vostok</td>\n",
              "      <td>Antarctica</td>\n",
              "      <td>NaN</td>\n",
              "      <td>1000.0</td>\n",
              "      <td>3300.0</td>\n",
              "      <td>8940000.0</td>\n",
              "    </tr>\n",
              "    <tr>\n",
              "      <th>4</th>\n",
              "      <td>O'Higgins-San Martín</td>\n",
              "      <td>Chile, Argentina</td>\n",
              "      <td>Aysén (Chile), Santa Cruz (Argentina)</td>\n",
              "      <td>836.0</td>\n",
              "      <td>2742.0</td>\n",
              "      <td>263000.0</td>\n",
              "    </tr>\n",
              "  </tbody>\n",
              "</table>\n",
              "</div>"
            ],
            "text/plain": [
              "                   name                                            country  \\\n",
              "0                Baikal                                             Russia   \n",
              "1            Tanganyika   Tanzania, Democratic Republic of the Congo, B...   \n",
              "2           Caspian sea   Iran, Russia, Turkmenistan, Kazakhstan, Azerb...   \n",
              "3                Vostok                                         Antarctica   \n",
              "4  O'Higgins-San Martín                                   Chile, Argentina   \n",
              "\n",
              "                                  region  depth_meters  depth_feet  \\\n",
              "0                                Siberia        1642.0      5387.0   \n",
              "1                            East Africa        1470.0      4823.0   \n",
              "2                                    NaN        1025.0      3363.0   \n",
              "3                                    NaN        1000.0      3300.0   \n",
              "4  Aysén (Chile), Santa Cruz (Argentina)         836.0      2742.0   \n",
              "\n",
              "   depth_area_ratio  \n",
              "0               NaN  \n",
              "1         8100000.0  \n",
              "2         1680000.0  \n",
              "3         8940000.0  \n",
              "4          263000.0  "
            ]
          },
          "execution_count": 28,
          "metadata": {},
          "output_type": "execute_result"
        }
      ],
      "source": [
        "# Menampilkan DataFrame df2\n",
        "df2.head()"
      ]
    },
    {
      "cell_type": "code",
      "execution_count": 29,
      "metadata": {
        "colab": {
          "base_uri": "https://localhost:8080/",
          "height": 300
        },
        "id": "6yfHb-f1gTzf",
        "outputId": "6c50b5fc-3821-4f83-b8af-625481172c48"
      },
      "outputs": [
        {
          "data": {
            "text/html": [
              "<div>\n",
              "<style scoped>\n",
              "    .dataframe tbody tr th:only-of-type {\n",
              "        vertical-align: middle;\n",
              "    }\n",
              "\n",
              "    .dataframe tbody tr th {\n",
              "        vertical-align: top;\n",
              "    }\n",
              "\n",
              "    .dataframe thead th {\n",
              "        text-align: right;\n",
              "    }\n",
              "</style>\n",
              "<table border=\"1\" class=\"dataframe\">\n",
              "  <thead>\n",
              "    <tr style=\"text-align: right;\">\n",
              "      <th></th>\n",
              "      <th>depth_meters</th>\n",
              "      <th>depth_feet</th>\n",
              "      <th>depth_area_ratio</th>\n",
              "    </tr>\n",
              "  </thead>\n",
              "  <tbody>\n",
              "    <tr>\n",
              "      <th>count</th>\n",
              "      <td>36.000000</td>\n",
              "      <td>36.000000</td>\n",
              "      <td>3.300000e+01</td>\n",
              "    </tr>\n",
              "    <tr>\n",
              "      <th>mean</th>\n",
              "      <td>590.263889</td>\n",
              "      <td>1937.027778</td>\n",
              "      <td>1.936424e+06</td>\n",
              "    </tr>\n",
              "    <tr>\n",
              "      <th>std</th>\n",
              "      <td>280.788876</td>\n",
              "      <td>922.086934</td>\n",
              "      <td>2.951535e+06</td>\n",
              "    </tr>\n",
              "    <tr>\n",
              "      <th>min</th>\n",
              "      <td>406.000000</td>\n",
              "      <td>1332.000000</td>\n",
              "      <td>1.330000e+05</td>\n",
              "    </tr>\n",
              "    <tr>\n",
              "      <th>25%</th>\n",
              "      <td>449.750000</td>\n",
              "      <td>1475.250000</td>\n",
              "      <td>2.470000e+05</td>\n",
              "    </tr>\n",
              "    <tr>\n",
              "      <th>50%</th>\n",
              "      <td>472.000000</td>\n",
              "      <td>1549.000000</td>\n",
              "      <td>3.900000e+05</td>\n",
              "    </tr>\n",
              "    <tr>\n",
              "      <th>75%</th>\n",
              "      <td>591.000000</td>\n",
              "      <td>1939.250000</td>\n",
              "      <td>1.680000e+06</td>\n",
              "    </tr>\n",
              "    <tr>\n",
              "      <th>max</th>\n",
              "      <td>1642.000000</td>\n",
              "      <td>5387.000000</td>\n",
              "      <td>9.240000e+06</td>\n",
              "    </tr>\n",
              "  </tbody>\n",
              "</table>\n",
              "</div>"
            ],
            "text/plain": [
              "       depth_meters   depth_feet  depth_area_ratio\n",
              "count     36.000000    36.000000      3.300000e+01\n",
              "mean     590.263889  1937.027778      1.936424e+06\n",
              "std      280.788876   922.086934      2.951535e+06\n",
              "min      406.000000  1332.000000      1.330000e+05\n",
              "25%      449.750000  1475.250000      2.470000e+05\n",
              "50%      472.000000  1549.000000      3.900000e+05\n",
              "75%      591.000000  1939.250000      1.680000e+06\n",
              "max     1642.000000  5387.000000      9.240000e+06"
            ]
          },
          "execution_count": 29,
          "metadata": {},
          "output_type": "execute_result"
        }
      ],
      "source": [
        "df2.describe()"
      ]
    },
    {
      "cell_type": "markdown",
      "metadata": {
        "id": "zQx4isYwNqvl"
      },
      "source": [
        "Ada beberapa pendekatan untuk menangani _missing values_, berikut pendekatan yang umum digunakan: \n",
        "* Mengisi _missing values_ dengan nilai tertentu menggunakan _method_ <code>fillna()</code> \n",
        "* Menghapus (_drop_) baris atau kolom yang mengandung _missing values_. Gunakan <code>dropna()</code> untuk menghapus __baris__ yang mengandung _missing values_, dan <code>dropna(axis='columns')</code> untuk menghapus __kolom__ yang mengandung missing values.\n",
        "\n",
        "Contoh-contoh di bawah akan berfokus pada kolom \"depth_area_ratio\"."
      ]
    },
    {
      "cell_type": "code",
      "execution_count": 30,
      "metadata": {
        "colab": {
          "base_uri": "https://localhost:8080/",
          "height": 206
        },
        "id": "DDIgoP_ONqvl",
        "outputId": "8ec22f42-1a9b-4fdc-dba6-4f6cd9e6e21c"
      },
      "outputs": [
        {
          "data": {
            "text/html": [
              "<div>\n",
              "<style scoped>\n",
              "    .dataframe tbody tr th:only-of-type {\n",
              "        vertical-align: middle;\n",
              "    }\n",
              "\n",
              "    .dataframe tbody tr th {\n",
              "        vertical-align: top;\n",
              "    }\n",
              "\n",
              "    .dataframe thead th {\n",
              "        text-align: right;\n",
              "    }\n",
              "</style>\n",
              "<table border=\"1\" class=\"dataframe\">\n",
              "  <thead>\n",
              "    <tr style=\"text-align: right;\">\n",
              "      <th></th>\n",
              "      <th>name</th>\n",
              "      <th>country</th>\n",
              "      <th>region</th>\n",
              "      <th>depth_meters</th>\n",
              "      <th>depth_feet</th>\n",
              "      <th>depth_area_ratio</th>\n",
              "    </tr>\n",
              "  </thead>\n",
              "  <tbody>\n",
              "    <tr>\n",
              "      <th>0</th>\n",
              "      <td>Baikal</td>\n",
              "      <td>Russia</td>\n",
              "      <td>Siberia</td>\n",
              "      <td>1642.0</td>\n",
              "      <td>5387.0</td>\n",
              "      <td>1.936424e+06</td>\n",
              "    </tr>\n",
              "    <tr>\n",
              "      <th>1</th>\n",
              "      <td>Tanganyika</td>\n",
              "      <td>Tanzania, Democratic Republic of the Congo, B...</td>\n",
              "      <td>East Africa</td>\n",
              "      <td>1470.0</td>\n",
              "      <td>4823.0</td>\n",
              "      <td>8.100000e+06</td>\n",
              "    </tr>\n",
              "    <tr>\n",
              "      <th>2</th>\n",
              "      <td>Caspian sea</td>\n",
              "      <td>Iran, Russia, Turkmenistan, Kazakhstan, Azerb...</td>\n",
              "      <td>NaN</td>\n",
              "      <td>1025.0</td>\n",
              "      <td>3363.0</td>\n",
              "      <td>1.680000e+06</td>\n",
              "    </tr>\n",
              "    <tr>\n",
              "      <th>3</th>\n",
              "      <td>Vostok</td>\n",
              "      <td>Antarctica</td>\n",
              "      <td>NaN</td>\n",
              "      <td>1000.0</td>\n",
              "      <td>3300.0</td>\n",
              "      <td>8.940000e+06</td>\n",
              "    </tr>\n",
              "    <tr>\n",
              "      <th>4</th>\n",
              "      <td>O'Higgins-San Martín</td>\n",
              "      <td>Chile, Argentina</td>\n",
              "      <td>Aysén (Chile), Santa Cruz (Argentina)</td>\n",
              "      <td>836.0</td>\n",
              "      <td>2742.0</td>\n",
              "      <td>2.630000e+05</td>\n",
              "    </tr>\n",
              "  </tbody>\n",
              "</table>\n",
              "</div>"
            ],
            "text/plain": [
              "                   name                                            country  \\\n",
              "0                Baikal                                             Russia   \n",
              "1            Tanganyika   Tanzania, Democratic Republic of the Congo, B...   \n",
              "2           Caspian sea   Iran, Russia, Turkmenistan, Kazakhstan, Azerb...   \n",
              "3                Vostok                                         Antarctica   \n",
              "4  O'Higgins-San Martín                                   Chile, Argentina   \n",
              "\n",
              "                                  region  depth_meters  depth_feet  \\\n",
              "0                                Siberia        1642.0      5387.0   \n",
              "1                            East Africa        1470.0      4823.0   \n",
              "2                                    NaN        1025.0      3363.0   \n",
              "3                                    NaN        1000.0      3300.0   \n",
              "4  Aysén (Chile), Santa Cruz (Argentina)         836.0      2742.0   \n",
              "\n",
              "   depth_area_ratio  \n",
              "0      1.936424e+06  \n",
              "1      8.100000e+06  \n",
              "2      1.680000e+06  \n",
              "3      8.940000e+06  \n",
              "4      2.630000e+05  "
            ]
          },
          "execution_count": 30,
          "metadata": {},
          "output_type": "execute_result"
        }
      ],
      "source": [
        "# fillna() dengan nilai mean\n",
        "mean = df2.depth_area_ratio.mean() # mendapatkan nilai mean total_bedrooms\n",
        "df2_fill_mean = df2.copy() \n",
        "df2_fill_mean.depth_area_ratio.fillna(mean,inplace=True)\n",
        "df2_fill_mean.head(5)"
      ]
    },
    {
      "cell_type": "code",
      "execution_count": 31,
      "metadata": {
        "colab": {
          "base_uri": "https://localhost:8080/",
          "height": 206
        },
        "id": "13qZ8AqjNqvm",
        "outputId": "37751364-86c6-4f0c-9020-5790a42b2aeb"
      },
      "outputs": [
        {
          "data": {
            "text/html": [
              "<div>\n",
              "<style scoped>\n",
              "    .dataframe tbody tr th:only-of-type {\n",
              "        vertical-align: middle;\n",
              "    }\n",
              "\n",
              "    .dataframe tbody tr th {\n",
              "        vertical-align: top;\n",
              "    }\n",
              "\n",
              "    .dataframe thead th {\n",
              "        text-align: right;\n",
              "    }\n",
              "</style>\n",
              "<table border=\"1\" class=\"dataframe\">\n",
              "  <thead>\n",
              "    <tr style=\"text-align: right;\">\n",
              "      <th></th>\n",
              "      <th>name</th>\n",
              "      <th>country</th>\n",
              "      <th>region</th>\n",
              "      <th>depth_meters</th>\n",
              "      <th>depth_feet</th>\n",
              "      <th>depth_area_ratio</th>\n",
              "    </tr>\n",
              "  </thead>\n",
              "  <tbody>\n",
              "    <tr>\n",
              "      <th>1</th>\n",
              "      <td>Tanganyika</td>\n",
              "      <td>Tanzania, Democratic Republic of the Congo, B...</td>\n",
              "      <td>East Africa</td>\n",
              "      <td>1470.0</td>\n",
              "      <td>4823.0</td>\n",
              "      <td>8100000.0</td>\n",
              "    </tr>\n",
              "    <tr>\n",
              "      <th>4</th>\n",
              "      <td>O'Higgins-San Martín</td>\n",
              "      <td>Chile, Argentina</td>\n",
              "      <td>Aysén (Chile), Santa Cruz (Argentina)</td>\n",
              "      <td>836.0</td>\n",
              "      <td>2742.0</td>\n",
              "      <td>263000.0</td>\n",
              "    </tr>\n",
              "    <tr>\n",
              "      <th>7</th>\n",
              "      <td>Great Slave</td>\n",
              "      <td>Canada</td>\n",
              "      <td>Northwest Territories</td>\n",
              "      <td>614.0</td>\n",
              "      <td>2015.0</td>\n",
              "      <td>3720000.0</td>\n",
              "    </tr>\n",
              "    <tr>\n",
              "      <th>11</th>\n",
              "      <td>Hornindalsvatnet</td>\n",
              "      <td>Norway</td>\n",
              "      <td>Vestland</td>\n",
              "      <td>514.0</td>\n",
              "      <td>1686.0</td>\n",
              "      <td>720000.0</td>\n",
              "    </tr>\n",
              "    <tr>\n",
              "      <th>12</th>\n",
              "      <td>Quesnel</td>\n",
              "      <td>Canada</td>\n",
              "      <td>British Columbia</td>\n",
              "      <td>511.0</td>\n",
              "      <td>1677.0</td>\n",
              "      <td>313000.0</td>\n",
              "    </tr>\n",
              "  </tbody>\n",
              "</table>\n",
              "</div>"
            ],
            "text/plain": [
              "                    name                                            country  \\\n",
              "1             Tanganyika   Tanzania, Democratic Republic of the Congo, B...   \n",
              "4   O'Higgins-San Martín                                   Chile, Argentina   \n",
              "7            Great Slave                                             Canada   \n",
              "11      Hornindalsvatnet                                             Norway   \n",
              "12               Quesnel                                             Canada   \n",
              "\n",
              "                                   region  depth_meters  depth_feet  \\\n",
              "1                             East Africa        1470.0      4823.0   \n",
              "4   Aysén (Chile), Santa Cruz (Argentina)         836.0      2742.0   \n",
              "7                   Northwest Territories         614.0      2015.0   \n",
              "11                               Vestland         514.0      1686.0   \n",
              "12                       British Columbia         511.0      1677.0   \n",
              "\n",
              "    depth_area_ratio  \n",
              "1          8100000.0  \n",
              "4           263000.0  \n",
              "7          3720000.0  \n",
              "11          720000.0  \n",
              "12          313000.0  "
            ]
          },
          "execution_count": 31,
          "metadata": {},
          "output_type": "execute_result"
        }
      ],
      "source": [
        "# dropna untuk menghapus baris yang mengandung missing values\n",
        "df2_drop_row = df2.dropna()\n",
        "df2_drop_row.head(5)"
      ]
    },
    {
      "cell_type": "markdown",
      "metadata": {
        "id": "QhSyjLOhqzhv"
      },
      "source": [
        "## Pertanyaan Pandas"
      ]
    },
    {
      "cell_type": "markdown",
      "metadata": {
        "id": "trGbQMVvqzhv"
      },
      "source": [
        "Jawab setiap pertanyaan pada _cell_ di bawah _cell_ pertanyaan. Jawaban boleh lebih dari 1 _cell_ dan juga kombinasi antara _cell_ kode atau _markdwon_ jika memang diperlukan. Gunakan dataset <code>list_of_lakes.csv</code> yang dilampirkan di SCELE untuk mengerjakan soal-soal berikut."
      ]
    },
    {
      "cell_type": "code",
      "execution_count": 32,
      "metadata": {
        "id": "pYRny2H2rqND"
      },
      "outputs": [],
      "source": [
        "# Imports\n",
        "import pandas as pd"
      ]
    },
    {
      "cell_type": "markdown",
      "metadata": {
        "id": "iUxnpbIwqzhv"
      },
      "source": [
        "1. Buka dataset <code>list_of_lakes.csv</code> sebagai _DataFrame_ dan tampilkan __5 baris terakhir__.\n",
        "\n"
      ]
    },
    {
      "cell_type": "code",
      "execution_count": 33,
      "metadata": {
        "id": "84a6ty5wqzhw"
      },
      "outputs": [
        {
          "data": {
            "text/html": [
              "<div>\n",
              "<style scoped>\n",
              "    .dataframe tbody tr th:only-of-type {\n",
              "        vertical-align: middle;\n",
              "    }\n",
              "\n",
              "    .dataframe tbody tr th {\n",
              "        vertical-align: top;\n",
              "    }\n",
              "\n",
              "    .dataframe thead th {\n",
              "        text-align: right;\n",
              "    }\n",
              "</style>\n",
              "<table border=\"1\" class=\"dataframe\">\n",
              "  <thead>\n",
              "    <tr style=\"text-align: right;\">\n",
              "      <th></th>\n",
              "      <th>name</th>\n",
              "      <th>country</th>\n",
              "      <th>region</th>\n",
              "      <th>depth_meters</th>\n",
              "      <th>depth_feet</th>\n",
              "      <th>depth_area_ratio</th>\n",
              "    </tr>\n",
              "  </thead>\n",
              "  <tbody>\n",
              "    <tr>\n",
              "      <th>31</th>\n",
              "      <td>Como</td>\n",
              "      <td>Italy</td>\n",
              "      <td>Lombardy</td>\n",
              "      <td>425.0</td>\n",
              "      <td>1394.0</td>\n",
              "      <td>352000.0</td>\n",
              "    </tr>\n",
              "    <tr>\n",
              "      <th>32</th>\n",
              "      <td>Te Anau</td>\n",
              "      <td>New Zealand</td>\n",
              "      <td>Southland (South Island)</td>\n",
              "      <td>425.0</td>\n",
              "      <td>1390.0</td>\n",
              "      <td>229000.0</td>\n",
              "    </tr>\n",
              "    <tr>\n",
              "      <th>33</th>\n",
              "      <td>Tazawa</td>\n",
              "      <td>Japan</td>\n",
              "      <td>Akita Prefecture</td>\n",
              "      <td>423.0</td>\n",
              "      <td>1387.0</td>\n",
              "      <td>831000.0</td>\n",
              "    </tr>\n",
              "    <tr>\n",
              "      <th>34</th>\n",
              "      <td>Wakatipu</td>\n",
              "      <td>New Zealand</td>\n",
              "      <td>South Island</td>\n",
              "      <td>420.0</td>\n",
              "      <td>1378.0</td>\n",
              "      <td>247000.0</td>\n",
              "    </tr>\n",
              "    <tr>\n",
              "      <th>35</th>\n",
              "      <td>Superior</td>\n",
              "      <td>Canada</td>\n",
              "      <td>Ontario, Michigan, Minnesota, Wisconsin</td>\n",
              "      <td>406.0</td>\n",
              "      <td>1332.0</td>\n",
              "      <td>1420000.0</td>\n",
              "    </tr>\n",
              "  </tbody>\n",
              "</table>\n",
              "</div>"
            ],
            "text/plain": [
              "        name       country                                   region  \\\n",
              "31      Como         Italy                                 Lombardy   \n",
              "32   Te Anau   New Zealand                 Southland (South Island)   \n",
              "33    Tazawa         Japan                         Akita Prefecture   \n",
              "34  Wakatipu   New Zealand                             South Island   \n",
              "35  Superior        Canada  Ontario, Michigan, Minnesota, Wisconsin   \n",
              "\n",
              "    depth_meters  depth_feet  depth_area_ratio  \n",
              "31         425.0      1394.0          352000.0  \n",
              "32         425.0      1390.0          229000.0  \n",
              "33         423.0      1387.0          831000.0  \n",
              "34         420.0      1378.0          247000.0  \n",
              "35         406.0      1332.0         1420000.0  "
            ]
          },
          "execution_count": 33,
          "metadata": {},
          "output_type": "execute_result"
        }
      ],
      "source": [
        "# Jawaban no. 1\n",
        "\n",
        "# Membuat DataFrame dengan membaca data dari suatu berkas\n",
        "\n",
        "df2 = pd.read_csv(\n",
        "    'list_of_lakes.csv', # Path menuju berkas dataset, dapat berupa path lokal maupun remote\n",
        ")\n",
        "df2.columns = ['name','country','region','depth_meters','depth_feet','depth_area_ratio']\n",
        "df2.tail(5)"
      ]
    },
    {
      "cell_type": "markdown",
      "metadata": {
        "id": "cPUnk8ziqzhw"
      },
      "source": [
        "2. Tunjukkan __ada berapa__ _country_ unik pada dataset tersebut. Kemudian _country_ apa yang __paling banyak muncul kedua & ketiga__ dan __berapa banyak kemunculannya__?"
      ]
    },
    {
      "cell_type": "code",
      "execution_count": 34,
      "metadata": {
        "id": "cSTf4GQyqzhw"
      },
      "outputs": [
        {
          "name": "stdout",
          "output_type": "stream",
          "text": [
            "Ada sebanyak 20 country unik pada dataset tersebut!\n",
            "\n",
            "Berikut adalah country yang paling banyak muncul kedua & ketiga dan jumlah kemunculannya!\n"
          ]
        },
        {
          "data": {
            "text/plain": [
              " New Zealand    4\n",
              " Norway         4\n",
              "Name: country, dtype: int64"
            ]
          },
          "execution_count": 34,
          "metadata": {},
          "output_type": "execute_result"
        }
      ],
      "source": [
        "# Jawaban no. 2\n",
        "\n",
        "#Country Unik\n",
        "jumlahCountryUnik = (len(df2[\"country\"].unique()))\n",
        "print(\"Ada sebanyak \" + str(jumlahCountryUnik) + \" country unik pada dataset tersebut!\\n\")\n",
        "\n",
        "#Paling banyak muncul kedua & ketiga dan berapa banyak\n",
        "print(\"Berikut adalah country yang paling banyak muncul kedua & ketiga dan jumlah kemunculannya!\")\n",
        "items_counts = df2['country'].value_counts(sort=True)\n",
        "items_counts.iloc[1:3]"
      ]
    },
    {
      "cell_type": "markdown",
      "metadata": {
        "id": "F8iEWV2wqzhx"
      },
      "source": [
        "3. __Buat _DataFrame_ baru__ yang berisi hanya kolom _name_, _country_, _region_, dan _depth_meters_ untuk 20 baris pertama. __Tampilkan _shape_ dan 5 baris pertama__ _DataFrame_ baru tersebut."
      ]
    },
    {
      "cell_type": "code",
      "execution_count": 35,
      "metadata": {
        "id": "QBhdFqtFqzhx"
      },
      "outputs": [
        {
          "name": "stdout",
          "output_type": "stream",
          "text": [
            "Dimensi dari df adalah (36, 4)\n",
            "df terdiri atas 36 baris dan 4 kolom.\n"
          ]
        },
        {
          "data": {
            "text/html": [
              "<div>\n",
              "<style scoped>\n",
              "    .dataframe tbody tr th:only-of-type {\n",
              "        vertical-align: middle;\n",
              "    }\n",
              "\n",
              "    .dataframe tbody tr th {\n",
              "        vertical-align: top;\n",
              "    }\n",
              "\n",
              "    .dataframe thead th {\n",
              "        text-align: right;\n",
              "    }\n",
              "</style>\n",
              "<table border=\"1\" class=\"dataframe\">\n",
              "  <thead>\n",
              "    <tr style=\"text-align: right;\">\n",
              "      <th></th>\n",
              "      <th>name</th>\n",
              "      <th>country</th>\n",
              "      <th>region</th>\n",
              "      <th>depth_meters</th>\n",
              "    </tr>\n",
              "  </thead>\n",
              "  <tbody>\n",
              "    <tr>\n",
              "      <th>0</th>\n",
              "      <td>Baikal</td>\n",
              "      <td>Russia</td>\n",
              "      <td>Siberia</td>\n",
              "      <td>1642.0</td>\n",
              "    </tr>\n",
              "    <tr>\n",
              "      <th>1</th>\n",
              "      <td>Tanganyika</td>\n",
              "      <td>Tanzania, Democratic Republic of the Congo, B...</td>\n",
              "      <td>East Africa</td>\n",
              "      <td>1470.0</td>\n",
              "    </tr>\n",
              "    <tr>\n",
              "      <th>2</th>\n",
              "      <td>Caspian sea</td>\n",
              "      <td>Iran, Russia, Turkmenistan, Kazakhstan, Azerb...</td>\n",
              "      <td>NaN</td>\n",
              "      <td>1025.0</td>\n",
              "    </tr>\n",
              "    <tr>\n",
              "      <th>3</th>\n",
              "      <td>Vostok</td>\n",
              "      <td>Antarctica</td>\n",
              "      <td>NaN</td>\n",
              "      <td>1000.0</td>\n",
              "    </tr>\n",
              "    <tr>\n",
              "      <th>4</th>\n",
              "      <td>O'Higgins-San Martín</td>\n",
              "      <td>Chile, Argentina</td>\n",
              "      <td>Aysén (Chile), Santa Cruz (Argentina)</td>\n",
              "      <td>836.0</td>\n",
              "    </tr>\n",
              "  </tbody>\n",
              "</table>\n",
              "</div>"
            ],
            "text/plain": [
              "                   name                                            country  \\\n",
              "0                Baikal                                             Russia   \n",
              "1            Tanganyika   Tanzania, Democratic Republic of the Congo, B...   \n",
              "2           Caspian sea   Iran, Russia, Turkmenistan, Kazakhstan, Azerb...   \n",
              "3                Vostok                                         Antarctica   \n",
              "4  O'Higgins-San Martín                                   Chile, Argentina   \n",
              "\n",
              "                                  region  depth_meters  \n",
              "0                                Siberia        1642.0  \n",
              "1                            East Africa        1470.0  \n",
              "2                                    NaN        1025.0  \n",
              "3                                    NaN        1000.0  \n",
              "4  Aysén (Chile), Santa Cruz (Argentina)         836.0  "
            ]
          },
          "execution_count": 35,
          "metadata": {},
          "output_type": "execute_result"
        }
      ],
      "source": [
        "# Jawaban no. 3\n",
        "new_df = df2[['name','country','region','depth_meters']]\n",
        "\n",
        "print(\"Dimensi dari df adalah\", new_df.shape)\n",
        "print(\"df terdiri atas {} baris dan {} kolom.\".format(new_df.shape[0], new_df.shape[1]))\n",
        "new_df.head(5)"
      ]
    },
    {
      "cell_type": "markdown",
      "metadata": {
        "id": "8GZlvhrUhGSI"
      },
      "source": [
        "4. __Tampilkan 3 lake__ _DataFrame_ dari soal nomor 3 yang memiliki depth_meter terbesar. (_Hint_: Silakan eksplorasi cara mengurutkan _DataFrame_.)"
      ]
    },
    {
      "cell_type": "code",
      "execution_count": 36,
      "metadata": {
        "id": "gMWm16tshYej"
      },
      "outputs": [
        {
          "data": {
            "text/html": [
              "<div>\n",
              "<style scoped>\n",
              "    .dataframe tbody tr th:only-of-type {\n",
              "        vertical-align: middle;\n",
              "    }\n",
              "\n",
              "    .dataframe tbody tr th {\n",
              "        vertical-align: top;\n",
              "    }\n",
              "\n",
              "    .dataframe thead th {\n",
              "        text-align: right;\n",
              "    }\n",
              "</style>\n",
              "<table border=\"1\" class=\"dataframe\">\n",
              "  <thead>\n",
              "    <tr style=\"text-align: right;\">\n",
              "      <th></th>\n",
              "      <th>name</th>\n",
              "      <th>country</th>\n",
              "      <th>region</th>\n",
              "      <th>depth_meters</th>\n",
              "    </tr>\n",
              "  </thead>\n",
              "  <tbody>\n",
              "    <tr>\n",
              "      <th>0</th>\n",
              "      <td>Baikal</td>\n",
              "      <td>Russia</td>\n",
              "      <td>Siberia</td>\n",
              "      <td>1642.0</td>\n",
              "    </tr>\n",
              "    <tr>\n",
              "      <th>1</th>\n",
              "      <td>Tanganyika</td>\n",
              "      <td>Tanzania, Democratic Republic of the Congo, B...</td>\n",
              "      <td>East Africa</td>\n",
              "      <td>1470.0</td>\n",
              "    </tr>\n",
              "    <tr>\n",
              "      <th>2</th>\n",
              "      <td>Caspian sea</td>\n",
              "      <td>Iran, Russia, Turkmenistan, Kazakhstan, Azerb...</td>\n",
              "      <td>NaN</td>\n",
              "      <td>1025.0</td>\n",
              "    </tr>\n",
              "  </tbody>\n",
              "</table>\n",
              "</div>"
            ],
            "text/plain": [
              "          name                                            country  \\\n",
              "0       Baikal                                             Russia   \n",
              "1   Tanganyika   Tanzania, Democratic Republic of the Congo, B...   \n",
              "2  Caspian sea   Iran, Russia, Turkmenistan, Kazakhstan, Azerb...   \n",
              "\n",
              "        region  depth_meters  \n",
              "0      Siberia        1642.0  \n",
              "1  East Africa        1470.0  \n",
              "2          NaN        1025.0  "
            ]
          },
          "execution_count": 36,
          "metadata": {},
          "output_type": "execute_result"
        }
      ],
      "source": [
        "# Jawaban no. 4\n",
        "sorted = new_df.sort_values(by=['depth_meters'], ascending = False)\n",
        "sorted.head(3)\n"
      ]
    },
    {
      "cell_type": "markdown",
      "metadata": {
        "id": "eMr1yhD1qzhy"
      },
      "source": [
        "5. __Tampilkan median depth_feet__ dari _DataFrame_ awal, yang memiliki _depth_area_ratio_ __lebih besar atau sama dengan 250000 (Dua ratus lima puluh ribu)__.  (_Hint_: Silakan eksplorasi cara mengakses baris _DataFrame_ dengan kondisi _boolean_ menggunakan <code>loc</code>, <code>iloc</code>, atau cara lain.)"
      ]
    },
    {
      "cell_type": "code",
      "execution_count": 37,
      "metadata": {
        "id": "F7O6LZkwqzhy"
      },
      "outputs": [
        {
          "name": "stdout",
          "output_type": "stream",
          "text": [
            "Median depth_feet dari DataFrame awal yang memiliki depth_area_ratio lebih besar atau sama dengan 250000 adalah 1519.5\n"
          ]
        }
      ],
      "source": [
        "# Jawaban no. 5\n",
        "temp_df = df2.loc[(df2['depth_area_ratio'] >= 250000)]\n",
        "median = temp_df['depth_feet'].median()\n",
        "print(\"Median depth_feet dari DataFrame awal yang memiliki depth_area_ratio lebih besar atau sama dengan 250000 adalah \" + str(median))"
      ]
    },
    {
      "cell_type": "markdown",
      "metadata": {
        "id": "m45Rjz5gqzhz"
      },
      "source": [
        "6. Buat _DataFrame_ baru dari _DataFrame_ awal dengan __menghapus seluruh baris__ yang memiliki nilai _null_ . __Tampilkan rata-rata depth_area_ratio__ danau pada _DataFrame_ baru tersebut."
      ]
    },
    {
      "cell_type": "code",
      "execution_count": 38,
      "metadata": {
        "id": "LJPaOjOrqzhz"
      },
      "outputs": [
        {
          "name": "stdout",
          "output_type": "stream",
          "text": [
            "Rata-rata depth_area_ratio dari DataFrame setelah menghapus seluruh baris yang memiliki nilai null adalah 936800.0\n"
          ]
        }
      ],
      "source": [
        "# Jawaban no. 6\n",
        "temp_df = df2.dropna()\n",
        "average = temp_df['depth_area_ratio'].mean()\n",
        "print(\"Rata-rata depth_area_ratio dari DataFrame setelah menghapus seluruh baris yang memiliki nilai null adalah \" + str(average))"
      ]
    },
    {
      "cell_type": "markdown",
      "metadata": {
        "id": "u2QwWxp7qzh0"
      },
      "source": [
        "7. Buat _DataFrame_ baru dari _DataFrame_ __AWAL__ dengan __mengisi seluruh nilai null__ pada kolom _depth_area_ratio_ dengan nilai mean. __Tampilkan rata-rata depth_area_ratio__ rumah pada _DataFrame_ baru tersebut."
      ]
    },
    {
      "cell_type": "code",
      "execution_count": 39,
      "metadata": {
        "id": "q_UX9mwrqzh0"
      },
      "outputs": [
        {
          "data": {
            "text/plain": [
              "1936424.2424242424"
            ]
          },
          "execution_count": 39,
          "metadata": {},
          "output_type": "execute_result"
        }
      ],
      "source": [
        "# Jawaban no. 7\n",
        "avg = df2['depth_area_ratio'].mean()\n",
        "avg"
      ]
    },
    {
      "cell_type": "code",
      "execution_count": 40,
      "metadata": {},
      "outputs": [],
      "source": [
        "newdf = df2['depth_area_ratio'].fillna(avg)"
      ]
    },
    {
      "cell_type": "code",
      "execution_count": 41,
      "metadata": {},
      "outputs": [
        {
          "name": "stdout",
          "output_type": "stream",
          "text": [
            "Rata-rata depth_area_ratio dari DataFrame awal adalah 1936424.2424242422\n"
          ]
        }
      ],
      "source": [
        "print(\"Rata-rata depth_area_ratio dari DataFrame awal adalah \" + str(newdf.mean()))"
      ]
    },
    {
      "cell_type": "markdown",
      "metadata": {
        "id": "C6f18wVPqzh0"
      },
      "source": [
        "8. Apakah ada __perbedaan__ nilai rata-rata baru di nomor 6 dan 7? __Mengapa demikian?__"
      ]
    },
    {
      "cell_type": "markdown",
      "metadata": {},
      "source": [
        "\\* Jawaban No 8 <br>\n",
        "- Pada nomor 6, dilakukan penghapusan seluruh baris yang memiliki nilai null, ada beberapa data bernilai NaN pada kolom region dan depth_area_ratio.\n",
        "- Pada nomor 7, pertama dicari rata-rata dari kolom depth_area_ratio yang mana hasilnya adalah <b>1936424.2424242424</b>. Begitu pula hasil dari DF baru yang null value pada kolom depth_area_ratio yang sudah dihapus juga sama. Hal ini dikarenakan pada saat merata-ratakan data awal, total value dari kolom depth_area_ratio di bagi dengan jumlah data tanpa null value, sehingga pada saat DF baru yang sudah diganti null valuenya dengan rata-rata, hasilnya akan tetap sama.\n",
        "- Rata-rata nomor 6 dan 7 berbeda karna jumlah barisnya berbeda pula. Rata-rata yang dicari adalah depth_area_ratio. Pada nomor 6, baris NaN pada kolom region ikut dihapus, sehingga ada value pada depth_area_ratio tidak ikut dirata-ratakan, hal ini tentu berbeda dengan no 7 yang semua nilai pada depth_area_ratio dirata-ratakan tanpa terkecuali."
      ]
    },
    {
      "cell_type": "markdown",
      "metadata": {
        "id": "AwN5NSw0hQ46"
      },
      "source": [
        "# **C. Pengenalan NumPy**"
      ]
    },
    {
      "cell_type": "markdown",
      "metadata": {
        "id": "7nfxPaTRhQ47"
      },
      "source": [
        "[NumPy](https://numpy.org/) (Numerical Python) adalah library Python yang berfokus pada <i>Scientific computing</i>. NumPy menyerupai List pada Python, hanya saja NumPy memiliki beberapa kelebihan seperti penggunaan memory yang lebih kecil, runtime yang lebih cepat, dan memudahkan kita melakukan operasi vektor dan matriks. Hal ini menyebabkan NumPy menjadi salah satu library yang banyak digunakan dalam proses analisis data."
      ]
    },
    {
      "cell_type": "code",
      "execution_count": 42,
      "metadata": {
        "id": "okY6L78ShQ47"
      },
      "outputs": [],
      "source": [
        "# import library NumPy\n",
        "import numpy as np"
      ]
    },
    {
      "cell_type": "markdown",
      "metadata": {
        "id": "Ihb7n9fthQ47"
      },
      "source": [
        "## Array NumPy"
      ]
    },
    {
      "cell_type": "markdown",
      "metadata": {
        "id": "r5eyeZR-hQ48"
      },
      "source": [
        "Untuk membuat sebuah array baru, kita dapat membuat python List kemudian diubah menjadi NumPy array menggunakan fungsi <code>array()</code> yang terdapat pada NumPy"
      ]
    },
    {
      "cell_type": "code",
      "execution_count": 43,
      "metadata": {
        "colab": {
          "base_uri": "https://localhost:8080/"
        },
        "id": "7EQxVXKrhQ49",
        "outputId": "84c4d201-380f-464a-9b18-a078499e173e"
      },
      "outputs": [
        {
          "data": {
            "text/plain": [
              "array([10, 20, 30, 40, 50])"
            ]
          },
          "execution_count": 43,
          "metadata": {},
          "output_type": "execute_result"
        }
      ],
      "source": [
        "# Membuat numpy array\n",
        "arr = np.array([10,20,30,40,50])\n",
        "arr"
      ]
    },
    {
      "cell_type": "code",
      "execution_count": 44,
      "metadata": {
        "colab": {
          "base_uri": "https://localhost:8080/"
        },
        "id": "9-4o3ulRD0AZ",
        "outputId": "ae467854-5412-4f52-ab5c-16cdb2ad5651"
      },
      "outputs": [
        {
          "name": "stdout",
          "output_type": "stream",
          "text": [
            "<class 'numpy.ndarray'>\n"
          ]
        }
      ],
      "source": [
        "print(type(arr))"
      ]
    },
    {
      "cell_type": "markdown",
      "metadata": {
        "id": "SA_ZNvpdhQ4-"
      },
      "source": [
        "Terdapat beberapa fungsi bawaan yang dapat digunakan untuk membuat array"
      ]
    },
    {
      "cell_type": "code",
      "execution_count": 45,
      "metadata": {
        "colab": {
          "base_uri": "https://localhost:8080/"
        },
        "id": "m87ZpDumhQ4-",
        "outputId": "e0f31b18-3e9f-4ec5-8687-359e5475eac5"
      },
      "outputs": [
        {
          "name": "stdout",
          "output_type": "stream",
          "text": [
            "np.zeros(5) :  [0. 0. 0. 0. 0.]\n",
            "np.ones(5) :  [1. 1. 1. 1. 1.]\n",
            "np.arange(1,10,2) :  [1 3 5 7 9]\n",
            "np.linspace(1,10,4) :  [ 1.  4.  7. 10.]\n"
          ]
        }
      ],
      "source": [
        "# Membuat array dengan nilai 0 sebanyak 5\n",
        "print(\"np.zeros(5) : \",np.zeros(5))\n",
        "\n",
        "# Membuat array dengan nilai 1 sebanyak 5\n",
        "print(\"np.ones(5) : \",np.ones(5))\n",
        "\n",
        "# Membuat array dengan nilai dalam range 1 sampai 10 dengan step sebesar 2\n",
        "print(\"np.arange(1,10,2) : \",np.arange(1,10,2))\n",
        "\n",
        "# Membuat array dengan nilai dalam range 1 sampai 10 sebanyak 4 dengan interval yang sama\n",
        "print(\"np.linspace(1,10,4) : \",np.linspace(1,10,4))"
      ]
    },
    {
      "cell_type": "markdown",
      "metadata": {
        "id": "n96smvk6hQ4-"
      },
      "source": [
        "## Array Multidimensi"
      ]
    },
    {
      "cell_type": "markdown",
      "metadata": {
        "id": "L5w2wl8-hQ4-"
      },
      "source": [
        "Selain array 1 dimensi, NumPy juga mempunyai kemampuan untuk membuat dan memanipulasi array multidimensi dengan mudah"
      ]
    },
    {
      "cell_type": "code",
      "execution_count": 46,
      "metadata": {
        "colab": {
          "base_uri": "https://localhost:8080/"
        },
        "id": "_D8VfLPMhQ4_",
        "outputId": "65ee1744-5dd5-4b12-a918-b6297bfec0ba"
      },
      "outputs": [
        {
          "data": {
            "text/plain": [
              "array([[ 1,  2,  3],\n",
              "       [ 4,  5,  6],\n",
              "       [10, 20, 30]])"
            ]
          },
          "execution_count": 46,
          "metadata": {},
          "output_type": "execute_result"
        }
      ],
      "source": [
        "# Membuat numpy array multidimensi / matrix\n",
        "mult_arr = np.array([[1,2,3],[4,5,6],[10,20,30]])\n",
        "mult_arr"
      ]
    },
    {
      "cell_type": "markdown",
      "metadata": {
        "id": "Z79slr7ihQ4_"
      },
      "source": [
        "## Menampilkan Atribut dari Array"
      ]
    },
    {
      "cell_type": "markdown",
      "metadata": {
        "id": "D2F1qOurhQ4_"
      },
      "source": [
        "Terdapat beberapa fungsi yang dapat digunakan untuk menampilkan atribut dari array"
      ]
    },
    {
      "cell_type": "code",
      "execution_count": 47,
      "metadata": {
        "colab": {
          "base_uri": "https://localhost:8080/"
        },
        "id": "jEz_Uie6hQ5A",
        "outputId": "905a07f4-4f0f-4a38-a217-f45e0472e3a5"
      },
      "outputs": [
        {
          "name": "stdout",
          "output_type": "stream",
          "text": [
            "[[ 1  2  3]\n",
            " [ 4  5  6]\n",
            " [10 20 30]]\n",
            "\n",
            "mult_arr.size: 9\n",
            "mult_arr.ndim: 2\n",
            "mult_arr.shape: (3, 3)\n"
          ]
        }
      ],
      "source": [
        "print(mult_arr)\n",
        "\n",
        "print()\n",
        "\n",
        "# Menunjukkan ukuran array\n",
        "print(\"mult_arr.size:\", mult_arr.size)\n",
        "\n",
        "# Menunjukkan jumlah dimensi atau rank dari sebuah array\n",
        "print(\"mult_arr.ndim:\", mult_arr.ndim)\n",
        "\n",
        "# Mengetahui ukuran dari setiap dimensi array \n",
        "print(\"mult_arr.shape:\", mult_arr.shape)"
      ]
    },
    {
      "cell_type": "markdown",
      "metadata": {
        "id": "HsQKEiM7hQ5B"
      },
      "source": [
        "## Cek Tipe"
      ]
    },
    {
      "cell_type": "markdown",
      "metadata": {
        "id": "gf58sK2vhQ5C"
      },
      "source": [
        "Kita dapat mengetahui tipe dari sebuah objek menggunakan fungsi <code>type()</code>"
      ]
    },
    {
      "cell_type": "code",
      "execution_count": 48,
      "metadata": {
        "colab": {
          "base_uri": "https://localhost:8080/",
          "height": 104
        },
        "id": "KhnPsBqzhQ5C",
        "outputId": "51185a59-d9b4-48a5-ace9-106cc15b0d94"
      },
      "outputs": [
        {
          "name": "stdout",
          "output_type": "stream",
          "text": [
            "type(py_list): \n"
          ]
        },
        {
          "data": {
            "text/plain": [
              "list"
            ]
          },
          "metadata": {},
          "output_type": "display_data"
        },
        {
          "name": "stdout",
          "output_type": "stream",
          "text": [
            "\n",
            "type(mult_arr): \n"
          ]
        },
        {
          "data": {
            "text/plain": [
              "numpy.ndarray"
            ]
          },
          "metadata": {},
          "output_type": "display_data"
        }
      ],
      "source": [
        "# Mengecek tipe list\n",
        "py_lst = [1,2,3,4,5]\n",
        "print(\"type(py_list): \")\n",
        "display(type(py_lst))\n",
        "\n",
        "print()\n",
        "\n",
        "# Mengecek tipe dari array\n",
        "print(\"type(mult_arr): \")\n",
        "display(type(mult_arr))"
      ]
    },
    {
      "cell_type": "markdown",
      "metadata": {
        "id": "4mYwFjIYhQ5D"
      },
      "source": [
        "Untuk mengecek tipe data yang ada di dalam sebuah numpy array dapat menggunakan <code>dtype()</code>"
      ]
    },
    {
      "cell_type": "code",
      "execution_count": 49,
      "metadata": {
        "colab": {
          "base_uri": "https://localhost:8080/"
        },
        "id": "2cdhWrSOhQ5D",
        "outputId": "0ede9d72-9d6e-4111-ffa1-68e3cdc9fbac"
      },
      "outputs": [
        {
          "data": {
            "text/plain": [
              "dtype('int64')"
            ]
          },
          "execution_count": 49,
          "metadata": {},
          "output_type": "execute_result"
        }
      ],
      "source": [
        "# Mengecek tipe data dari array\n",
        "mult_arr.dtype"
      ]
    },
    {
      "cell_type": "markdown",
      "metadata": {
        "id": "SWUt2ischQ5D"
      },
      "source": [
        "## Indexing, Slicing, dan Assigning Value pada Array"
      ]
    },
    {
      "cell_type": "code",
      "execution_count": 50,
      "metadata": {
        "colab": {
          "base_uri": "https://localhost:8080/"
        },
        "id": "HoOFhPKghQ5D",
        "outputId": "a6ea6e10-0182-4d4a-c903-fcd1a03bcbfe"
      },
      "outputs": [
        {
          "data": {
            "text/plain": [
              "array([10, 20, 30, 40, 50])"
            ]
          },
          "execution_count": 50,
          "metadata": {},
          "output_type": "execute_result"
        }
      ],
      "source": [
        "arr"
      ]
    },
    {
      "cell_type": "markdown",
      "metadata": {
        "id": "YptC-zskhQ5E"
      },
      "source": [
        "Mengakses elemen pertama dari array"
      ]
    },
    {
      "cell_type": "code",
      "execution_count": 51,
      "metadata": {
        "colab": {
          "base_uri": "https://localhost:8080/"
        },
        "id": "DzCjG_jJhQ5E",
        "outputId": "3e1626c2-70dd-4f51-a4b8-1d8157fd89c9"
      },
      "outputs": [
        {
          "data": {
            "text/plain": [
              "10"
            ]
          },
          "execution_count": 51,
          "metadata": {},
          "output_type": "execute_result"
        }
      ],
      "source": [
        "arr[0]"
      ]
    },
    {
      "cell_type": "code",
      "execution_count": 52,
      "metadata": {
        "colab": {
          "base_uri": "https://localhost:8080/"
        },
        "id": "34EqczMGhQ5E",
        "outputId": "616f15aa-1ad3-4952-8b56-60d77c3c4314"
      },
      "outputs": [
        {
          "data": {
            "text/plain": [
              "array([[ 1,  2,  3],\n",
              "       [ 4,  5,  6],\n",
              "       [10, 20, 30]])"
            ]
          },
          "execution_count": 52,
          "metadata": {},
          "output_type": "execute_result"
        }
      ],
      "source": [
        "mult_arr"
      ]
    },
    {
      "cell_type": "code",
      "execution_count": 53,
      "metadata": {
        "colab": {
          "base_uri": "https://localhost:8080/",
          "height": 52
        },
        "id": "JWmLRZmphQ5E",
        "outputId": "1dc70036-fe3d-41d3-ae1a-61f2aa234949"
      },
      "outputs": [
        {
          "data": {
            "text/plain": [
              "6"
            ]
          },
          "metadata": {},
          "output_type": "display_data"
        },
        {
          "data": {
            "text/plain": [
              "6"
            ]
          },
          "metadata": {},
          "output_type": "display_data"
        }
      ],
      "source": [
        "# Mengakses elemen baris kedua, kolom ketiga dari sebuah array multidimensi\n",
        "display(mult_arr[1,2])\n",
        "\n",
        "# Cara lain\n",
        "display(mult_arr[1][2])"
      ]
    },
    {
      "cell_type": "markdown",
      "metadata": {
        "id": "O4K8DnUdhQ5F"
      },
      "source": [
        "Kita dapat melakukan slicing pada numpy array seperti pada List"
      ]
    },
    {
      "cell_type": "code",
      "execution_count": 54,
      "metadata": {
        "colab": {
          "base_uri": "https://localhost:8080/"
        },
        "id": "hSzAcAFhdJEr",
        "outputId": "05188831-005d-4e58-e44b-c60f0e76574e"
      },
      "outputs": [
        {
          "data": {
            "text/plain": [
              "array([10, 20, 30, 40, 50])"
            ]
          },
          "execution_count": 54,
          "metadata": {},
          "output_type": "execute_result"
        }
      ],
      "source": [
        "arr"
      ]
    },
    {
      "cell_type": "code",
      "execution_count": 55,
      "metadata": {
        "colab": {
          "base_uri": "https://localhost:8080/"
        },
        "id": "kAuTlxGlhQ5F",
        "outputId": "7f43e063-75de-4d59-92f5-32622d36c6ef"
      },
      "outputs": [
        {
          "data": {
            "text/plain": [
              "array([20, 30, 40])"
            ]
          },
          "execution_count": 55,
          "metadata": {},
          "output_type": "execute_result"
        }
      ],
      "source": [
        "# Slice elemen index 1 sampai 3\n",
        "b = arr[1:4]\n",
        "b"
      ]
    },
    {
      "cell_type": "markdown",
      "metadata": {
        "id": "6mwPQiiVhQ5H"
      },
      "source": [
        "Kita juga dapat melakukan slicing pada array multidimensi"
      ]
    },
    {
      "cell_type": "code",
      "execution_count": 56,
      "metadata": {
        "colab": {
          "base_uri": "https://localhost:8080/"
        },
        "id": "zCy4jrewhQ5H",
        "outputId": "3a634249-516b-49bd-fcd0-880c636fbb3c"
      },
      "outputs": [
        {
          "data": {
            "text/plain": [
              "array([[ 1,  2,  3],\n",
              "       [ 4,  5,  6],\n",
              "       [10, 20, 30]])"
            ]
          },
          "execution_count": 56,
          "metadata": {},
          "output_type": "execute_result"
        }
      ],
      "source": [
        "mult_arr"
      ]
    },
    {
      "cell_type": "code",
      "execution_count": 57,
      "metadata": {
        "colab": {
          "base_uri": "https://localhost:8080/"
        },
        "id": "ZvIAK6ifhQ5H",
        "outputId": "0d98f1ce-ef05-46e3-b531-49c1f968cbe3"
      },
      "outputs": [
        {
          "data": {
            "text/plain": [
              "array([1, 2])"
            ]
          },
          "execution_count": 57,
          "metadata": {},
          "output_type": "execute_result"
        }
      ],
      "source": [
        "#Slice elemen dari baris pertama, kolom 1 serta 2\n",
        "mult_arr[0][0:2]"
      ]
    },
    {
      "cell_type": "code",
      "execution_count": 58,
      "metadata": {
        "colab": {
          "base_uri": "https://localhost:8080/"
        },
        "id": "JItGn-oYhQ5I",
        "outputId": "a3689f78-3fd2-401c-a056-e12fb358768a"
      },
      "outputs": [
        {
          "data": {
            "text/plain": [
              "array([ 2,  5, 20])"
            ]
          },
          "execution_count": 58,
          "metadata": {},
          "output_type": "execute_result"
        }
      ],
      "source": [
        "# Slice kolom kedua\n",
        "mult_arr[:,1]"
      ]
    },
    {
      "cell_type": "markdown",
      "metadata": {
        "id": "W70gBX3OhQ5I"
      },
      "source": [
        "Kita dapat mengubah value dari sebuah array. \n"
      ]
    },
    {
      "cell_type": "code",
      "execution_count": 59,
      "metadata": {
        "colab": {
          "base_uri": "https://localhost:8080/"
        },
        "id": "9X9V3qrnhQ5I",
        "outputId": "19a3c397-1b6c-4542-8297-60247ffaeff3"
      },
      "outputs": [
        {
          "data": {
            "text/plain": [
              "array([ 10,  20,  30,  40, 500])"
            ]
          },
          "execution_count": 59,
          "metadata": {},
          "output_type": "execute_result"
        }
      ],
      "source": [
        "# Mengubah elemen kelima array a menjadi 500\n",
        "arr[4] = 500\n",
        "arr"
      ]
    },
    {
      "cell_type": "code",
      "execution_count": 60,
      "metadata": {
        "colab": {
          "base_uri": "https://localhost:8080/"
        },
        "id": "Zh2EgBFvhQ5J",
        "outputId": "94b0746a-8384-4ffb-bba5-9df712062d2b"
      },
      "outputs": [
        {
          "data": {
            "text/plain": [
              "array([[100,   2,   3],\n",
              "       [  4,   5,   6],\n",
              "       [ 10,  20,  30]])"
            ]
          },
          "execution_count": 60,
          "metadata": {},
          "output_type": "execute_result"
        }
      ],
      "source": [
        "# Mengubah elemen baris pertama kolom pertama array multidimensi A menjadi 100\n",
        "mult_arr[0][0] = 100\n",
        "mult_arr"
      ]
    },
    {
      "cell_type": "markdown",
      "metadata": {
        "id": "IZuUtLb9hQ5J"
      },
      "source": [
        "Kita dapat menggunakan sebuah list untuk memilih indeks secara spesifik"
      ]
    },
    {
      "cell_type": "code",
      "execution_count": 61,
      "metadata": {
        "id": "XKeq6vgQhQ5J"
      },
      "outputs": [],
      "source": [
        "# Membuat list berisi indeks\n",
        "lst = [0,3,4]"
      ]
    },
    {
      "cell_type": "code",
      "execution_count": 62,
      "metadata": {
        "colab": {
          "base_uri": "https://localhost:8080/"
        },
        "id": "jifpn9ZghQ5J",
        "outputId": "ca099929-2fbf-4704-a09b-bfc98babd6e9"
      },
      "outputs": [
        {
          "data": {
            "text/plain": [
              "array([ 10,  40, 500])"
            ]
          },
          "execution_count": 62,
          "metadata": {},
          "output_type": "execute_result"
        }
      ],
      "source": [
        "# Menggunakan list untuk memilih elemen\n",
        "c = arr[lst]\n",
        "c"
      ]
    },
    {
      "cell_type": "markdown",
      "metadata": {
        "id": "QzoftEy4hQ5J"
      },
      "source": [
        "Selain itu, kita juga bisa meng-assign elemen pada indeks di list dengan value baru"
      ]
    },
    {
      "cell_type": "code",
      "execution_count": 63,
      "metadata": {
        "colab": {
          "base_uri": "https://localhost:8080/"
        },
        "id": "c0cscnQshQ5J",
        "outputId": "e2c1843a-eead-4a1f-f715-e0631fecaaf9"
      },
      "outputs": [
        {
          "data": {
            "text/plain": [
              "array([1234,   20,   30, 1234, 1234])"
            ]
          },
          "execution_count": 63,
          "metadata": {},
          "output_type": "execute_result"
        }
      ],
      "source": [
        "# Assign value baru pada indeks di list\n",
        "arr[lst] = 1234\n",
        "arr"
      ]
    },
    {
      "cell_type": "markdown",
      "metadata": {
        "id": "rG_9iZRYhQ5K"
      },
      "source": [
        "## Operasi pada Array"
      ]
    },
    {
      "cell_type": "code",
      "execution_count": 64,
      "metadata": {
        "id": "ntMYIIKEhQ5K"
      },
      "outputs": [],
      "source": [
        "x = np.array([10, 15, 20, 25, 30])\n",
        "y = np.array([30, 25, 20, 15, 10])"
      ]
    },
    {
      "cell_type": "code",
      "execution_count": 65,
      "metadata": {
        "colab": {
          "base_uri": "https://localhost:8080/"
        },
        "id": "NukaYLlhhQ5K",
        "outputId": "a5747882-39c7-4d22-b55b-05235ab988e7"
      },
      "outputs": [
        {
          "name": "stdout",
          "output_type": "stream",
          "text": [
            "Penjumlahan Array :  [40 40 40 40 40]\n",
            "Pengurangan Array :  [-20 -10   0  10  20]\n"
          ]
        }
      ],
      "source": [
        "# Penjumlahan Array\n",
        "print(\"Penjumlahan Array : \", x + y)\n",
        "\n",
        "# Pengurangan Array\n",
        "print(\"Pengurangan Array : \", x - y)"
      ]
    },
    {
      "cell_type": "code",
      "execution_count": 66,
      "metadata": {
        "colab": {
          "base_uri": "https://localhost:8080/"
        },
        "id": "Z2i96AjYhQ5K",
        "outputId": "9574b6f6-7b67-4031-bd46-c7e2f28eff7e"
      },
      "outputs": [
        {
          "name": "stdout",
          "output_type": "stream",
          "text": [
            "Penjumlahan dengan sebuah bilangan :  [13 18 23 28 33]\n",
            "Perkalian dengan sebuah bilangan :  [20 30 40 50 60]\n"
          ]
        }
      ],
      "source": [
        "# Penjumlahan Array dengan  bilangan konstan\n",
        "print(\"Penjumlahan dengan sebuah bilangan : \", x + 3)\n",
        "\n",
        "# Perkalian Array dengan bilangan konstan\n",
        "print(\"Perkalian dengan sebuah bilangan : \", x * 2)"
      ]
    },
    {
      "cell_type": "code",
      "execution_count": 67,
      "metadata": {
        "colab": {
          "base_uri": "https://localhost:8080/"
        },
        "id": "lUChuQMnhQ5L",
        "outputId": "dab85cd7-4565-486c-b525-b46814b06940"
      },
      "outputs": [
        {
          "name": "stdout",
          "output_type": "stream",
          "text": [
            "Perkalian array m dan n :  [0 2]\n",
            "Dot product m dan n :  2\n"
          ]
        }
      ],
      "source": [
        "m = np.array([1,2])\n",
        "n = np.array([0,1])\n",
        "\n",
        "# Perkalian 2 buah array\n",
        "print(\"Perkalian array m dan n : \", m * n)\n",
        "\n",
        "# Dot product dari 2 buah array\n",
        "print(\"Dot product m dan n : \", np.dot(m,n))"
      ]
    },
    {
      "cell_type": "markdown",
      "metadata": {
        "id": "-fWTVHg8hQ5L"
      },
      "source": [
        "## Operasi pada Array Multidimensi / Matrix"
      ]
    },
    {
      "cell_type": "markdown",
      "metadata": {
        "id": "pOuKa2G8hQ5L"
      },
      "source": [
        "Operasi pada array juga berlaku pada array multidimensi / matrix. Kita juga dapat mengetahui transpose dan inverse dari sebuah matrix melalui fungsi berikut"
      ]
    },
    {
      "cell_type": "code",
      "execution_count": 68,
      "metadata": {
        "colab": {
          "base_uri": "https://localhost:8080/"
        },
        "id": "f94MGK78hQ5M",
        "outputId": "aeb3fde1-8984-4a32-db8e-fc5019bb4286"
      },
      "outputs": [
        {
          "name": "stdout",
          "output_type": "stream",
          "text": [
            "[[1 2]\n",
            " [3 4]]\n",
            "Transpose : \n",
            "[[1 3]\n",
            " [2 4]]\n",
            "Invers : \n",
            "[[-2.   1. ]\n",
            " [ 1.5 -0.5]]\n"
          ]
        }
      ],
      "source": [
        "P = np.array([[1,2],[3,4]])\n",
        "\n",
        "# Matrix P\n",
        "print(P)\n",
        "\n",
        "# Membuat matrix transpose dari matrix P\n",
        "print(\"Transpose : \")\n",
        "print(np.transpose(P))\n",
        "\n",
        "# Membuat matrix invers dari matrix P\n",
        "print(\"Invers : \")\n",
        "print(np.linalg.inv(P))"
      ]
    },
    {
      "cell_type": "markdown",
      "metadata": {
        "id": "ZqmzvLtQhQ5M"
      },
      "source": [
        "## Operasi Statistik pada Array"
      ]
    },
    {
      "cell_type": "code",
      "execution_count": 69,
      "metadata": {
        "colab": {
          "base_uri": "https://localhost:8080/"
        },
        "id": "Zp0kp62zhQ5N",
        "outputId": "40e10cb4-7d3a-4a5e-b89e-ffd13678a347"
      },
      "outputs": [
        {
          "data": {
            "text/plain": [
              "array([7, 7, 6, 6, 5, 7, 5, 9, 4, 2, 4, 2, 7, 7, 7, 3, 4, 4, 8, 7, 8, 6,\n",
              "       4, 1, 1])"
            ]
          },
          "execution_count": 69,
          "metadata": {},
          "output_type": "execute_result"
        }
      ],
      "source": [
        "stat_arr = np.array([7, 7, 6, 6, 5, 7, 5, 9, 4, 2, 4, 2, 7, 7, 7, 3, 4, 4, 8, 7, 8, 6,\n",
        "       4, 1, 1])\n",
        "stat_arr"
      ]
    },
    {
      "cell_type": "code",
      "execution_count": 70,
      "metadata": {
        "colab": {
          "base_uri": "https://localhost:8080/"
        },
        "id": "e0NvY7DVhQ5N",
        "outputId": "f2c4635e-f4e1-411d-d313-47850182c703"
      },
      "outputs": [
        {
          "name": "stdout",
          "output_type": "stream",
          "text": [
            "Nilai rata-rata :  5.24\n",
            "Nilai maks :  9\n",
            "Nilai unik :  [1 2 3 4 5 6 7 8 9]\n",
            "Sorted :  [1 1 2 2 3 4 4 4 4 4 5 5 6 6 6 7 7 7 7 7 7 7 8 8 9]\n"
          ]
        }
      ],
      "source": [
        "# Nilai rata-rata dari sebuah array\n",
        "print(\"Nilai rata-rata : \", np.mean(stat_arr))\n",
        "\n",
        "# Nilai maksimal dari sebuah array\n",
        "print(\"Nilai maks : \", np.max(stat_arr))\n",
        "\n",
        "# Nilai unik dari sebuah array\n",
        "print(\"Nilai unik : \", np.unique(stat_arr))\n",
        "\n",
        "#Sort nilai pada array\n",
        "print(\"Sorted : \", np.sort(stat_arr))"
      ]
    },
    {
      "cell_type": "markdown",
      "metadata": {
        "id": "WXRKYZjpewnw"
      },
      "source": [
        "## Pertanyaan NumPy"
      ]
    },
    {
      "cell_type": "markdown",
      "metadata": {
        "id": "fu1QHkqHewnw"
      },
      "source": [
        "Jawab setiap pertanyaan pada _cell_ di bawah _cell_ pertanyaan. Jawaban boleh lebih dari 1 _cell_ dan juga kombinasi antara _cell_ kode atau _markdown_ jika memang diperlukan."
      ]
    },
    {
      "cell_type": "code",
      "execution_count": 71,
      "metadata": {
        "colab": {
          "base_uri": "https://localhost:8080/"
        },
        "id": "cGm3H8w5ewny",
        "outputId": "c0b5869f-600e-4939-adfc-6cfb286d5918"
      },
      "outputs": [
        {
          "data": {
            "text/plain": [
              "dtype('float64')"
            ]
          },
          "execution_count": 71,
          "metadata": {},
          "output_type": "execute_result"
        }
      ],
      "source": [
        "arr_1 = np.array([1,2,np.nan,4,5,6,7,8])\n",
        "arr_1.dtype"
      ]
    },
    {
      "cell_type": "markdown",
      "metadata": {
        "id": "MlljILyXewny"
      },
      "source": [
        "1. Jalankan _cell_ di atas! Mengapa tipe data yang didapatkan dari <code>arr_1.dtype</code> bertipe float padahal semua elemen bernilai integer kecuali satu? Jelaskan secara singkat!"
      ]
    },
    {
      "cell_type": "markdown",
      "metadata": {
        "id": "HQT4O18zi8o-"
      },
      "source": [
        "\\#Jawaban no. 1"
      ]
    },
    {
      "cell_type": "markdown",
      "metadata": {},
      "source": [
        "Pada NumPy, terdapat upcasting dimana pada saat terdapat tipe data element array yang berbeda, dilakukan penyamaan tipe data dengan yang lebih tinggi. Float merupakan tipe data yang lebih tinggi dari integer, sehingga pada array tersebut, dilakukan upcasting menjadi float karena np.nan merupakan tipe data float."
      ]
    },
    {
      "cell_type": "markdown",
      "metadata": {
        "id": "IZTY_2YGewn1"
      },
      "source": [
        "<hr>"
      ]
    },
    {
      "cell_type": "code",
      "execution_count": 72,
      "metadata": {
        "id": "wrqZCCerewn2"
      },
      "outputs": [],
      "source": [
        "U = np.array([[6,9,0],[4,2,0],[9,6,0]])\n",
        "V = np.array([[2,3,2],[1,2,1],[3,2,1]])\n",
        "W = np.array([[1,1,2],[2,3,1],[2,2,2]])"
      ]
    },
    {
      "cell_type": "markdown",
      "metadata": {
        "id": "P_WC0aGkewn2"
      },
      "source": [
        "2. Terdapat matrix U, V, W seperti pada _cell_ di atas, lakukan operasi penambahan matrix U dan V! Kemudian lakukan operasi invers pada matrix W! Matrix hasil penambahan dan matrix hasil inverse kemudian diterapkan perkalian matrix! Kemudian buatlah sebuah matrix baru yang isinya kuadrat dari setiap elemen dari hasil perkalian matrix tersebut! Tampilkan matrix transpose dari matrix akar tersebut! (Hint : Anda dapat menggunakan fungsi <code>square</code> dari NumPy)\n",
        "\n",
        "Formula matematis dari soal:\n",
        "\n",
        "$Y = (U+V) * W^{-1}$\n",
        "\n",
        "$Z =$ Sebuah matrix dimana setiap elemen dalam Y dikuadratkan\n",
        "\n",
        "$Jawaban = Z^{T}$"
      ]
    },
    {
      "cell_type": "code",
      "execution_count": 73,
      "metadata": {
        "id": "3js1mRHfini0"
      },
      "outputs": [],
      "source": [
        "# Jawaban no. 2"
      ]
    },
    {
      "cell_type": "code",
      "execution_count": 74,
      "metadata": {},
      "outputs": [],
      "source": [
        "Y = np.matmul((U+V),np.linalg.inv(W))"
      ]
    },
    {
      "cell_type": "code",
      "execution_count": 75,
      "metadata": {},
      "outputs": [],
      "source": [
        "Z = np.square(Y)"
      ]
    },
    {
      "cell_type": "code",
      "execution_count": 76,
      "metadata": {},
      "outputs": [],
      "source": [
        "jawaban = np.transpose(Z)"
      ]
    },
    {
      "cell_type": "code",
      "execution_count": 77,
      "metadata": {},
      "outputs": [
        {
          "name": "stdout",
          "output_type": "stream",
          "text": [
            "[[  4.    25.   225.  ]\n",
            " [ 16.     1.    16.  ]\n",
            " [  1.    36.   306.25]]\n"
          ]
        }
      ],
      "source": [
        "print(jawaban)"
      ]
    },
    {
      "cell_type": "markdown",
      "metadata": {
        "id": "dThuQje-ewn3"
      },
      "source": [
        "<hr>"
      ]
    },
    {
      "cell_type": "code",
      "execution_count": 78,
      "metadata": {
        "id": "OovWchHBewn3"
      },
      "outputs": [],
      "source": [
        "arr_3 = np.array([144, 120, 5, 30, 87, 147, 127, 101, 44, 129, 27, 36, \n",
        "                  41, 39, 15, 12, 31, 76, 67, 95, 119, 50, 28, 125, 148, \n",
        "                  65, 97, 51, 68, 21, 80, 6, 69, 23, 63, 8, 49, 56, 92, 132])"
      ]
    },
    {
      "cell_type": "markdown",
      "metadata": {
        "id": "ZAODVenBewn3"
      },
      "source": [
        "Terdapat array seperti cell di atas, pertama kalikan array dengan 3 kemudian cari dan tampilkan rata-rata, nilai maksimum, minimum, median, standar deviasi, variance, dan ukuran dari array tersebut!"
      ]
    },
    {
      "cell_type": "code",
      "execution_count": 79,
      "metadata": {
        "id": "LClVRTW2itvM"
      },
      "outputs": [],
      "source": [
        "# Jawaban no. 3 \n",
        "arr_3_new = arr_3*3"
      ]
    },
    {
      "cell_type": "code",
      "execution_count": 80,
      "metadata": {},
      "outputs": [
        {
          "name": "stdout",
          "output_type": "stream",
          "text": [
            "Rata-rata = 204.225\n",
            "Maksimum = 444\n",
            "Minimum = 15\n",
            "Median = 192.0\n",
            "Standar Deviasi = 129.10702682271017\n",
            "Varians = 16668.624375000003\n",
            "Ukuran = 40\n"
          ]
        }
      ],
      "source": [
        "avg = np.average(arr_3_new)\n",
        "max = np.max(arr_3_new)\n",
        "min = np.min(arr_3_new)\n",
        "median = np.median(arr_3_new)\n",
        "std = np.std(arr_3_new)\n",
        "var = np.var(arr_3_new)\n",
        "ukuran = len(arr_3_new)\n",
        "print(\"Rata-rata = \" + str(avg))\n",
        "print(\"Maksimum = \" + str(max))\n",
        "print(\"Minimum = \" + str(min))\n",
        "print(\"Median = \" + str(median))\n",
        "print(\"Standar Deviasi = \" + str(std))\n",
        "print(\"Varians = \" + str(var))\n",
        "print(\"Ukuran = \" + str(ukuran))"
      ]
    },
    {
      "cell_type": "markdown",
      "metadata": {
        "id": "nmvDDpRfuKPU"
      },
      "source": [
        "# **D. Pengenalan Scikit-learn**"
      ]
    },
    {
      "cell_type": "markdown",
      "metadata": {
        "id": "sR6x-tuSpTo9"
      },
      "source": [
        "[Scikit-learn](https://scikit-learn.org/) atau **sklearn** merupakan _library_ Python yang digunakan untuk _machine learning_. *Library* ini menyediakan beragam modul yang mendukung *supervised* dan *unsupervised learning* (kita akan memepelajari hal ini nanti). Beberapa modul yang disediakan berguna untuk data preprocessing, model fitting, model selection dan model evaluation."
      ]
    },
    {
      "cell_type": "markdown",
      "metadata": {
        "id": "HQ4i4POm-kZ1"
      },
      "source": [
        "## Load Dataset"
      ]
    },
    {
      "cell_type": "markdown",
      "metadata": {
        "id": "eA16fpJ3V2Y2"
      },
      "source": [
        "Modul [datasets](https://scikit-learn.org/stable/datasets.html#datasets) dari sklearn menyediakan sejumlah *toy dataset*  yang dapat digunakan untuk mempelajari _machine learning_. Dataset dapat diakses dengan fungsi <code>load_[nama dataset] ()</code>, outputnya berupa dictionary scikit-learn yang berisi komponen-komponen dari dataset tersebut."
      ]
    },
    {
      "cell_type": "code",
      "execution_count": 81,
      "metadata": {
        "id": "fKIi4oFP4rMd"
      },
      "outputs": [
        {
          "name": "stdout",
          "output_type": "stream",
          "text": [
            "dict_keys(['data', 'target', 'frame', 'DESCR', 'feature_names', 'data_filename', 'target_filename', 'data_module'])\n"
          ]
        }
      ],
      "source": [
        "# Mengakses dataset \"diabetes\" dari modul sklearn.datasets\n",
        "from sklearn.datasets import load_diabetes\n",
        "\n",
        "diabetes = load_diabetes()\n",
        "print(diabetes.keys()) # Melihat komponen yang dimiliki oleh dataset"
      ]
    },
    {
      "cell_type": "markdown",
      "metadata": {
        "id": "aRHBdsjoZkpr"
      },
      "source": [
        "Kita dapat mengakses salah satu komponen layaknya mengakses dictionary "
      ]
    },
    {
      "cell_type": "code",
      "execution_count": 82,
      "metadata": {
        "id": "_bEsillE9-8e"
      },
      "outputs": [
        {
          "name": "stdout",
          "output_type": "stream",
          "text": [
            ".. _diabetes_dataset:\n",
            "\n",
            "Diabetes dataset\n",
            "----------------\n",
            "\n",
            "Ten baseline variables, age, sex, body mass index, average blood\n",
            "pressure, and six blood serum measurements were obtained for each of n =\n",
            "442 diabetes patients, as well as the response of interest, a\n",
            "quantitative measure of disease progression one year after baseline.\n",
            "\n",
            "**Data Set Characteristics:**\n",
            "\n",
            "  :Number of Instances: 442\n",
            "\n",
            "  :Number of Attributes: First 10 columns are numeric predictive values\n",
            "\n",
            "  :Target: Column 11 is a quantitative measure of disease progression one year after baseline\n",
            "\n",
            "  :Attribute Information:\n",
            "      - age     age in years\n",
            "      - sex\n",
            "      - bmi     body mass index\n",
            "      - bp      average blood pressure\n",
            "      - s1      tc, total serum cholesterol\n",
            "      - s2      ldl, low-density lipoproteins\n",
            "      - s3      hdl, high-density lipoproteins\n",
            "      - s4      tch, total cholesterol / HDL\n",
            "      - s5      ltg, possibly log of serum triglycerides level\n",
            "      - s6      glu, blood sugar level\n",
            "\n",
            "Note: Each of these 10 feature variables have been mean centered and scaled by the standard deviation times `n_samples` (i.e. the sum of squares of each column totals 1).\n",
            "\n",
            "Source URL:\n",
            "https://www4.stat.ncsu.edu/~boos/var.select/diabetes.html\n",
            "\n",
            "For more information see:\n",
            "Bradley Efron, Trevor Hastie, Iain Johnstone and Robert Tibshirani (2004) \"Least Angle Regression,\" Annals of Statistics (with discussion), 407-499.\n",
            "(https://web.stanford.edu/~hastie/Papers/LARS/LeastAngle_2002.pdf)\n"
          ]
        }
      ],
      "source": [
        "# Mengakses komponen DESCR untuk melihat deskripsi dari dataset\n",
        "print(diabetes.DESCR)"
      ]
    },
    {
      "cell_type": "markdown",
      "metadata": {
        "id": "L5ZzofIea5Af"
      },
      "source": [
        "Untuk menggunakan dataset tersebut, kita dapat membuat dataframe dari komponen-komponen pada dictionary"
      ]
    },
    {
      "cell_type": "code",
      "execution_count": 83,
      "metadata": {
        "id": "WHVxMPXw-GAF"
      },
      "outputs": [
        {
          "data": {
            "text/html": [
              "<div>\n",
              "<style scoped>\n",
              "    .dataframe tbody tr th:only-of-type {\n",
              "        vertical-align: middle;\n",
              "    }\n",
              "\n",
              "    .dataframe tbody tr th {\n",
              "        vertical-align: top;\n",
              "    }\n",
              "\n",
              "    .dataframe thead th {\n",
              "        text-align: right;\n",
              "    }\n",
              "</style>\n",
              "<table border=\"1\" class=\"dataframe\">\n",
              "  <thead>\n",
              "    <tr style=\"text-align: right;\">\n",
              "      <th></th>\n",
              "      <th>age</th>\n",
              "      <th>sex</th>\n",
              "      <th>bmi</th>\n",
              "      <th>bp</th>\n",
              "      <th>s1</th>\n",
              "      <th>s2</th>\n",
              "      <th>s3</th>\n",
              "      <th>s4</th>\n",
              "      <th>s5</th>\n",
              "      <th>s6</th>\n",
              "      <th>target</th>\n",
              "    </tr>\n",
              "  </thead>\n",
              "  <tbody>\n",
              "    <tr>\n",
              "      <th>0</th>\n",
              "      <td>0.038076</td>\n",
              "      <td>0.050680</td>\n",
              "      <td>0.061696</td>\n",
              "      <td>0.021872</td>\n",
              "      <td>-0.044223</td>\n",
              "      <td>-0.034821</td>\n",
              "      <td>-0.043401</td>\n",
              "      <td>-0.002592</td>\n",
              "      <td>0.019908</td>\n",
              "      <td>-0.017646</td>\n",
              "      <td>151.0</td>\n",
              "    </tr>\n",
              "    <tr>\n",
              "      <th>1</th>\n",
              "      <td>-0.001882</td>\n",
              "      <td>-0.044642</td>\n",
              "      <td>-0.051474</td>\n",
              "      <td>-0.026328</td>\n",
              "      <td>-0.008449</td>\n",
              "      <td>-0.019163</td>\n",
              "      <td>0.074412</td>\n",
              "      <td>-0.039493</td>\n",
              "      <td>-0.068330</td>\n",
              "      <td>-0.092204</td>\n",
              "      <td>75.0</td>\n",
              "    </tr>\n",
              "    <tr>\n",
              "      <th>2</th>\n",
              "      <td>0.085299</td>\n",
              "      <td>0.050680</td>\n",
              "      <td>0.044451</td>\n",
              "      <td>-0.005671</td>\n",
              "      <td>-0.045599</td>\n",
              "      <td>-0.034194</td>\n",
              "      <td>-0.032356</td>\n",
              "      <td>-0.002592</td>\n",
              "      <td>0.002864</td>\n",
              "      <td>-0.025930</td>\n",
              "      <td>141.0</td>\n",
              "    </tr>\n",
              "    <tr>\n",
              "      <th>3</th>\n",
              "      <td>-0.089063</td>\n",
              "      <td>-0.044642</td>\n",
              "      <td>-0.011595</td>\n",
              "      <td>-0.036656</td>\n",
              "      <td>0.012191</td>\n",
              "      <td>0.024991</td>\n",
              "      <td>-0.036038</td>\n",
              "      <td>0.034309</td>\n",
              "      <td>0.022692</td>\n",
              "      <td>-0.009362</td>\n",
              "      <td>206.0</td>\n",
              "    </tr>\n",
              "    <tr>\n",
              "      <th>4</th>\n",
              "      <td>0.005383</td>\n",
              "      <td>-0.044642</td>\n",
              "      <td>-0.036385</td>\n",
              "      <td>0.021872</td>\n",
              "      <td>0.003935</td>\n",
              "      <td>0.015596</td>\n",
              "      <td>0.008142</td>\n",
              "      <td>-0.002592</td>\n",
              "      <td>-0.031991</td>\n",
              "      <td>-0.046641</td>\n",
              "      <td>135.0</td>\n",
              "    </tr>\n",
              "  </tbody>\n",
              "</table>\n",
              "</div>"
            ],
            "text/plain": [
              "        age       sex       bmi        bp        s1        s2        s3  \\\n",
              "0  0.038076  0.050680  0.061696  0.021872 -0.044223 -0.034821 -0.043401   \n",
              "1 -0.001882 -0.044642 -0.051474 -0.026328 -0.008449 -0.019163  0.074412   \n",
              "2  0.085299  0.050680  0.044451 -0.005671 -0.045599 -0.034194 -0.032356   \n",
              "3 -0.089063 -0.044642 -0.011595 -0.036656  0.012191  0.024991 -0.036038   \n",
              "4  0.005383 -0.044642 -0.036385  0.021872  0.003935  0.015596  0.008142   \n",
              "\n",
              "         s4        s5        s6  target  \n",
              "0 -0.002592  0.019908 -0.017646   151.0  \n",
              "1 -0.039493 -0.068330 -0.092204    75.0  \n",
              "2 -0.002592  0.002864 -0.025930   141.0  \n",
              "3  0.034309  0.022692 -0.009362   206.0  \n",
              "4 -0.002592 -0.031991 -0.046641   135.0  "
            ]
          },
          "execution_count": 83,
          "metadata": {},
          "output_type": "execute_result"
        }
      ],
      "source": [
        "# Membuat dataframe dari komponen dataset\n",
        "import pandas as pd\n",
        "\n",
        "df = pd.DataFrame(diabetes.data, columns=diabetes.feature_names)\n",
        "df['target'] = diabetes.target\n",
        "df.head() # melihat 5 baris pertama"
      ]
    },
    {
      "cell_type": "markdown",
      "metadata": {
        "id": "LY_dnkzc6qxY"
      },
      "source": [
        "## Cosine Similarity"
      ]
    },
    {
      "cell_type": "markdown",
      "metadata": {
        "id": "xwCJnCNp6ycd"
      },
      "source": [
        "Salah satu fungsi dari modul <code>metrics</code> adalah untuk menghitung cosine similarity"
      ]
    },
    {
      "cell_type": "code",
      "execution_count": 84,
      "metadata": {
        "id": "2iaa2sd63dLQ"
      },
      "outputs": [
        {
          "name": "stdout",
          "output_type": "stream",
          "text": [
            "[[0.80982829]]\n"
          ]
        }
      ],
      "source": [
        "# Menghitung cosine similarity dari 2 vektor\n",
        "from sklearn.metrics.pairwise import cosine_similarity # import fungsi sklearn yang dibutuhkan\n",
        "import numpy as np\n",
        "\n",
        "vec_1 = np.array([[15,31,10,9,28]])\n",
        "vec_2 = np.array([[35,21,6,7,12]])\n",
        "print(cosine_similarity(vec_1, vec_2))"
      ]
    },
    {
      "cell_type": "markdown",
      "metadata": {
        "id": "EyvJ0gtgtdtU"
      },
      "source": [
        "## Beberapa Modul Scikit-learn Lainnya\n"
      ]
    },
    {
      "cell_type": "markdown",
      "metadata": {
        "id": "53J2YZPDs5qK"
      },
      "source": [
        "Kita akan banyak menggunakan modul scikit-learn saat membuat model _machine learning_. Berikut beberapa modul yang umum digunakan:\n",
        "\n",
        "| Nama Modul | Kegunaan | \n",
        "| ----------- | --------- | \n",
        "| sklearn.cluster | menerapkan algoritma clustering | \n",
        "| sklearn.covariance | memperkirakan covariance fitur | \n",
        "| sklearn.datasets | memuat dataset populer yang disediakan oleh scikit-learn | \n",
        "| sklearn.decomposition | menerapkan algoritma dekomposisi matriks seperti PCA |\n",
        "| sklearn.ensemble | menerapkan beberapa algoritma untuk klasifikasi dan regresi |\n",
        "| sklearn.feature_extraction | mengekstrak fitur dari raw data |\n",
        "| sklearn.feature_selection | menerapkan algoritma seleksi fitur |\n",
        "| sklearn.linear_model | menerapkan beberapa macam model linear |\n",
        "| sklearn.metrics | menghitung performa model dengan berbagai macam metric |\n",
        "| sklearn.model_selection | menerapkan cross-validation |\n",
        "| sklearn.naive_bayes | menerapkan algoritma Naive Bayes untuk klasifikasi |\n",
        "| sklearn.neighbors | menerapkan algo KNN |\n",
        "| sklearn.pipeline | menerapkan beberapa langkah pembuatan model di dalam satu pipeline |\n",
        "| sklearn.preprocessing | melakukan label-encoding, scaling, normalisasi, dan beberapa preprocessing lainnya | \n",
        "| sklearn.svm | menerapkan algo Support Vector Machine |\n",
        "| sklearn.tree | menerapkan algo Decision Tree |\n",
        "\n",
        "\n",
        "Selengkapnya dapat dilihat pada [dokumentasi modul scikit-learn](https://scikit-learn.org/stable/modules/classes.html). Pembahasan mengenai scikit-learn akan lebih lanjut dijelaskan pada sesi tutorial pada minggu keempat perkuliahan KASDD."
      ]
    },
    {
      "cell_type": "markdown",
      "metadata": {
        "id": "AXpgTCicbpKu"
      },
      "source": [
        "## Pertanyaan Scikit-learn"
      ]
    },
    {
      "cell_type": "markdown",
      "metadata": {
        "id": "_zaAa7NRc8qU"
      },
      "source": [
        "Jawab pertanyaan pada _cell_ di bawah _cell_ pertanyaan. Jawaban boleh lebih dari 1 _cell_ dan juga kombinasi antara _cell_ kode atau _markdown_ jika memang diperlukan."
      ]
    },
    {
      "cell_type": "code",
      "execution_count": 85,
      "metadata": {
        "id": "W15Az4d0f_R8"
      },
      "outputs": [],
      "source": [
        "X = [[0, 0], [1, 1]]\n",
        "Y = [[0, 2], [5, 3]]\n",
        "Z = [[1, 1], [2, 2]]"
      ]
    },
    {
      "cell_type": "markdown",
      "metadata": {
        "id": "kHz_tQGodF8t"
      },
      "source": [
        "1. Terdapat 3 matrix, X, Y dan Z, seperti di atas. Hitunglah jarak euclidian dan jarak manhattan pada ketiga matrix tersebut (X dengan Z, X dengan Y, Y dengan Z) menggunakan modul dari scikit-learn!"
      ]
    },
    {
      "cell_type": "code",
      "execution_count": 86,
      "metadata": {
        "id": "tdEuQ_FXlWJ1"
      },
      "outputs": [
        {
          "name": "stdout",
          "output_type": "stream",
          "text": [
            "Euclidean Distances:\n",
            "X dengan Z\n",
            "[[1.41421356 2.82842712]\n",
            " [0.         1.41421356]]\n",
            "\n",
            "X dengan Y\n",
            "[[2.         5.83095189]\n",
            " [1.41421356 4.47213595]]\n",
            "\n",
            "Y dengan Z\n",
            "[[1.41421356 2.        ]\n",
            " [4.47213595 3.16227766]]\n",
            "\n",
            "Manhattan Distances:\n",
            "X dengan Z\n",
            "[[2. 4.]\n",
            " [0. 2.]]\n",
            "\n",
            "X dengan Y\n",
            "[[2. 8.]\n",
            " [2. 6.]]\n",
            "\n",
            "Y dengan Z\n",
            "[[2. 2.]\n",
            " [6. 4.]]\n"
          ]
        }
      ],
      "source": [
        "# Jawaban no. 1\n",
        "from sklearn.metrics.pairwise import euclidean_distances, manhattan_distances\n",
        "print(\"Euclidean Distances:\")\n",
        "print(\"X dengan Z\")\n",
        "print(euclidean_distances(X, Z))\n",
        "print(\"\\nX dengan Y\")\n",
        "print(euclidean_distances(X, Y))\n",
        "print(\"\\nY dengan Z\")\n",
        "print(euclidean_distances(Y, Z))\n",
        "\n",
        "print(\"\\nManhattan Distances:\")\n",
        "print(\"X dengan Z\")\n",
        "print(manhattan_distances(X, Z))\n",
        "print(\"\\nX dengan Y\")\n",
        "print(manhattan_distances(X, Y))\n",
        "print(\"\\nY dengan Z\")\n",
        "print(manhattan_distances(Y, Z))"
      ]
    },
    {
      "cell_type": "markdown",
      "metadata": {
        "id": "akhx_IHNEiLP"
      },
      "source": [
        "2. Load dataset Wine menggunakan modul dari scikit-learn dan tampilkan nama kelas dan fitur-fitur yang ada pada dataset tersebut!"
      ]
    },
    {
      "cell_type": "code",
      "execution_count": 87,
      "metadata": {
        "id": "ZdYq95CzEPRG"
      },
      "outputs": [
        {
          "name": "stdout",
          "output_type": "stream",
          "text": [
            "Nama kelas  ['class_0' 'class_1' 'class_2']\n",
            "Nama kelas  ['alcohol', 'malic_acid', 'ash', 'alcalinity_of_ash', 'magnesium', 'total_phenols', 'flavanoids', 'nonflavanoid_phenols', 'proanthocyanins', 'color_intensity', 'hue', 'od280/od315_of_diluted_wines', 'proline']\n"
          ]
        }
      ],
      "source": [
        "# Jawaban no. 2\n",
        "from sklearn.datasets import load_wine\n",
        "\n",
        "data = load_wine()\n",
        "\n",
        "print(\"Nama kelas \", data.target_names)\n",
        "\n",
        "print(\"Nama kelas \", data.feature_names)"
      ]
    }
  ],
  "metadata": {
    "colab": {
      "collapsed_sections": [],
      "provenance": []
    },
    "kernelspec": {
      "display_name": "Python 3.9.6 64-bit",
      "language": "python",
      "name": "python3"
    },
    "language_info": {
      "codemirror_mode": {
        "name": "ipython",
        "version": 3
      },
      "file_extension": ".py",
      "mimetype": "text/x-python",
      "name": "python",
      "nbconvert_exporter": "python",
      "pygments_lexer": "ipython3",
      "version": "3.9.6 (v3.9.6:db3ff76da1, Jun 28 2021, 11:49:53) \n[Clang 6.0 (clang-600.0.57)]"
    },
    "vscode": {
      "interpreter": {
        "hash": "aee8b7b246df8f9039afb4144a1f6fd8d2ca17a180786b69acc140d282b71a49"
      }
    }
  },
  "nbformat": 4,
  "nbformat_minor": 0
}
