{
  "cells": [
    {
      "cell_type": "markdown",
      "metadata": {
        "id": "0k_j9vD93i96"
      },
      "source": [
        "<center>\n",
        "<img src=\"https://drive.google.com/uc?id=1f1gGVI-rxcHjA90WEGNvvtSXF1pAxQwg\" alt=\"Fasilkom UI\" width=\"300\"/>\n",
        "\n",
        "CSGE603130 • Kecerdasan Artifisial dan Sains Data Dasar\n",
        "\n",
        "Semester Ganjil 2022/2023\n",
        "\n",
        "Fakultas Ilmu Komputer, Universitas Indonesia\n",
        "\n",
        "##**Tugas *2*: *Classification***\n",
        "\n",
        "###**Tenggat Waktu: 19 November 2022, 23.55 WIB**\n",
        "</center>\n",
        "\n",
        "####**Ketentuan:**\n",
        "\n",
        "1. Dataset yang digunakan pada tugas ini beserta deskripsinya telah disediakan di SCeLe.\n",
        "2. Buatlah program Jupyter Notebook yang menjawab pertanyaan sesuai dengan perintah soal yang disediakan.\n",
        "3. Dokumen Jupyter Notebook yang telah dilengkapi dengan jawaban dikumpulkan dengan format penamaan **Kelas_Tugas2_NPM_Nama.ipynb**. Contoh: A_Tugas2_2006123456_Budi.ipynb\n",
        "4. Kumpulkan dokumen tersebut pada submisi yang telah disediakan di SCeLe sesuai dengan kelas masing-masing sebelum **19 November 2022, 23.55 WIB**. Keterlambatan pengumpulan akan dikenakan pinalti.\n",
        "5. Praktikum ini dirancang sebagai **tugas mandiri**. Plagiarisme tidak diperkenankan dalam bentuk apapun. Adapun kolaborasi berupa diskusi (tanpa menyalin) dan literasi masih diperbolehkan dengan mencantumkan kolaborator dan sumber.\n"
      ]
    },
    {
      "cell_type": "markdown",
      "metadata": {
        "id": "JnRUE1Ul62_R"
      },
      "source": [
        "## **Pernyataan Integritas**\n",
        "\n",
        "Wajib diisi. Tanpa pernyataan integritas submisi akan dikenakan pinalti."
      ]
    },
    {
      "cell_type": "code",
      "execution_count": 3,
      "metadata": {
        "id": "9tnfWWpN7vjq"
      },
      "outputs": [],
      "source": [
        "# Isi dengan data diri Anda\n",
        "NAMA = \"Riris Melissa Winona Togatorop\"\n",
        "KELAS = \"E\"\n",
        "NPM = \"1906398906\"\n",
        "\n",
        "# Isi dengan NPM teman yang berdiskusi dengan Anda\n",
        "KOLABORATOR = []\n",
        "\n",
        "# Isi dengan sumber referensi yang Anda gunakan dalam mengerjakan\n",
        "REFERENSI = []"
      ]
    },
    {
      "cell_type": "code",
      "execution_count": 4,
      "metadata": {
        "colab": {
          "base_uri": "https://localhost:8080/"
        },
        "id": "KVEdteyu3hot",
        "outputId": "014b719c-1ec7-4e92-ae58-a514f4e308f3"
      },
      "outputs": [
        {
          "name": "stdout",
          "output_type": "stream",
          "text": [
            "Saya, Riris Melissa Winona Togatorop dari kelas E dengan NPM 1906398906, menyatakan bahwa seluruh jawaban pada pekerjaan ini murni saya kerjakan sendiri.\n",
            "Saya tidak mencontek jawaban, memberikan jawaban, maupun menyalin dari sumber manapun.\n",
            " \n",
            "Jika saya melanggar pernyataan tersebut, saya siap menerima konsekuensi apapun yang diberikan.\n",
            "   (Riris Melissa Winona Togatorop)\n"
          ]
        }
      ],
      "source": [
        "PERNYATAAN_INTEGRITAS = \"Saya, %s dari kelas %s dengan NPM %s, menyatakan bahwa seluruh jawaban pada pekerjaan ini murni saya kerjakan sendiri.\\n\\\n",
        "Saya tidak mencontek jawaban, memberikan jawaban, maupun menyalin dari sumber manapun.\\n \\\n",
        "\\n\\\n",
        "Jika saya melanggar pernyataan tersebut, saya siap menerima konsekuensi apapun yang diberikan.\\n   \\\n",
        "(%s)\" % (NAMA, KELAS, NPM, NAMA)\n",
        "\n",
        "print(PERNYATAAN_INTEGRITAS)"
      ]
    },
    {
      "cell_type": "code",
      "execution_count": 5,
      "metadata": {
        "id": "PfDooLQpbXRP"
      },
      "outputs": [],
      "source": [
        "import matplotlib.pyplot as plt\n",
        "import numpy as np\n",
        "import pandas as pd\n",
        "\n",
        "from sklearn.ensemble import RandomForestClassifier\n",
        "from sklearn.feature_selection import SelectKBest\n",
        "from sklearn.metrics import classification_report\n",
        "from sklearn.model_selection import GridSearchCV, train_test_split, KFold, cross_val_score\n",
        "from sklearn.naive_bayes import GaussianNB, MultinomialNB, ComplementNB, BernoulliNB, CategoricalNB\n",
        "from sklearn.neighbors import KNeighborsClassifier\n",
        "from sklearn.preprocessing import MinMaxScaler, LabelEncoder, OneHotEncoder\n",
        "from sklearn.tree import DecisionTreeClassifier"
      ]
    },
    {
      "cell_type": "markdown",
      "metadata": {
        "id": "whoUqmpRTKVe"
      },
      "source": [
        "## **Dataset**"
      ]
    },
    {
      "cell_type": "markdown",
      "metadata": {
        "id": "EK27FheIFqrt"
      },
      "source": [
        "Dataset yang digunakan adalah dataset Mobile Prices dimana kita memklasifikasi handphone lewat harganya, terdapat 21 atribut dan target atributnya adalah price_range.\n",
        "\n",
        "Penjelesan atribut:\n",
        "* battery_power : Total energy a battery can store in one time measured in mAh\n",
        "* blue : Has bluetooth or not\n",
        "* clock_speed : speed at which microprocessor executes instructions\n",
        "* dual_sim : Has dual sim support or not\n",
        "* fc : Front Camera mega pixels\n",
        "* four_g : Has 4G or not\n",
        "* int_memory : Internal Memory in Gigabytes\n",
        "* m_dep : Mobile Depth in cm\n",
        "* mobile_wt : Weight of mobile phone\n",
        "* n_cores : Number of cores of processor\n",
        "* pc : Primary Camera mega pixels\n",
        "* px_height : Pixel Resolution Height\n",
        "* px_width : Pixel Resolution Width\n",
        "* ram : Random Access Memory in Mega Bytes\n",
        "* sc_h : Screen Height of mobile in cm\n",
        "* sc_w : Screen Width of mobile in cm\n",
        "* talk_time : Longest time that a single battery charge will last when you are\n",
        "* three_g : Has 3G or not\n",
        "* touch_screen : Has touch screen or not\n",
        "* wifi : Has wifi or not\n",
        "* price_range : This is the target variable with value of 0(low cost), 1(medium cost), 2(high cost) and 3(very high cost).\n",
        "\n",
        "Sumber: https://www.kaggle.com/datasets/iabhishekofficial/mobile-price-classification (dengan modifikasi)"
      ]
    },
    {
      "cell_type": "markdown",
      "metadata": {
        "id": "PIJ1_2ZIROKV"
      },
      "source": [
        "## [25] **Preprocessing**"
      ]
    },
    {
      "cell_type": "markdown",
      "metadata": {
        "id": "-17a8T9R2_15"
      },
      "source": [
        "**Pada bagian ini Anda akan diminta untuk melakukan preprocessing dan eksplorasi data sebelum data digunakan dalam model klasifikasi.**"
      ]
    },
    {
      "cell_type": "markdown",
      "metadata": {
        "id": "rjKw3KxmRbhm"
      },
      "source": [
        "1\\. [3] Berikan ringkasan mengenai data tersebut terkait dengan deskripsi setiap atribut, jumlah missing values, jumlah duplikasi data, dan kemungkinan adanya outliers pada data!"
      ]
    },
    {
      "cell_type": "code",
      "execution_count": 6,
      "metadata": {
        "id": "77nxbl8ZiLai"
      },
      "outputs": [],
      "source": [
        "mobilePhone = pd.read_csv(\"mobile_phone.csv\")"
      ]
    },
    {
      "cell_type": "code",
      "execution_count": 7,
      "metadata": {},
      "outputs": [
        {
          "name": "stdout",
          "output_type": "stream",
          "text": [
            "<class 'pandas.core.frame.DataFrame'>\n",
            "RangeIndex: 2021 entries, 0 to 2020\n",
            "Data columns (total 21 columns):\n",
            " #   Column         Non-Null Count  Dtype  \n",
            "---  ------         --------------  -----  \n",
            " 0   battery_power  2021 non-null   int64  \n",
            " 1   blue           2021 non-null   int64  \n",
            " 2   clock_speed    1920 non-null   float64\n",
            " 3   dual_sim       2021 non-null   int64  \n",
            " 4   fc             2021 non-null   int64  \n",
            " 5   four_g         2021 non-null   int64  \n",
            " 6   int_memory     1915 non-null   float64\n",
            " 7   m_dep          1928 non-null   float64\n",
            " 8   mobile_wt      2021 non-null   int64  \n",
            " 9   n_cores        2021 non-null   int64  \n",
            " 10  pc             2021 non-null   int64  \n",
            " 11  px_height      2021 non-null   int64  \n",
            " 12  px_width       2021 non-null   int64  \n",
            " 13  ram            1927 non-null   float64\n",
            " 14  sc_h           2021 non-null   int64  \n",
            " 15  sc_w           2021 non-null   int64  \n",
            " 16  talk_time      1937 non-null   float64\n",
            " 17  three_g        2021 non-null   int64  \n",
            " 18  touch_screen   1925 non-null   float64\n",
            " 19  wifi           1922 non-null   float64\n",
            " 20  price_range    2021 non-null   int64  \n",
            "dtypes: float64(7), int64(14)\n",
            "memory usage: 331.7 KB\n"
          ]
        }
      ],
      "source": [
        "mobilePhone.info()"
      ]
    },
    {
      "cell_type": "code",
      "execution_count": 8,
      "metadata": {},
      "outputs": [
        {
          "name": "stdout",
          "output_type": "stream",
          "text": [
            "      battery_power  blue  clock_speed  dual_sim  fc  four_g  int_memory  \\\n",
            "18             1131     1          0.5         1  11       0        49.0   \n",
            "25              503     0          NaN         1   5       1         8.0   \n",
            "38              589     1          NaN         1   1       0        61.0   \n",
            "61             1757     0          0.5         0   8       0        49.0   \n",
            "73             1757     0          0.5         0   8       0        49.0   \n",
            "87             1757     0          0.5         0   8       0        49.0   \n",
            "103            1665     1          0.5         0   3       1        60.0   \n",
            "124            1665     1          0.5         0   3       1        60.0   \n",
            "140            1665     1          0.5         0   3       1        60.0   \n",
            "158             506     0          1.6         0   6       1        41.0   \n",
            "176             506     0          1.6         0   6       1        41.0   \n",
            "190             506     0          1.6         0   6       1        41.0   \n",
            "207            1526     0          2.1         0   1       1        23.0   \n",
            "224            1526     0          2.1         0   1       1        23.0   \n",
            "234            1526     0          2.1         0   1       1        23.0   \n",
            "1517           1660     0          0.5         0   2       1        15.0   \n",
            "1524           1660     0          0.5         0   2       1        15.0   \n",
            "1538           1660     0          0.5         0   2       1        15.0   \n",
            "1550           1660     0          0.5         0   2       1        15.0   \n",
            "1634           1086     0          2.7         0   0       1        24.0   \n",
            "1651           1086     0          2.7         0   0       1        24.0   \n",
            "\n",
            "      m_dep  mobile_wt  n_cores  ...  px_height  px_width     ram  sc_h  sc_w  \\\n",
            "18      0.6        101        5  ...        658       878  1835.0    19    13   \n",
            "25      0.4        111        3  ...        201      1245  2583.0    11     0   \n",
            "38      0.6        160        4  ...        429       815  2113.0    13     7   \n",
            "61      NaN        180        6  ...        265       713  2056.0     7     5   \n",
            "73      NaN        180        6  ...        265       713  2056.0     7     5   \n",
            "87      NaN        180        6  ...        265       713  2056.0     7     5   \n",
            "103     0.2        194        6  ...       1572      1684  1601.0    18    17   \n",
            "124     0.2        194        6  ...       1572      1684  1601.0    18    17   \n",
            "140     0.2        194        6  ...       1572      1684  1601.0    18    17   \n",
            "158     0.8        159        1  ...        875      1025  2965.0    13    10   \n",
            "176     0.8        159        1  ...        875      1025  2965.0    13    10   \n",
            "190     0.8        159        1  ...        875      1025  2965.0    13    10   \n",
            "207     0.2        117        7  ...        718       751  2227.0    18    10   \n",
            "224     0.2        117        7  ...        718       751  2227.0    18    10   \n",
            "234     0.2        117        7  ...        718       751  2227.0    18    10   \n",
            "1517    0.7        100        8  ...        440       569  2424.0    12     5   \n",
            "1524    0.7        100        8  ...        440       569  2424.0    12     5   \n",
            "1538    0.7        100        8  ...        440       569  2424.0    12     5   \n",
            "1550    0.7        100        8  ...        440       569  2424.0    12     5   \n",
            "1634    0.1        135        8  ...       1874      1976  3930.0    17     1   \n",
            "1651    0.1        135        8  ...       1874      1976  3930.0    17     1   \n",
            "\n",
            "      talk_time  three_g  touch_screen  wifi  price_range  \n",
            "18         16.0        1           1.0   NaN            1  \n",
            "25         12.0        1           0.0   0.0            1  \n",
            "38          2.0        1           0.0   1.0            1  \n",
            "61          4.0        0           0.0   0.0            1  \n",
            "73          4.0        0           0.0   0.0            1  \n",
            "87          4.0        0           0.0   0.0            1  \n",
            "103        14.0        1           0.0   0.0            2  \n",
            "124        14.0        1           0.0   0.0            2  \n",
            "140        14.0        1           0.0   0.0            2  \n",
            "158        15.0        1           0.0   0.0            2  \n",
            "176        15.0        1           0.0   0.0            2  \n",
            "190        15.0        1           0.0   0.0            2  \n",
            "207         3.0        1           1.0   0.0            2  \n",
            "224         3.0        1           1.0   0.0            2  \n",
            "234         3.0        1           1.0   0.0            2  \n",
            "1517        9.0        1           1.0   0.0            2  \n",
            "1524        9.0        1           1.0   0.0            2  \n",
            "1538        9.0        1           1.0   0.0            2  \n",
            "1550        9.0        1           1.0   0.0            2  \n",
            "1634       18.0        1           1.0   1.0            3  \n",
            "1651       18.0        1           1.0   1.0            3  \n",
            "\n",
            "[21 rows x 21 columns]\n"
          ]
        }
      ],
      "source": [
        "duplicate = mobilePhone[mobilePhone.duplicated(keep='last')]\n",
        "print(duplicate)"
      ]
    },
    {
      "cell_type": "code",
      "execution_count": 9,
      "metadata": {},
      "outputs": [
        {
          "data": {
            "text/plain": [
              "<AxesSubplot:>"
            ]
          },
          "execution_count": 9,
          "metadata": {},
          "output_type": "execute_result"
        },
        {
          "data": {
            "image/png": "[encoded data removed]",
            "text/plain": [
              "<Figure size 2160x720 with 1 Axes>"
            ]
          },
          "metadata": {
            "needs_background": "light"
          },
          "output_type": "display_data"
        }
      ],
      "source": [
        "# Cek keberadaan outlier\n",
        "mobilePhone.boxplot(figsize=(30,10))"
      ]
    },
    {
      "cell_type": "code",
      "execution_count": 10,
      "metadata": {},
      "outputs": [
        {
          "name": "stdout",
          "output_type": "stream",
          "text": [
            "Jumlah outliers:\n",
            "battery_power      0\n",
            "blue               0\n",
            "clock_speed        0\n",
            "dual_sim           0\n",
            "fc                18\n",
            "four_g             0\n",
            "int_memory         0\n",
            "m_dep              0\n",
            "mobile_wt          0\n",
            "n_cores            0\n",
            "pc                 0\n",
            "px_height          2\n",
            "px_width           0\n",
            "ram                0\n",
            "sc_h               0\n",
            "sc_w               0\n",
            "talk_time          0\n",
            "three_g          480\n",
            "touch_screen       0\n",
            "wifi               0\n",
            "price_range        0\n",
            "dtype: int64\n"
          ]
        }
      ],
      "source": [
        "# Menampilkan jumlah outliers pada data\n",
        "\n",
        "Q1 = mobilePhone.quantile(0.25)\n",
        "Q3 = mobilePhone.quantile(0.75)\n",
        "IQR = Q3 - Q1\n",
        "print(\"Jumlah outliers:\")\n",
        "print(((mobilePhone < (Q1 - 1.5*IQR)) | (mobilePhone > (Q3 + 1.5*IQR))).sum())"
      ]
    },
    {
      "cell_type": "code",
      "execution_count": 11,
      "metadata": {},
      "outputs": [
        {
          "name": "stdout",
          "output_type": "stream",
          "text": [
            "              Number of Missing Values\n",
            "int_memory                         106\n",
            "clock_speed                        101\n",
            "wifi                                99\n",
            "touch_screen                        96\n",
            "ram                                 94\n",
            "m_dep                               93\n",
            "talk_time                           84\n"
          ]
        }
      ],
      "source": [
        "# Melihat jumlah missing value untuk setiap atribut\n",
        "col_na = mobilePhone.isna().sum().sort_values(ascending=False)\n",
        "\n",
        "missing_data = pd.concat([col_na], axis=1, keys=['Number of Missing Values'])\n",
        "print(missing_data[missing_data['Number of Missing Values'] > 0])"
      ]
    },
    {
      "cell_type": "markdown",
      "metadata": {
        "id": "GSDnFvDQaHsE"
      },
      "source": [
        "2\\. [3] Berdasarkan eksplorasi anda pada nomor 1, lakukan data preparation hingga data tersebut menurut anda cukup “clean” dan dapat memberikan hasil klasifikasi yang maksimal."
      ]
    },
    {
      "cell_type": "code",
      "execution_count": 12,
      "metadata": {
        "id": "JjVBdG3wiLvC"
      },
      "outputs": [
        {
          "data": {
            "text/html": [
              "<div>\n",
              "<style scoped>\n",
              "    .dataframe tbody tr th:only-of-type {\n",
              "        vertical-align: middle;\n",
              "    }\n",
              "\n",
              "    .dataframe tbody tr th {\n",
              "        vertical-align: top;\n",
              "    }\n",
              "\n",
              "    .dataframe thead th {\n",
              "        text-align: right;\n",
              "    }\n",
              "</style>\n",
              "<table border=\"1\" class=\"dataframe\">\n",
              "  <thead>\n",
              "    <tr style=\"text-align: right;\">\n",
              "      <th></th>\n",
              "      <th>battery_power</th>\n",
              "      <th>blue</th>\n",
              "      <th>clock_speed</th>\n",
              "      <th>dual_sim</th>\n",
              "      <th>fc</th>\n",
              "      <th>four_g</th>\n",
              "      <th>int_memory</th>\n",
              "      <th>m_dep</th>\n",
              "      <th>mobile_wt</th>\n",
              "      <th>n_cores</th>\n",
              "      <th>...</th>\n",
              "      <th>px_height</th>\n",
              "      <th>px_width</th>\n",
              "      <th>ram</th>\n",
              "      <th>sc_h</th>\n",
              "      <th>sc_w</th>\n",
              "      <th>talk_time</th>\n",
              "      <th>three_g</th>\n",
              "      <th>touch_screen</th>\n",
              "      <th>wifi</th>\n",
              "      <th>price_range</th>\n",
              "    </tr>\n",
              "  </thead>\n",
              "  <tbody>\n",
              "    <tr>\n",
              "      <th>0</th>\n",
              "      <td>842</td>\n",
              "      <td>0</td>\n",
              "      <td>2.2</td>\n",
              "      <td>0</td>\n",
              "      <td>1</td>\n",
              "      <td>0</td>\n",
              "      <td>7.0</td>\n",
              "      <td>0.6</td>\n",
              "      <td>188</td>\n",
              "      <td>2</td>\n",
              "      <td>...</td>\n",
              "      <td>20</td>\n",
              "      <td>756</td>\n",
              "      <td>2549.0</td>\n",
              "      <td>9</td>\n",
              "      <td>7</td>\n",
              "      <td>NaN</td>\n",
              "      <td>0</td>\n",
              "      <td>0.0</td>\n",
              "      <td>1.0</td>\n",
              "      <td>1</td>\n",
              "    </tr>\n",
              "    <tr>\n",
              "      <th>1</th>\n",
              "      <td>1021</td>\n",
              "      <td>1</td>\n",
              "      <td>0.5</td>\n",
              "      <td>1</td>\n",
              "      <td>0</td>\n",
              "      <td>1</td>\n",
              "      <td>53.0</td>\n",
              "      <td>0.7</td>\n",
              "      <td>136</td>\n",
              "      <td>3</td>\n",
              "      <td>...</td>\n",
              "      <td>905</td>\n",
              "      <td>1988</td>\n",
              "      <td>2631.0</td>\n",
              "      <td>17</td>\n",
              "      <td>3</td>\n",
              "      <td>7.0</td>\n",
              "      <td>1</td>\n",
              "      <td>1.0</td>\n",
              "      <td>0.0</td>\n",
              "      <td>2</td>\n",
              "    </tr>\n",
              "    <tr>\n",
              "      <th>2</th>\n",
              "      <td>563</td>\n",
              "      <td>1</td>\n",
              "      <td>0.5</td>\n",
              "      <td>1</td>\n",
              "      <td>2</td>\n",
              "      <td>1</td>\n",
              "      <td>41.0</td>\n",
              "      <td>0.9</td>\n",
              "      <td>145</td>\n",
              "      <td>5</td>\n",
              "      <td>...</td>\n",
              "      <td>1263</td>\n",
              "      <td>1716</td>\n",
              "      <td>2603.0</td>\n",
              "      <td>11</td>\n",
              "      <td>2</td>\n",
              "      <td>9.0</td>\n",
              "      <td>1</td>\n",
              "      <td>1.0</td>\n",
              "      <td>0.0</td>\n",
              "      <td>2</td>\n",
              "    </tr>\n",
              "    <tr>\n",
              "      <th>3</th>\n",
              "      <td>615</td>\n",
              "      <td>1</td>\n",
              "      <td>2.5</td>\n",
              "      <td>0</td>\n",
              "      <td>0</td>\n",
              "      <td>0</td>\n",
              "      <td>10.0</td>\n",
              "      <td>0.8</td>\n",
              "      <td>131</td>\n",
              "      <td>6</td>\n",
              "      <td>...</td>\n",
              "      <td>1216</td>\n",
              "      <td>1786</td>\n",
              "      <td>2769.0</td>\n",
              "      <td>16</td>\n",
              "      <td>8</td>\n",
              "      <td>11.0</td>\n",
              "      <td>1</td>\n",
              "      <td>0.0</td>\n",
              "      <td>0.0</td>\n",
              "      <td>2</td>\n",
              "    </tr>\n",
              "    <tr>\n",
              "      <th>4</th>\n",
              "      <td>1821</td>\n",
              "      <td>1</td>\n",
              "      <td>1.2</td>\n",
              "      <td>0</td>\n",
              "      <td>13</td>\n",
              "      <td>1</td>\n",
              "      <td>44.0</td>\n",
              "      <td>NaN</td>\n",
              "      <td>141</td>\n",
              "      <td>2</td>\n",
              "      <td>...</td>\n",
              "      <td>1208</td>\n",
              "      <td>1212</td>\n",
              "      <td>1411.0</td>\n",
              "      <td>8</td>\n",
              "      <td>2</td>\n",
              "      <td>15.0</td>\n",
              "      <td>1</td>\n",
              "      <td>1.0</td>\n",
              "      <td>0.0</td>\n",
              "      <td>1</td>\n",
              "    </tr>\n",
              "    <tr>\n",
              "      <th>...</th>\n",
              "      <td>...</td>\n",
              "      <td>...</td>\n",
              "      <td>...</td>\n",
              "      <td>...</td>\n",
              "      <td>...</td>\n",
              "      <td>...</td>\n",
              "      <td>...</td>\n",
              "      <td>...</td>\n",
              "      <td>...</td>\n",
              "      <td>...</td>\n",
              "      <td>...</td>\n",
              "      <td>...</td>\n",
              "      <td>...</td>\n",
              "      <td>...</td>\n",
              "      <td>...</td>\n",
              "      <td>...</td>\n",
              "      <td>...</td>\n",
              "      <td>...</td>\n",
              "      <td>...</td>\n",
              "      <td>...</td>\n",
              "      <td>...</td>\n",
              "    </tr>\n",
              "    <tr>\n",
              "      <th>2016</th>\n",
              "      <td>794</td>\n",
              "      <td>1</td>\n",
              "      <td>0.5</td>\n",
              "      <td>1</td>\n",
              "      <td>0</td>\n",
              "      <td>1</td>\n",
              "      <td>2.0</td>\n",
              "      <td>0.8</td>\n",
              "      <td>106</td>\n",
              "      <td>6</td>\n",
              "      <td>...</td>\n",
              "      <td>1222</td>\n",
              "      <td>1890</td>\n",
              "      <td>668.0</td>\n",
              "      <td>13</td>\n",
              "      <td>4</td>\n",
              "      <td>19.0</td>\n",
              "      <td>1</td>\n",
              "      <td>1.0</td>\n",
              "      <td>0.0</td>\n",
              "      <td>0</td>\n",
              "    </tr>\n",
              "    <tr>\n",
              "      <th>2017</th>\n",
              "      <td>1965</td>\n",
              "      <td>1</td>\n",
              "      <td>2.6</td>\n",
              "      <td>1</td>\n",
              "      <td>0</td>\n",
              "      <td>0</td>\n",
              "      <td>39.0</td>\n",
              "      <td>NaN</td>\n",
              "      <td>187</td>\n",
              "      <td>4</td>\n",
              "      <td>...</td>\n",
              "      <td>915</td>\n",
              "      <td>1965</td>\n",
              "      <td>2032.0</td>\n",
              "      <td>11</td>\n",
              "      <td>10</td>\n",
              "      <td>16.0</td>\n",
              "      <td>1</td>\n",
              "      <td>1.0</td>\n",
              "      <td>1.0</td>\n",
              "      <td>2</td>\n",
              "    </tr>\n",
              "    <tr>\n",
              "      <th>2018</th>\n",
              "      <td>1911</td>\n",
              "      <td>0</td>\n",
              "      <td>0.9</td>\n",
              "      <td>1</td>\n",
              "      <td>1</td>\n",
              "      <td>1</td>\n",
              "      <td>36.0</td>\n",
              "      <td>0.7</td>\n",
              "      <td>108</td>\n",
              "      <td>8</td>\n",
              "      <td>...</td>\n",
              "      <td>868</td>\n",
              "      <td>1632</td>\n",
              "      <td>3057.0</td>\n",
              "      <td>9</td>\n",
              "      <td>1</td>\n",
              "      <td>5.0</td>\n",
              "      <td>1</td>\n",
              "      <td>1.0</td>\n",
              "      <td>0.0</td>\n",
              "      <td>3</td>\n",
              "    </tr>\n",
              "    <tr>\n",
              "      <th>2019</th>\n",
              "      <td>1512</td>\n",
              "      <td>0</td>\n",
              "      <td>0.9</td>\n",
              "      <td>0</td>\n",
              "      <td>4</td>\n",
              "      <td>1</td>\n",
              "      <td>46.0</td>\n",
              "      <td>NaN</td>\n",
              "      <td>145</td>\n",
              "      <td>5</td>\n",
              "      <td>...</td>\n",
              "      <td>336</td>\n",
              "      <td>670</td>\n",
              "      <td>869.0</td>\n",
              "      <td>18</td>\n",
              "      <td>10</td>\n",
              "      <td>19.0</td>\n",
              "      <td>1</td>\n",
              "      <td>1.0</td>\n",
              "      <td>1.0</td>\n",
              "      <td>0</td>\n",
              "    </tr>\n",
              "    <tr>\n",
              "      <th>2020</th>\n",
              "      <td>510</td>\n",
              "      <td>1</td>\n",
              "      <td>2.0</td>\n",
              "      <td>1</td>\n",
              "      <td>5</td>\n",
              "      <td>1</td>\n",
              "      <td>45.0</td>\n",
              "      <td>0.9</td>\n",
              "      <td>168</td>\n",
              "      <td>6</td>\n",
              "      <td>...</td>\n",
              "      <td>483</td>\n",
              "      <td>754</td>\n",
              "      <td>3919.0</td>\n",
              "      <td>19</td>\n",
              "      <td>4</td>\n",
              "      <td>2.0</td>\n",
              "      <td>1</td>\n",
              "      <td>1.0</td>\n",
              "      <td>1.0</td>\n",
              "      <td>3</td>\n",
              "    </tr>\n",
              "  </tbody>\n",
              "</table>\n",
              "<p>2000 rows × 21 columns</p>\n",
              "</div>"
            ],
            "text/plain": [
              "      battery_power  blue  clock_speed  dual_sim  fc  four_g  int_memory  \\\n",
              "0               842     0          2.2         0   1       0         7.0   \n",
              "1              1021     1          0.5         1   0       1        53.0   \n",
              "2               563     1          0.5         1   2       1        41.0   \n",
              "3               615     1          2.5         0   0       0        10.0   \n",
              "4              1821     1          1.2         0  13       1        44.0   \n",
              "...             ...   ...          ...       ...  ..     ...         ...   \n",
              "2016            794     1          0.5         1   0       1         2.0   \n",
              "2017           1965     1          2.6         1   0       0        39.0   \n",
              "2018           1911     0          0.9         1   1       1        36.0   \n",
              "2019           1512     0          0.9         0   4       1        46.0   \n",
              "2020            510     1          2.0         1   5       1        45.0   \n",
              "\n",
              "      m_dep  mobile_wt  n_cores  ...  px_height  px_width     ram  sc_h  sc_w  \\\n",
              "0       0.6        188        2  ...         20       756  2549.0     9     7   \n",
              "1       0.7        136        3  ...        905      1988  2631.0    17     3   \n",
              "2       0.9        145        5  ...       1263      1716  2603.0    11     2   \n",
              "3       0.8        131        6  ...       1216      1786  2769.0    16     8   \n",
              "4       NaN        141        2  ...       1208      1212  1411.0     8     2   \n",
              "...     ...        ...      ...  ...        ...       ...     ...   ...   ...   \n",
              "2016    0.8        106        6  ...       1222      1890   668.0    13     4   \n",
              "2017    NaN        187        4  ...        915      1965  2032.0    11    10   \n",
              "2018    0.7        108        8  ...        868      1632  3057.0     9     1   \n",
              "2019    NaN        145        5  ...        336       670   869.0    18    10   \n",
              "2020    0.9        168        6  ...        483       754  3919.0    19     4   \n",
              "\n",
              "      talk_time  three_g  touch_screen  wifi  price_range  \n",
              "0           NaN        0           0.0   1.0            1  \n",
              "1           7.0        1           1.0   0.0            2  \n",
              "2           9.0        1           1.0   0.0            2  \n",
              "3          11.0        1           0.0   0.0            2  \n",
              "4          15.0        1           1.0   0.0            1  \n",
              "...         ...      ...           ...   ...          ...  \n",
              "2016       19.0        1           1.0   0.0            0  \n",
              "2017       16.0        1           1.0   1.0            2  \n",
              "2018        5.0        1           1.0   0.0            3  \n",
              "2019       19.0        1           1.0   1.0            0  \n",
              "2020        2.0        1           1.0   1.0            3  \n",
              "\n",
              "[2000 rows x 21 columns]"
            ]
          },
          "execution_count": 12,
          "metadata": {},
          "output_type": "execute_result"
        }
      ],
      "source": [
        "# Berdasarkan eksplorasi pada nomor 1, yang perlu dilakukan adalah\n",
        "# Penangan data duplikat saja karena terdapat beberapa data yang duplikat dengan cara mendrop data\n",
        "mobilePhone = mobilePhone.drop_duplicates()\n",
        "mobilePhone"
      ]
    },
    {
      "cell_type": "code",
      "execution_count": 13,
      "metadata": {},
      "outputs": [],
      "source": [
        "# Mengatasi missing values pada attribut numerik\n",
        "mobilePhone['int_memory'].fillna((mobilePhone['int_memory'].mean()), inplace=True)\n",
        "mobilePhone['clock_speed'].fillna((mobilePhone['clock_speed'].mean()), inplace=True)\n",
        "mobilePhone['ram'].fillna((mobilePhone['ram'].mean()), inplace=True)\n",
        "mobilePhone['m_dep'].fillna((mobilePhone['m_dep'].mean()), inplace=True)\n",
        "mobilePhone['talk_time'].fillna((mobilePhone['talk_time'].mean()), inplace=True)\n",
        "\n",
        "# Mengatasi missing values pada attribut kategorik\n",
        "mobilePhone['wifi'].fillna((mobilePhone['wifi'].mode().values[0]), inplace=True)\n",
        "mobilePhone['touch_screen'].fillna((mobilePhone['touch_screen'].mode().values[0]), inplace=True)"
      ]
    },
    {
      "cell_type": "code",
      "execution_count": 14,
      "metadata": {},
      "outputs": [],
      "source": [
        "# Terdapat 477 outliers pada three_g, atribut three_g merupakan atribut kategorik sehingga tidak perlu ditangani\n",
        "# Terdapat 18 outliers pada fc, atribut three_g merupakan atribut numerik sehingga perlu ditangani\n",
        "# Terdapat 2 outliers pada fc, atribut three_g merupakan atribut numerik sehingga perlu ditangani"
      ]
    },
    {
      "cell_type": "code",
      "execution_count": 15,
      "metadata": {},
      "outputs": [],
      "source": [
        "# Mengatasi outliers\n",
        "col = mobilePhone.select_dtypes(np.number).columns\n",
        "\n",
        "for c in col:\n",
        "    q1 = mobilePhone[c].quantile(0.1)\n",
        "    q9 = mobilePhone[c].quantile(0.9)\n",
        "    \n",
        "    mobilePhone[c] = np.where(mobilePhone[c] < q1, q1, mobilePhone[c])\n",
        "    mobilePhone[c] = np.where(mobilePhone[c] > q9, q9, mobilePhone[c])"
      ]
    },
    {
      "cell_type": "code",
      "execution_count": 16,
      "metadata": {},
      "outputs": [
        {
          "name": "stdout",
          "output_type": "stream",
          "text": [
            "Jumlah outliers:\n",
            "battery_power      0\n",
            "blue               0\n",
            "clock_speed        0\n",
            "dual_sim           0\n",
            "fc                 0\n",
            "four_g             0\n",
            "int_memory         0\n",
            "m_dep              0\n",
            "mobile_wt          0\n",
            "n_cores            0\n",
            "pc                 0\n",
            "px_height          0\n",
            "px_width           0\n",
            "ram                0\n",
            "sc_h               0\n",
            "sc_w               0\n",
            "talk_time          0\n",
            "three_g          477\n",
            "touch_screen       0\n",
            "wifi               0\n",
            "price_range        0\n",
            "dtype: int64\n"
          ]
        }
      ],
      "source": [
        "# Menampilkan jumlah outliers pada data\n",
        "\n",
        "Q1 = mobilePhone.quantile(0.25)\n",
        "Q3 = mobilePhone.quantile(0.75)\n",
        "IQR = Q3 - Q1\n",
        "print(\"Jumlah outliers:\")\n",
        "print(((mobilePhone < (Q1 - 1.5*IQR)) | (mobilePhone > (Q3 + 1.5*IQR))).sum())"
      ]
    },
    {
      "cell_type": "markdown",
      "metadata": {
        "id": "1Dy5ZSFiaJ-j"
      },
      "source": [
        "3\\. [3] Menurut Anda, apakah perlu dilakukan normalisasi terhadap data, atau cukup menggunakan data asli? Jika ya, bentuk normalisasi apa yang tepat digunakan pada data? Jelaskan secara singkat alasan Anda!\n"
      ]
    },
    {
      "cell_type": "markdown",
      "metadata": {
        "id": "rpXss7aMVSrl"
      },
      "source": [
        "> Jawaban: \n",
        "\n",
        "Menurut saya perlu, karena data yang digunakan memiliki skala yang berbeda-beda sehingga diperlukan normalisasi.\n",
        "Dan untuk normalisasi yang digunakan standarization ketika karakteristik kumpulan data yang digunakan sangat berbeda di antara rangenya."
      ]
    },
    {
      "cell_type": "markdown",
      "metadata": {
        "id": "SJSs0FIUZRrl"
      },
      "source": [
        "4\\. [10] Sebelum data diproses lebih lanjut lakukan *feature selection* dengan memilih beberapa fitur yang paling optimal untuk mengklasifikasikan label target!"
      ]
    },
    {
      "cell_type": "code",
      "execution_count": 17,
      "metadata": {
        "id": "BLmMRKH1iN8F"
      },
      "outputs": [
        {
          "name": "stdout",
          "output_type": "stream",
          "text": [
            "Jumlah feature (sebelum dilakukan feature selection ) : 20\n",
            "Jumlah feature (setelah dilakukan feature selection ) : 10\n"
          ]
        },
        {
          "data": {
            "text/plain": [
              "array(['battery_power', 'int_memory', 'm_dep', 'mobile_wt', 'n_cores',\n",
              "       'px_height', 'px_width', 'ram', 'sc_h', 'talk_time'], dtype=object)"
            ]
          },
          "execution_count": 17,
          "metadata": {},
          "output_type": "execute_result"
        }
      ],
      "source": [
        "from sklearn.feature_selection import SelectKBest\n",
        "from sklearn.feature_selection import f_classif\n",
        "\n",
        "X_raw = mobilePhone.drop([\"price_range\"],axis=1)\n",
        "y = mobilePhone[\"price_range\"]\n",
        "\n",
        "selector = SelectKBest(f_classif, k=10) # memilih 11 atribut terbaik\n",
        "X = selector.fit_transform(X_raw, y)\n",
        "print(\"Jumlah feature (sebelum dilakukan feature selection ) :\", X_raw.shape[1])\n",
        "print(\"Jumlah feature (setelah dilakukan feature selection ) :\", X.shape[1])\n",
        "\n",
        "input_features = selector.feature_names_in_\n",
        "selector.get_feature_names_out(input_features=input_features)"
      ]
    },
    {
      "cell_type": "markdown",
      "metadata": {
        "id": "cRnGaYKzYCzQ"
      },
      "source": [
        "5\\. [6] Apa saja fitur-fitur yang terpilih hasil dari *feature selection*? Jelaskan strategi Anda dalam memilih fitur-fitur tersebut dan berikan analisis mengapa fitur tersebut cocok digunakan untuk mengklasifikasi label target!"
      ]
    },
    {
      "cell_type": "markdown",
      "metadata": {
        "id": "CIXT6s0CYXMr"
      },
      "source": [
        "> Jawaban: \n",
        "\n",
        "> "
      ]
    },
    {
      "cell_type": "markdown",
      "metadata": {},
      "source": [
        "Adapun fitur-fitur yang terpilih dalam feature selection ini adalah: ['battery_power', 'int_memory', 'm_dep', 'mobile_wt', 'n_cores', 'px_height', 'px_width', 'ram', 'sc_h', 'talk_time'], saya menggunakan modul SelectKBest yang disediakan sklear untuk membantu pemilihan fitur. Fitur-fitur tersebut cocok karena mempengaruhi harga dari sebuah hp."
      ]
    },
    {
      "cell_type": "markdown",
      "metadata": {
        "id": "Zd_2N68bWAkj"
      },
      "source": [
        "## [75] **Classification**"
      ]
    },
    {
      "cell_type": "markdown",
      "metadata": {
        "id": "avihHMUe3Wr5"
      },
      "source": [
        "**Pada bagian ini Anda akan diminta untuk melakukan klasifikasi harga suatu mobile phone berdasarkan fitur-fitur yang sudah Anda pilih sebelumnya. Anda akan mencoba berbagai macam model klasifikasi seperti Decision Tree, Random Forest, Naive Bayes, dan K-nearest Neighbors untuk mencari model yang memiliki performa terbaik.**"
      ]
    },
    {
      "cell_type": "markdown",
      "metadata": {
        "id": "0BU-UDpS_vux"
      },
      "source": [
        "### [3] Preparation"
      ]
    },
    {
      "cell_type": "markdown",
      "metadata": {
        "id": "k0Rx9ijj1vxn"
      },
      "source": [
        "6\\. [3] Buatlah model K-Fold Cross Validation yang akan digunakan untuk membagi dataset train dan test menjadi beberapa bagian (*fold*). Strategi ini akan Anda gunakan pada semua *classifier* dibandingkan dengan strategi sebelumnya yang hanya membagi data ke dalam data training dan testing menggunakan method `train_test_split`."
      ]
    },
    {
      "cell_type": "code",
      "execution_count": 18,
      "metadata": {
        "id": "OH_X8ztTiPNk"
      },
      "outputs": [
        {
          "name": "stdout",
          "output_type": "stream",
          "text": [
            "Matrix of features\n",
            "[[2.2 0.  1.  ... 0.  0.  1. ]\n",
            " [0.5 1.  0.  ... 1.  1.  0. ]\n",
            " [0.5 1.  2.  ... 1.  1.  0. ]\n",
            " ...\n",
            " [0.9 1.  1.  ... 1.  1.  0. ]\n",
            " [0.9 0.  4.  ... 1.  1.  1. ]\n",
            " [2.  1.  5.  ... 1.  1.  1. ]]\n",
            "--------------------------------------------------\n",
            "Target Variable\n",
            "[0. 1. 1. ... 0. 0. 1.]\n"
          ]
        }
      ],
      "source": [
        "X = mobilePhone.iloc[:, 2:-1].values\n",
        "y = mobilePhone. iloc [:, 1].values\n",
        "print(\"Matrix of features\", X, sep='\\n')\n",
        "print(\"--------------------------------------------------\")\n",
        "print(\"Target Variable\", y, sep='\\n')"
      ]
    },
    {
      "cell_type": "code",
      "execution_count": 19,
      "metadata": {},
      "outputs": [],
      "source": [
        "#  K-Fold Cross-Validation\n",
        "from sklearn.model_selection import cross_validate\n",
        "def cross_validation(model, X, y, _cv=5):\n",
        "      '''Function to perform 5 Folds Cross-Validation\n",
        "       Parameters\n",
        "       ----------\n",
        "      model: Python Class, default=None\n",
        "              This is the machine learning algorithm to be used for training.\n",
        "      _X: array\n",
        "           This is the matrix of features.\n",
        "      _y: array\n",
        "           This is the target variable.\n",
        "      _cv: int, default=5\n",
        "          Determines the number of folds for cross-validation.\n",
        "       Returns\n",
        "       -------\n",
        "       The function returns a dictionary containing the metrics 'accuracy', 'precision',\n",
        "       'recall', 'f1' for both training set and validation set.\n",
        "      '''\n",
        "      _scoring = ['accuracy', 'precision', 'recall', 'f1']\n",
        "      results = cross_validate(estimator=model,\n",
        "                               X=X,\n",
        "                               y=y,\n",
        "                               cv=_cv,\n",
        "                               scoring=_scoring,\n",
        "                               return_train_score=True)\n",
        "      \n",
        "      return {\"Training Accuracy scores\": results['train_accuracy'],\n",
        "              \"Mean Training Accuracy\": results['train_accuracy'].mean()*100,\n",
        "              \"Training Precision scores\": results['train_precision'],\n",
        "              \"Mean Training Precision\": results['train_precision'].mean(),\n",
        "              \"Training Recall scores\": results['train_recall'],\n",
        "              \"Mean Training Recall\": results['train_recall'].mean(),\n",
        "              \"Training F1 scores\": results['train_f1'],\n",
        "              \"Mean Training F1 Score\": results['train_f1'].mean(),\n",
        "              \"Validation Accuracy scores\": results['test_accuracy'],\n",
        "              \"Mean Validation Accuracy\": results['test_accuracy'].mean()*100,\n",
        "              \"Validation Precision scores\": results['test_precision'],\n",
        "              \"Mean Validation Precision\": results['test_precision'].mean(),\n",
        "              \"Validation Recall scores\": results['test_recall'],\n",
        "              \"Mean Validation Recall\": results['test_recall'].mean(),\n",
        "              \"Validation F1 scores\": results['test_f1'],\n",
        "              \"Mean Validation F1 Score\": results['test_f1'].mean()\n",
        "              }\n",
        "\n",
        "#Referensi: https://www.section.io/engineering-education/how-to-implement-k-fold-cross-validation/"
      ]
    },
    {
      "cell_type": "markdown",
      "metadata": {
        "id": "9inMOAFxW3Uh"
      },
      "source": [
        "### [19] Decision Tree"
      ]
    },
    {
      "cell_type": "markdown",
      "metadata": {
        "id": "1mm499viX-M0"
      },
      "source": [
        "7\\. [4] Implementasikan model Decision Tree tanpa konfigurasi parameter apapun, serta berikan hasil evaluasinya!"
      ]
    },
    {
      "cell_type": "code",
      "execution_count": 20,
      "metadata": {
        "id": "yrTlpXM1iPjm"
      },
      "outputs": [
        {
          "name": "stdout",
          "output_type": "stream",
          "text": [
            "{'Training Accuracy scores': array([1., 1., 1., 1., 1.]), 'Mean Training Accuracy': 100.0, 'Training Precision scores': array([1., 1., 1., 1., 1.]), 'Mean Training Precision': 1.0, 'Training Recall scores': array([1., 1., 1., 1., 1.]), 'Mean Training Recall': 1.0, 'Training F1 scores': array([1., 1., 1., 1., 1.]), 'Mean Training F1 Score': 1.0, 'Validation Accuracy scores': array([0.515 , 0.49  , 0.4425, 0.455 , 0.4925]), 'Mean Validation Accuracy': 47.9, 'Validation Precision scores': array([0.51041667, 0.48453608, 0.44019139, 0.45238095, 0.48756219]), 'Mean Validation Precision': 0.47501745562727615, 'Validation Recall scores': array([0.49494949, 0.47474747, 0.46464646, 0.47979798, 0.49494949]), 'Mean Validation Recall': 0.48181818181818176, 'Validation F1 scores': array([0.5025641 , 0.47959184, 0.45208845, 0.46568627, 0.49122807]), 'Mean Validation F1 Score': 0.4782317472144982}\n"
          ]
        }
      ],
      "source": [
        "from sklearn.tree import DecisionTreeClassifier\n",
        "decision_tree_model = DecisionTreeClassifier()\n",
        "decision_tree_result = cross_validation(decision_tree_model, X, y, 5)\n",
        "print(decision_tree_result)"
      ]
    },
    {
      "cell_type": "markdown",
      "metadata": {
        "id": "xv7Fru2ebkZb"
      },
      "source": [
        "8\\. [4] Implementasikan model Decision Tree dengan memberikan parameter nilai `min_samples_leaf=50`; serta berikan hasil evaluasinya!"
      ]
    },
    {
      "cell_type": "code",
      "execution_count": 21,
      "metadata": {
        "id": "7Ll1nIE2iP6A"
      },
      "outputs": [
        {
          "name": "stdout",
          "output_type": "stream",
          "text": [
            "{'Training Accuracy scores': array([0.62625 , 0.626875, 0.61375 , 0.62125 , 0.616875]), 'Mean Training Accuracy': 62.09999999999999, 'Training Precision scores': array([0.6218593 , 0.64617691, 0.60984848, 0.6159601 , 0.59551761]), 'Mean Training Precision': 0.6178724804034847, 'Training Recall scores': array([0.625     , 0.54419192, 0.60984848, 0.62373737, 0.70454545]), 'Mean Training Recall': 0.6214646464646465, 'Training F1 scores': array([0.62342569, 0.59081563, 0.60984848, 0.61982434, 0.6454598 ]), 'Mean Training F1 Score': 0.6178747898639833, 'Validation Accuracy scores': array([0.5275, 0.4825, 0.49  , 0.495 , 0.52  ]), 'Mean Validation Accuracy': 50.3, 'Validation Precision scores': array([0.52380952, 0.47457627, 0.48469388, 0.49009901, 0.51293103]), 'Mean Validation Precision': 0.49722194338614667, 'Validation Recall scores': array([0.5       , 0.42424242, 0.47979798, 0.5       , 0.6010101 ]), 'Mean Validation Recall': 0.501010101010101, 'Validation F1 scores': array([0.51162791, 0.448     , 0.4822335 , 0.495     , 0.55348837]), 'Mean Validation F1 Score': 0.4980699563215677}\n"
          ]
        }
      ],
      "source": [
        "from sklearn.tree import DecisionTreeClassifier\n",
        "decision_tree_model = DecisionTreeClassifier(min_samples_leaf=50)\n",
        "decision_tree_result = cross_validation(decision_tree_model, X, y, 5)\n",
        "print(decision_tree_result)"
      ]
    },
    {
      "cell_type": "markdown",
      "metadata": {
        "id": "q90rtM8MdnGU"
      },
      "source": [
        "9\\. [6] Bandingkan model yang dibuat pada soal nomor 7 dan nomor 8, manakah yang lebih baik? Berikan analisis Anda terkait bagaimana hubungan perubahan parameter tersebut dengan kualitas hasil klasifikasi!"
      ]
    },
    {
      "cell_type": "markdown",
      "metadata": {
        "id": "oikaDKV0dnGV"
      },
      "source": [
        "> Jawaban: \n",
        "\n",
        "> Berdasarkan model yang dibuat pada nomor 7 dan 8, model yang lebih baik adalah model no 8 karena F1 scorenya lebih tinggi."
      ]
    },
    {
      "cell_type": "markdown",
      "metadata": {
        "id": "H3811o_r3W2T"
      },
      "source": [
        "10\\. [5] Buatlah model yang memiliki performa yang lebih bagus dibanding kedua model sebelumnya! Anda dibebaskan untuk melakukan eksplorasi dalam mengkonfigurasi parameter yang dipakai."
      ]
    },
    {
      "cell_type": "code",
      "execution_count": 22,
      "metadata": {
        "id": "fAjKvo8yiRQB"
      },
      "outputs": [
        {
          "name": "stdout",
          "output_type": "stream",
          "text": [
            "{'Training Accuracy scores': array([0.58375 , 0.5925  , 0.57625 , 0.588125, 0.585   ]), 'Mean Training Accuracy': 58.5125, 'Training Precision scores': array([0.56923077, 0.59210526, 0.57744565, 0.57888493, 0.59411765]), 'Mean Training Precision': 0.5823568532756443, 'Training Recall scores': array([0.6540404 , 0.56818182, 0.53661616, 0.61616162, 0.51010101]), 'Mean Training Recall': 0.577020202020202, 'Training F1 scores': array([0.60869565, 0.57989691, 0.55628272, 0.5969419 , 0.54891304]), 'Mean Training F1 Score': 0.5781460442812444, 'Validation Accuracy scores': array([0.5325, 0.515 , 0.52  , 0.49  , 0.5325]), 'Mean Validation Accuracy': 51.800000000000004, 'Validation Precision scores': array([0.52380952, 0.51111111, 0.51530612, 0.48598131, 0.53107345]), 'Mean Validation Precision': 0.5134563024217027, 'Validation Recall scores': array([0.61111111, 0.46464646, 0.51010101, 0.52525253, 0.47474747]), 'Mean Validation Recall': 0.5171717171717172, 'Validation F1 scores': array([0.56410256, 0.48677249, 0.51269036, 0.50485437, 0.50133333]), 'Mean Validation F1 Score': 0.5139506216940746}\n"
          ]
        }
      ],
      "source": [
        "from sklearn.tree import DecisionTreeClassifier\n",
        "decision_tree_model = DecisionTreeClassifier(criterion=\"entropy\",\n",
        "                                     min_samples_leaf=100)\n",
        "decision_tree_result = cross_validation(decision_tree_model, X, y, 5)\n",
        "print(decision_tree_result)"
      ]
    },
    {
      "cell_type": "markdown",
      "metadata": {
        "id": "4Qzu0GmLXLF8"
      },
      "source": [
        "### [18] Random Forest"
      ]
    },
    {
      "cell_type": "markdown",
      "metadata": {
        "id": "XX-Fw5IKuGW1"
      },
      "source": [
        "11\\. [4] Implementasikan model Random Forest tanpa konfigurasi parameter apapun, serta berikan hasil evaluasinya!"
      ]
    },
    {
      "cell_type": "code",
      "execution_count": 23,
      "metadata": {
        "id": "7bdchBYiiR36"
      },
      "outputs": [
        {
          "name": "stdout",
          "output_type": "stream",
          "text": [
            "{'Training Accuracy scores': array([1., 1., 1., 1., 1.]), 'Mean Training Accuracy': 100.0, 'Training Precision scores': array([1., 1., 1., 1., 1.]), 'Mean Training Precision': 1.0, 'Training Recall scores': array([1., 1., 1., 1., 1.]), 'Mean Training Recall': 1.0, 'Training F1 scores': array([1., 1., 1., 1., 1.]), 'Mean Training F1 Score': 1.0, 'Validation Accuracy scores': array([0.5025, 0.47  , 0.46  , 0.4725, 0.495 ]), 'Mean Validation Accuracy': 48.0, 'Validation Precision scores': array([0.49723757, 0.46315789, 0.4494382 , 0.46060606, 0.48863636]), 'Mean Validation Precision': 0.4718152180574462, 'Validation Recall scores': array([0.45454545, 0.44444444, 0.4040404 , 0.38383838, 0.43434343]), 'Mean Validation Recall': 0.4242424242424242, 'Validation F1 scores': array([0.47493404, 0.45360825, 0.42553191, 0.41873278, 0.45989305]), 'Mean Validation F1 Score': 0.4465400059506199}\n"
          ]
        }
      ],
      "source": [
        "from sklearn.ensemble import RandomForestClassifier\n",
        "random_forest_classifier_model = RandomForestClassifier()\n",
        "random_forest_classifier_result = cross_validation(random_forest_classifier_model, X, y, 5)\n",
        "print(random_forest_classifier_result)"
      ]
    },
    {
      "cell_type": "markdown",
      "metadata": {
        "id": "xtJr-aswuQpO"
      },
      "source": [
        "12\\. [8] Implementasikan model Random Forest dengan parameter yang didapatkan dari hasil Hyperparameter Tuning, serta berikan hasil evaluasinya!"
      ]
    },
    {
      "cell_type": "code",
      "execution_count": null,
      "metadata": {
        "id": "5HFjrTD2iSnU"
      },
      "outputs": [],
      "source": []
    },
    {
      "cell_type": "markdown",
      "metadata": {
        "id": "m9q2bUyML9IO"
      },
      "source": [
        "13\\. [6] Bandingkan model yang dibuat pada soal nomor 11 dan nomor 12, manakah yang lebih baik? Berikan analisis Anda terkait bagaimana hubungan perubahan parameter tersebut dengan kualitas hasil klasifikasi!"
      ]
    },
    {
      "cell_type": "markdown",
      "metadata": {
        "id": "-Z8ISug7fR7X"
      },
      "source": [
        "> Jawaban: \n",
        "\n",
        "> \n"
      ]
    },
    {
      "cell_type": "markdown",
      "metadata": {
        "id": "GYjdBnEGXLSt"
      },
      "source": [
        "### [16] Naive Bayes"
      ]
    },
    {
      "cell_type": "markdown",
      "metadata": {
        "id": "Ye29g1MxZC8X"
      },
      "source": [
        "14\\. [4] Implementasikan model dari salah satu variasi Naive Bayes; serta berikan hasil evaluasinya!"
      ]
    },
    {
      "cell_type": "code",
      "execution_count": null,
      "metadata": {
        "id": "ekaf-eMsiTZ_"
      },
      "outputs": [],
      "source": []
    },
    {
      "cell_type": "markdown",
      "metadata": {
        "id": "xsWO4hMrjuAe"
      },
      "source": [
        "15\\. [6] Apa alasan dan pertimbangan Anda dalam memilih variasi tersebut dibandingkan variasi Naive Bayes lainnya? "
      ]
    },
    {
      "cell_type": "markdown",
      "metadata": {
        "id": "ouWhbqaHiZd4"
      },
      "source": [
        "> Jawaban:\n",
        "\n",
        "> "
      ]
    },
    {
      "cell_type": "markdown",
      "metadata": {
        "id": "VsSeCbX4F47y"
      },
      "source": [
        "16\\. [6] Masing-masing variasi Naive Bayes dibuat khusus untuk menyesuaikan tipe data tertentu pada data yang digunakan. Jika data yang ada memiliki tipe fitur yang bervariasi (numerik, biner, kategorik, dll), apakah kita bisa menggunakan salah satu variasi algoritma saja? Bagaimana strategi Anda dalam menganani kasus tersebut?"
      ]
    },
    {
      "cell_type": "markdown",
      "metadata": {
        "id": "Ke7dIWhXGctn"
      },
      "source": [
        "> Jawaban:\n",
        "\n",
        "> "
      ]
    },
    {
      "cell_type": "markdown",
      "metadata": {
        "id": "fgcOGrgNXLOb"
      },
      "source": [
        "### [12] K-nearest Neighbors"
      ]
    },
    {
      "cell_type": "markdown",
      "metadata": {
        "id": "t8rTVurcyq6H"
      },
      "source": [
        "17\\. [4] Implementasikan model KNN dengan memberikan parameter nilai `n_neighbors=3`; serta berikan hasil evaluasinya!"
      ]
    },
    {
      "cell_type": "code",
      "execution_count": 25,
      "metadata": {
        "id": "iBgt6hlliUKa"
      },
      "outputs": [
        {
          "ename": "ValueError",
          "evalue": "Expected 2D array, got 1D array instead:\narray=[0. 1. 1. ... 0. 0. 1.].\nReshape your data either using array.reshape(-1, 1) if your data has a single feature or array.reshape(1, -1) if it contains a single sample.",
          "output_type": "error",
          "traceback": [
            "\u001b[0;31m---------------------------------------------------------------------------\u001b[0m",
            "\u001b[0;31mValueError\u001b[0m                                Traceback (most recent call last)",
            "\u001b[1;32m/Users/rirismelissawinonatogatorop/Desktop/KASDD/Tugas2/E_Tugas2_1906398906_Riris Melissa Winona Togatorop.ipynb Cell 61\u001b[0m in \u001b[0;36m<cell line: 3>\u001b[0;34m()\u001b[0m\n\u001b[1;32m      <a href='vscode-notebook-cell:/Users/rirismelissawinonatogatorop/Desktop/KASDD/Tugas2/E_Tugas2_1906398906_Riris%20Melissa%20Winona%20Togatorop.ipynb#Y114sZmlsZQ%3D%3D?line=0'>1</a>\u001b[0m \u001b[39mfrom\u001b[39;00m \u001b[39msklearn\u001b[39;00m\u001b[39m.\u001b[39;00m\u001b[39mneighbors\u001b[39;00m \u001b[39mimport\u001b[39;00m KNeighborsClassifier\n\u001b[1;32m      <a href='vscode-notebook-cell:/Users/rirismelissawinonatogatorop/Desktop/KASDD/Tugas2/E_Tugas2_1906398906_Riris%20Melissa%20Winona%20Togatorop.ipynb#Y114sZmlsZQ%3D%3D?line=1'>2</a>\u001b[0m neigh \u001b[39m=\u001b[39m KNeighborsClassifier(n_neighbors\u001b[39m=\u001b[39m\u001b[39m3\u001b[39m)\n\u001b[0;32m----> <a href='vscode-notebook-cell:/Users/rirismelissawinonatogatorop/Desktop/KASDD/Tugas2/E_Tugas2_1906398906_Riris%20Melissa%20Winona%20Togatorop.ipynb#Y114sZmlsZQ%3D%3D?line=2'>3</a>\u001b[0m neigh\u001b[39m.\u001b[39;49mfit(y, X)\n\u001b[1;32m      <a href='vscode-notebook-cell:/Users/rirismelissawinonatogatorop/Desktop/KASDD/Tugas2/E_Tugas2_1906398906_Riris%20Melissa%20Winona%20Togatorop.ipynb#Y114sZmlsZQ%3D%3D?line=4'>5</a>\u001b[0m \u001b[39mprint\u001b[39m(neigh\u001b[39m.\u001b[39mpredict([[\u001b[39m1.1\u001b[39m]]))\n\u001b[1;32m      <a href='vscode-notebook-cell:/Users/rirismelissawinonatogatorop/Desktop/KASDD/Tugas2/E_Tugas2_1906398906_Riris%20Melissa%20Winona%20Togatorop.ipynb#Y114sZmlsZQ%3D%3D?line=6'>7</a>\u001b[0m \u001b[39mprint\u001b[39m(neigh\u001b[39m.\u001b[39mpredict_proba([[\u001b[39m0.9\u001b[39m]]))\n",
            "File \u001b[0;32m/Library/Frameworks/Python.framework/Versions/3.9/lib/python3.9/site-packages/sklearn/neighbors/_classification.py:198\u001b[0m, in \u001b[0;36mKNeighborsClassifier.fit\u001b[0;34m(self, X, y)\u001b[0m\n\u001b[1;32m    179\u001b[0m \u001b[39m\"\"\"Fit the k-nearest neighbors classifier from the training dataset.\u001b[39;00m\n\u001b[1;32m    180\u001b[0m \n\u001b[1;32m    181\u001b[0m \u001b[39mParameters\u001b[39;00m\n\u001b[0;32m   (...)\u001b[0m\n\u001b[1;32m    194\u001b[0m \u001b[39m    The fitted k-nearest neighbors classifier.\u001b[39;00m\n\u001b[1;32m    195\u001b[0m \u001b[39m\"\"\"\u001b[39;00m\n\u001b[1;32m    196\u001b[0m \u001b[39mself\u001b[39m\u001b[39m.\u001b[39mweights \u001b[39m=\u001b[39m _check_weights(\u001b[39mself\u001b[39m\u001b[39m.\u001b[39mweights)\n\u001b[0;32m--> 198\u001b[0m \u001b[39mreturn\u001b[39;00m \u001b[39mself\u001b[39;49m\u001b[39m.\u001b[39;49m_fit(X, y)\n",
            "File \u001b[0;32m/Library/Frameworks/Python.framework/Versions/3.9/lib/python3.9/site-packages/sklearn/neighbors/_base.py:400\u001b[0m, in \u001b[0;36mNeighborsBase._fit\u001b[0;34m(self, X, y)\u001b[0m\n\u001b[1;32m    398\u001b[0m \u001b[39mif\u001b[39;00m \u001b[39mself\u001b[39m\u001b[39m.\u001b[39m_get_tags()[\u001b[39m\"\u001b[39m\u001b[39mrequires_y\u001b[39m\u001b[39m\"\u001b[39m]:\n\u001b[1;32m    399\u001b[0m     \u001b[39mif\u001b[39;00m \u001b[39mnot\u001b[39;00m \u001b[39misinstance\u001b[39m(X, (KDTree, BallTree, NeighborsBase)):\n\u001b[0;32m--> 400\u001b[0m         X, y \u001b[39m=\u001b[39m \u001b[39mself\u001b[39;49m\u001b[39m.\u001b[39;49m_validate_data(X, y, accept_sparse\u001b[39m=\u001b[39;49m\u001b[39m\"\u001b[39;49m\u001b[39mcsr\u001b[39;49m\u001b[39m\"\u001b[39;49m, multi_output\u001b[39m=\u001b[39;49m\u001b[39mTrue\u001b[39;49;00m)\n\u001b[1;32m    402\u001b[0m     \u001b[39mif\u001b[39;00m is_classifier(\u001b[39mself\u001b[39m):\n\u001b[1;32m    403\u001b[0m         \u001b[39m# Classification targets require a specific format\u001b[39;00m\n\u001b[1;32m    404\u001b[0m         \u001b[39mif\u001b[39;00m y\u001b[39m.\u001b[39mndim \u001b[39m==\u001b[39m \u001b[39m1\u001b[39m \u001b[39mor\u001b[39;00m y\u001b[39m.\u001b[39mndim \u001b[39m==\u001b[39m \u001b[39m2\u001b[39m \u001b[39mand\u001b[39;00m y\u001b[39m.\u001b[39mshape[\u001b[39m1\u001b[39m] \u001b[39m==\u001b[39m \u001b[39m1\u001b[39m:\n",
            "File \u001b[0;32m/Library/Frameworks/Python.framework/Versions/3.9/lib/python3.9/site-packages/sklearn/base.py:581\u001b[0m, in \u001b[0;36mBaseEstimator._validate_data\u001b[0;34m(self, X, y, reset, validate_separately, **check_params)\u001b[0m\n\u001b[1;32m    579\u001b[0m         y \u001b[39m=\u001b[39m check_array(y, \u001b[39m*\u001b[39m\u001b[39m*\u001b[39mcheck_y_params)\n\u001b[1;32m    580\u001b[0m     \u001b[39melse\u001b[39;00m:\n\u001b[0;32m--> 581\u001b[0m         X, y \u001b[39m=\u001b[39m check_X_y(X, y, \u001b[39m*\u001b[39;49m\u001b[39m*\u001b[39;49mcheck_params)\n\u001b[1;32m    582\u001b[0m     out \u001b[39m=\u001b[39m X, y\n\u001b[1;32m    584\u001b[0m \u001b[39mif\u001b[39;00m \u001b[39mnot\u001b[39;00m no_val_X \u001b[39mand\u001b[39;00m check_params\u001b[39m.\u001b[39mget(\u001b[39m\"\u001b[39m\u001b[39mensure_2d\u001b[39m\u001b[39m\"\u001b[39m, \u001b[39mTrue\u001b[39;00m):\n",
            "File \u001b[0;32m/Library/Frameworks/Python.framework/Versions/3.9/lib/python3.9/site-packages/sklearn/utils/validation.py:964\u001b[0m, in \u001b[0;36mcheck_X_y\u001b[0;34m(X, y, accept_sparse, accept_large_sparse, dtype, order, copy, force_all_finite, ensure_2d, allow_nd, multi_output, ensure_min_samples, ensure_min_features, y_numeric, estimator)\u001b[0m\n\u001b[1;32m    961\u001b[0m \u001b[39mif\u001b[39;00m y \u001b[39mis\u001b[39;00m \u001b[39mNone\u001b[39;00m:\n\u001b[1;32m    962\u001b[0m     \u001b[39mraise\u001b[39;00m \u001b[39mValueError\u001b[39;00m(\u001b[39m\"\u001b[39m\u001b[39my cannot be None\u001b[39m\u001b[39m\"\u001b[39m)\n\u001b[0;32m--> 964\u001b[0m X \u001b[39m=\u001b[39m check_array(\n\u001b[1;32m    965\u001b[0m     X,\n\u001b[1;32m    966\u001b[0m     accept_sparse\u001b[39m=\u001b[39;49maccept_sparse,\n\u001b[1;32m    967\u001b[0m     accept_large_sparse\u001b[39m=\u001b[39;49maccept_large_sparse,\n\u001b[1;32m    968\u001b[0m     dtype\u001b[39m=\u001b[39;49mdtype,\n\u001b[1;32m    969\u001b[0m     order\u001b[39m=\u001b[39;49morder,\n\u001b[1;32m    970\u001b[0m     copy\u001b[39m=\u001b[39;49mcopy,\n\u001b[1;32m    971\u001b[0m     force_all_finite\u001b[39m=\u001b[39;49mforce_all_finite,\n\u001b[1;32m    972\u001b[0m     ensure_2d\u001b[39m=\u001b[39;49mensure_2d,\n\u001b[1;32m    973\u001b[0m     allow_nd\u001b[39m=\u001b[39;49mallow_nd,\n\u001b[1;32m    974\u001b[0m     ensure_min_samples\u001b[39m=\u001b[39;49mensure_min_samples,\n\u001b[1;32m    975\u001b[0m     ensure_min_features\u001b[39m=\u001b[39;49mensure_min_features,\n\u001b[1;32m    976\u001b[0m     estimator\u001b[39m=\u001b[39;49mestimator,\n\u001b[1;32m    977\u001b[0m )\n\u001b[1;32m    979\u001b[0m y \u001b[39m=\u001b[39m _check_y(y, multi_output\u001b[39m=\u001b[39mmulti_output, y_numeric\u001b[39m=\u001b[39my_numeric)\n\u001b[1;32m    981\u001b[0m check_consistent_length(X, y)\n",
            "File \u001b[0;32m/Library/Frameworks/Python.framework/Versions/3.9/lib/python3.9/site-packages/sklearn/utils/validation.py:769\u001b[0m, in \u001b[0;36mcheck_array\u001b[0;34m(array, accept_sparse, accept_large_sparse, dtype, order, copy, force_all_finite, ensure_2d, allow_nd, ensure_min_samples, ensure_min_features, estimator)\u001b[0m\n\u001b[1;32m    767\u001b[0m     \u001b[39m# If input is 1D raise error\u001b[39;00m\n\u001b[1;32m    768\u001b[0m     \u001b[39mif\u001b[39;00m array\u001b[39m.\u001b[39mndim \u001b[39m==\u001b[39m \u001b[39m1\u001b[39m:\n\u001b[0;32m--> 769\u001b[0m         \u001b[39mraise\u001b[39;00m \u001b[39mValueError\u001b[39;00m(\n\u001b[1;32m    770\u001b[0m             \u001b[39m\"\u001b[39m\u001b[39mExpected 2D array, got 1D array instead:\u001b[39m\u001b[39m\\n\u001b[39;00m\u001b[39marray=\u001b[39m\u001b[39m{}\u001b[39;00m\u001b[39m.\u001b[39m\u001b[39m\\n\u001b[39;00m\u001b[39m\"\u001b[39m\n\u001b[1;32m    771\u001b[0m             \u001b[39m\"\u001b[39m\u001b[39mReshape your data either using array.reshape(-1, 1) if \u001b[39m\u001b[39m\"\u001b[39m\n\u001b[1;32m    772\u001b[0m             \u001b[39m\"\u001b[39m\u001b[39myour data has a single feature or array.reshape(1, -1) \u001b[39m\u001b[39m\"\u001b[39m\n\u001b[1;32m    773\u001b[0m             \u001b[39m\"\u001b[39m\u001b[39mif it contains a single sample.\u001b[39m\u001b[39m\"\u001b[39m\u001b[39m.\u001b[39mformat(array)\n\u001b[1;32m    774\u001b[0m         )\n\u001b[1;32m    776\u001b[0m \u001b[39m# make sure we actually converted to numeric:\u001b[39;00m\n\u001b[1;32m    777\u001b[0m \u001b[39mif\u001b[39;00m dtype_numeric \u001b[39mand\u001b[39;00m array\u001b[39m.\u001b[39mdtype\u001b[39m.\u001b[39mkind \u001b[39min\u001b[39;00m \u001b[39m\"\u001b[39m\u001b[39mOUSV\u001b[39m\u001b[39m\"\u001b[39m:\n",
            "\u001b[0;31mValueError\u001b[0m: Expected 2D array, got 1D array instead:\narray=[0. 1. 1. ... 0. 0. 1.].\nReshape your data either using array.reshape(-1, 1) if your data has a single feature or array.reshape(1, -1) if it contains a single sample."
          ]
        }
      ],
      "source": [
        "from sklearn.neighbors import KNeighborsClassifier\n",
        "neigh = KNeighborsClassifier(n_neighbors=3)\n",
        "neigh.fit(X, y)\n",
        "\n",
        "print(neigh.predict([[1.1]]))\n",
        "\n",
        "print(neigh.predict_proba([[0.9]]))"
      ]
    },
    {
      "cell_type": "markdown",
      "metadata": {
        "id": "Uqj3bKgDzP71"
      },
      "source": [
        "18\\. [8] Implementasikan model KNN dengan parameter yang didapatkan dari hasil Hyperparameter Tuning, serta berikan hasil evaluasinya!"
      ]
    },
    {
      "cell_type": "code",
      "execution_count": null,
      "metadata": {
        "id": "XnxRKOjJiUga"
      },
      "outputs": [],
      "source": []
    },
    {
      "cell_type": "markdown",
      "metadata": {
        "id": "0bJvYH9F38uw"
      },
      "source": [
        "### [7] Analisis"
      ]
    },
    {
      "cell_type": "markdown",
      "metadata": {
        "id": "ER7H289m3-Cv"
      },
      "source": [
        "19\\. [7] Dari keempat variasi model (Decision Tree, Random Forest, Naive Bayes, dan KNN) yang sudah Anda coba, manakah model yang memiliki performa terbaik? Berikan analisis Anda!"
      ]
    },
    {
      "cell_type": "markdown",
      "metadata": {
        "id": "eReK2O-s4X-m"
      },
      "source": [
        "> Jawaban:\n",
        "\n",
        "> "
      ]
    }
  ],
  "metadata": {
    "colab": {
      "collapsed_sections": [],
      "provenance": []
    },
    "kernelspec": {
      "display_name": "Python 3.9.6 64-bit",
      "language": "python",
      "name": "python3"
    },
    "language_info": {
      "codemirror_mode": {
        "name": "ipython",
        "version": 3
      },
      "file_extension": ".py",
      "mimetype": "text/x-python",
      "name": "python",
      "nbconvert_exporter": "python",
      "pygments_lexer": "ipython3",
      "version": "3.9.6"
    },
    "vscode": {
      "interpreter": {
        "hash": "aee8b7b246df8f9039afb4144a1f6fd8d2ca17a180786b69acc140d282b71a49"
      }
    }
  },
  "nbformat": 4,
  "nbformat_minor": 0
}
